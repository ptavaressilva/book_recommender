{
 "cells": [
  {
   "cell_type": "markdown",
   "id": "caa73e68",
   "metadata": {},
   "source": [
    "# Hybrid recommender system"
   ]
  },
  {
   "cell_type": "markdown",
   "id": "3edcf32d",
   "metadata": {},
   "source": [
    "The objetive of this project is to create a hybrid book recommendation system that combines three types of recommenders:\n",
    "- Simple recommender\n",
    "- Collaborative filtering engine\n",
    "- **Content-based recommenders**\n",
    "\n",
    "For this recommender we will use the dataset available at https://www.kaggle.com/sp1thas/book-depository-dataset?select=dataset.csv\n",
    "\n",
    "More information on the three types of recommenders available at https://www.datacamp.com/community/tutorials/recommender-systems-python (partial tutorial, using a different dataset).\n",
    "\n",
    "**Content recommender**\n",
    "\n",
    "The system will recommend books that are similar to a particular book using the pairwise cosine similarity scores based on the book's:\n",
    "\n",
    "- Categories\n",
    "- Description (synopsis)\n",
    "- Title\n",
    "- Authors\n",
    "\n",
    "In order to simplify this exercise, only books in english will be recommended (to reduce stop word processing)."
   ]
  },
  {
   "cell_type": "markdown",
   "id": "7d9d64b0",
   "metadata": {},
   "source": [
    "## Imports"
   ]
  },
  {
   "cell_type": "code",
   "execution_count": 1,
   "id": "3fa07166",
   "metadata": {},
   "outputs": [],
   "source": [
    "import pandas as pd"
   ]
  },
  {
   "cell_type": "markdown",
   "id": "529b3ac4",
   "metadata": {},
   "source": [
    "# Load preprocessed data"
   ]
  },
  {
   "cell_type": "code",
   "execution_count": 2,
   "id": "a87e5934",
   "metadata": {},
   "outputs": [],
   "source": [
    "dataset = pd.read_pickle(\"./pickle_files/d2_dataset.pkl\")"
   ]
  },
  {
   "cell_type": "code",
   "execution_count": 3,
   "id": "8e34f5e1",
   "metadata": {},
   "outputs": [],
   "source": [
    "authors = pd.read_pickle(\"./pickle_files/d2_authors.pkl\")"
   ]
  },
  {
   "cell_type": "code",
   "execution_count": 4,
   "id": "afaacdcf",
   "metadata": {},
   "outputs": [],
   "source": [
    "categories = pd.read_pickle(\"./pickle_files/d2_categories.pkl\")"
   ]
  },
  {
   "cell_type": "code",
   "execution_count": 5,
   "id": "b5755a32",
   "metadata": {},
   "outputs": [],
   "source": [
    "formats = pd.read_pickle(\"./pickle_files/d2_formats.pkl\")"
   ]
  },
  {
   "cell_type": "code",
   "execution_count": 6,
   "id": "0a39e8c9",
   "metadata": {},
   "outputs": [
    {
     "data": {
      "text/html": [
       "<div>\n",
       "<style scoped>\n",
       "    .dataframe tbody tr th:only-of-type {\n",
       "        vertical-align: middle;\n",
       "    }\n",
       "\n",
       "    .dataframe tbody tr th {\n",
       "        vertical-align: top;\n",
       "    }\n",
       "\n",
       "    .dataframe thead th {\n",
       "        text-align: right;\n",
       "    }\n",
       "</style>\n",
       "<table border=\"1\" class=\"dataframe\">\n",
       "  <thead>\n",
       "    <tr style=\"text-align: right;\">\n",
       "      <th></th>\n",
       "      <th>Authors</th>\n",
       "      <th>Categories</th>\n",
       "      <th>Description</th>\n",
       "      <th>ID</th>\n",
       "      <th>Image_URL</th>\n",
       "      <th>ISBN10</th>\n",
       "      <th>ISBN13</th>\n",
       "      <th>Language</th>\n",
       "      <th>Publication_date</th>\n",
       "      <th>Title</th>\n",
       "    </tr>\n",
       "  </thead>\n",
       "  <tbody>\n",
       "    <tr>\n",
       "      <th>0</th>\n",
       "      <td>[1]</td>\n",
       "      <td>[214, 220, 237, 2646, 2647, 2659, 2660, 2679]</td>\n",
       "      <td>SOLDIER FIVE is an elite soldier's explosive m...</td>\n",
       "      <td>-2095311218</td>\n",
       "      <td>https://d1w7fb2mkkr3kw.cloudfront.net/assets/i...</td>\n",
       "      <td>184018907X</td>\n",
       "      <td>9781840189070</td>\n",
       "      <td>en</td>\n",
       "      <td>2004-10-14</td>\n",
       "      <td>Soldier Five : The Real Truth About The Bravo ...</td>\n",
       "    </tr>\n",
       "    <tr>\n",
       "      <th>1</th>\n",
       "      <td>[2, 3]</td>\n",
       "      <td>[235, 3386]</td>\n",
       "      <td>John Moran and Carl Williams were the two bigg...</td>\n",
       "      <td>-2090952917</td>\n",
       "      <td>https://d1w7fb2mkkr3kw.cloudfront.net/assets/i...</td>\n",
       "      <td>184454737X</td>\n",
       "      <td>9781844547371</td>\n",
       "      <td>en</td>\n",
       "      <td>2009-03-13</td>\n",
       "      <td>Underbelly : The Gangland War</td>\n",
       "    </tr>\n",
       "    <tr>\n",
       "      <th>2</th>\n",
       "      <td>[4]</td>\n",
       "      <td>[358, 2630, 360, 2632]</td>\n",
       "      <td>Sir Phillip knew that Eloise Bridgerton was a ...</td>\n",
       "      <td>185860283</td>\n",
       "      <td>https://d1w7fb2mkkr3kw.cloudfront.net/assets/i...</td>\n",
       "      <td>8416327866</td>\n",
       "      <td>9788416327867</td>\n",
       "      <td>es</td>\n",
       "      <td>2020-04-30</td>\n",
       "      <td>A Sir Phillip, Con Amor</td>\n",
       "    </tr>\n",
       "    <tr>\n",
       "      <th>3</th>\n",
       "      <td>[5, 6, 7, 8]</td>\n",
       "      <td>[377, 2978, 2980]</td>\n",
       "      <td>The Third Book of General Ignorance  gathers t...</td>\n",
       "      <td>930776004</td>\n",
       "      <td>https://d1w7fb2mkkr3kw.cloudfront.net/assets/i...</td>\n",
       "      <td>571308996</td>\n",
       "      <td>9780571308996</td>\n",
       "      <td>en</td>\n",
       "      <td>2015-10-01</td>\n",
       "      <td>QI: The Third Book of General Ignorance</td>\n",
       "    </tr>\n",
       "    <tr>\n",
       "      <th>4</th>\n",
       "      <td>[9]</td>\n",
       "      <td>[2813, 2980]</td>\n",
       "      <td>The Try Guys deliver their first book-an inspi...</td>\n",
       "      <td>367819524</td>\n",
       "      <td>https://d1w7fb2mkkr3kw.cloudfront.net/assets/i...</td>\n",
       "      <td>8352518</td>\n",
       "      <td>9780008352516</td>\n",
       "      <td>en</td>\n",
       "      <td>2019-06-18</td>\n",
       "      <td>The Hidden Power of F*cking Up</td>\n",
       "    </tr>\n",
       "  </tbody>\n",
       "</table>\n",
       "</div>"
      ],
      "text/plain": [
       "        Authors                                     Categories  \\\n",
       "0           [1]  [214, 220, 237, 2646, 2647, 2659, 2660, 2679]   \n",
       "1        [2, 3]                                    [235, 3386]   \n",
       "2           [4]                         [358, 2630, 360, 2632]   \n",
       "3  [5, 6, 7, 8]                              [377, 2978, 2980]   \n",
       "4           [9]                                   [2813, 2980]   \n",
       "\n",
       "                                         Description          ID  \\\n",
       "0  SOLDIER FIVE is an elite soldier's explosive m... -2095311218   \n",
       "1  John Moran and Carl Williams were the two bigg... -2090952917   \n",
       "2  Sir Phillip knew that Eloise Bridgerton was a ...   185860283   \n",
       "3  The Third Book of General Ignorance  gathers t...   930776004   \n",
       "4  The Try Guys deliver their first book-an inspi...   367819524   \n",
       "\n",
       "                                           Image_URL      ISBN10  \\\n",
       "0  https://d1w7fb2mkkr3kw.cloudfront.net/assets/i...  184018907X   \n",
       "1  https://d1w7fb2mkkr3kw.cloudfront.net/assets/i...  184454737X   \n",
       "2  https://d1w7fb2mkkr3kw.cloudfront.net/assets/i...  8416327866   \n",
       "3  https://d1w7fb2mkkr3kw.cloudfront.net/assets/i...   571308996   \n",
       "4  https://d1w7fb2mkkr3kw.cloudfront.net/assets/i...     8352518   \n",
       "\n",
       "          ISBN13 Language Publication_date  \\\n",
       "0  9781840189070       en       2004-10-14   \n",
       "1  9781844547371       en       2009-03-13   \n",
       "2  9788416327867       es       2020-04-30   \n",
       "3  9780571308996       en       2015-10-01   \n",
       "4  9780008352516       en       2019-06-18   \n",
       "\n",
       "                                               Title  \n",
       "0  Soldier Five : The Real Truth About The Bravo ...  \n",
       "1                      Underbelly : The Gangland War  \n",
       "2                            A Sir Phillip, Con Amor  \n",
       "3            QI: The Third Book of General Ignorance  \n",
       "4                     The Hidden Power of F*cking Up  "
      ]
     },
     "execution_count": 6,
     "metadata": {},
     "output_type": "execute_result"
    }
   ],
   "source": [
    "dataset.head()"
   ]
  },
  {
   "cell_type": "code",
   "execution_count": 7,
   "id": "89bc69a6",
   "metadata": {},
   "outputs": [
    {
     "data": {
      "text/html": [
       "<div>\n",
       "<style scoped>\n",
       "    .dataframe tbody tr th:only-of-type {\n",
       "        vertical-align: middle;\n",
       "    }\n",
       "\n",
       "    .dataframe tbody tr th {\n",
       "        vertical-align: top;\n",
       "    }\n",
       "\n",
       "    .dataframe thead th {\n",
       "        text-align: right;\n",
       "    }\n",
       "</style>\n",
       "<table border=\"1\" class=\"dataframe\">\n",
       "  <thead>\n",
       "    <tr style=\"text-align: right;\">\n",
       "      <th></th>\n",
       "      <th>Author_ID</th>\n",
       "      <th>Author_Name</th>\n",
       "    </tr>\n",
       "  </thead>\n",
       "  <tbody>\n",
       "    <tr>\n",
       "      <th>0</th>\n",
       "      <td>9561</td>\n",
       "      <td>NaN</td>\n",
       "    </tr>\n",
       "    <tr>\n",
       "      <th>1</th>\n",
       "      <td>451324</td>\n",
       "      <td># House Press</td>\n",
       "    </tr>\n",
       "    <tr>\n",
       "      <th>2</th>\n",
       "      <td>454250</td>\n",
       "      <td># Petal Press</td>\n",
       "    </tr>\n",
       "    <tr>\n",
       "      <th>3</th>\n",
       "      <td>249724</td>\n",
       "      <td>#GARCIA MIGUELE</td>\n",
       "    </tr>\n",
       "    <tr>\n",
       "      <th>4</th>\n",
       "      <td>287710</td>\n",
       "      <td>#Worldlcass Media</td>\n",
       "    </tr>\n",
       "  </tbody>\n",
       "</table>\n",
       "</div>"
      ],
      "text/plain": [
       "   Author_ID        Author_Name\n",
       "0       9561                NaN\n",
       "1     451324      # House Press\n",
       "2     454250      # Petal Press\n",
       "3     249724    #GARCIA MIGUELE\n",
       "4     287710  #Worldlcass Media"
      ]
     },
     "execution_count": 7,
     "metadata": {},
     "output_type": "execute_result"
    }
   ],
   "source": [
    "authors.head()"
   ]
  },
  {
   "cell_type": "code",
   "execution_count": 8,
   "id": "68067efd",
   "metadata": {},
   "outputs": [
    {
     "data": {
      "text/html": [
       "<div>\n",
       "<style scoped>\n",
       "    .dataframe tbody tr th:only-of-type {\n",
       "        vertical-align: middle;\n",
       "    }\n",
       "\n",
       "    .dataframe tbody tr th {\n",
       "        vertical-align: top;\n",
       "    }\n",
       "\n",
       "    .dataframe thead th {\n",
       "        text-align: right;\n",
       "    }\n",
       "</style>\n",
       "<table border=\"1\" class=\"dataframe\">\n",
       "  <thead>\n",
       "    <tr style=\"text-align: right;\">\n",
       "      <th></th>\n",
       "      <th>Category_ID</th>\n",
       "      <th>Category_Name</th>\n",
       "    </tr>\n",
       "  </thead>\n",
       "  <tbody>\n",
       "    <tr>\n",
       "      <th>0</th>\n",
       "      <td>1998</td>\n",
       "      <td>.Net Programming</td>\n",
       "    </tr>\n",
       "    <tr>\n",
       "      <th>1</th>\n",
       "      <td>176</td>\n",
       "      <td>20th Century &amp; Contemporary Classical Music</td>\n",
       "    </tr>\n",
       "    <tr>\n",
       "      <th>2</th>\n",
       "      <td>3291</td>\n",
       "      <td>20th Century &amp; Contemporary Classical Music</td>\n",
       "    </tr>\n",
       "    <tr>\n",
       "      <th>3</th>\n",
       "      <td>2659</td>\n",
       "      <td>20th Century History: C 1900  To C 2000</td>\n",
       "    </tr>\n",
       "    <tr>\n",
       "      <th>4</th>\n",
       "      <td>2661</td>\n",
       "      <td>21st Century History: From C 2000 -</td>\n",
       "    </tr>\n",
       "  </tbody>\n",
       "</table>\n",
       "</div>"
      ],
      "text/plain": [
       "   Category_ID                                Category_Name\n",
       "0         1998                             .Net Programming\n",
       "1          176  20th Century & Contemporary Classical Music\n",
       "2         3291  20th Century & Contemporary Classical Music\n",
       "3         2659      20th Century History: C 1900  To C 2000\n",
       "4         2661          21st Century History: From C 2000 -"
      ]
     },
     "execution_count": 8,
     "metadata": {},
     "output_type": "execute_result"
    }
   ],
   "source": [
    "categories.head()"
   ]
  },
  {
   "cell_type": "code",
   "execution_count": 9,
   "id": "5f20c0d1",
   "metadata": {},
   "outputs": [
    {
     "data": {
      "text/html": [
       "<div>\n",
       "<style scoped>\n",
       "    .dataframe tbody tr th:only-of-type {\n",
       "        vertical-align: middle;\n",
       "    }\n",
       "\n",
       "    .dataframe tbody tr th {\n",
       "        vertical-align: top;\n",
       "    }\n",
       "\n",
       "    .dataframe thead th {\n",
       "        text-align: right;\n",
       "    }\n",
       "</style>\n",
       "<table border=\"1\" class=\"dataframe\">\n",
       "  <thead>\n",
       "    <tr style=\"text-align: right;\">\n",
       "      <th></th>\n",
       "      <th>Format_ID</th>\n",
       "      <th>Format_Name</th>\n",
       "    </tr>\n",
       "  </thead>\n",
       "  <tbody>\n",
       "    <tr>\n",
       "      <th>0</th>\n",
       "      <td>21</td>\n",
       "      <td>Address</td>\n",
       "    </tr>\n",
       "    <tr>\n",
       "      <th>1</th>\n",
       "      <td>5</td>\n",
       "      <td>Audio</td>\n",
       "    </tr>\n",
       "    <tr>\n",
       "      <th>2</th>\n",
       "      <td>27</td>\n",
       "      <td>Bath</td>\n",
       "    </tr>\n",
       "    <tr>\n",
       "      <th>3</th>\n",
       "      <td>44</td>\n",
       "      <td>Big</td>\n",
       "    </tr>\n",
       "    <tr>\n",
       "      <th>4</th>\n",
       "      <td>14</td>\n",
       "      <td>Board</td>\n",
       "    </tr>\n",
       "  </tbody>\n",
       "</table>\n",
       "</div>"
      ],
      "text/plain": [
       "   Format_ID Format_Name\n",
       "0         21     Address\n",
       "1          5       Audio\n",
       "2         27        Bath\n",
       "3         44         Big\n",
       "4         14       Board"
      ]
     },
     "execution_count": 9,
     "metadata": {},
     "output_type": "execute_result"
    }
   ],
   "source": [
    "formats.head()"
   ]
  },
  {
   "cell_type": "markdown",
   "id": "cbfc4628",
   "metadata": {},
   "source": [
    "# Content based recommender"
   ]
  },
  {
   "cell_type": "markdown",
   "id": "6cf5f28c",
   "metadata": {},
   "source": [
    "We will compute Term Frequency-Inverse Document Frequency (TF-IDF) vectors for each document.\n",
    "Scikit-learn has a built-in TfIdfVectorizer class to compute the TF-IDF matrix.\n",
    "Steps\n",
    "1. Reduce the dataset to a more manageable size (it is not the objetive of this exercise to manage large dataset)\n",
    "2. Remove stop words (the', 'a', etc.)\n",
    "3. Replace not-a-number values with a blank string\n",
    "4. Construct the TF-IDF matrix on the data."
   ]
  },
  {
   "cell_type": "markdown",
   "id": "19c29141",
   "metadata": {},
   "source": [
    "## Reduce the dataset to a more manageable size"
   ]
  },
  {
   "cell_type": "code",
   "execution_count": 10,
   "id": "fe79742d",
   "metadata": {},
   "outputs": [
    {
     "data": {
      "text/plain": [
       "1109383"
      ]
     },
     "execution_count": 10,
     "metadata": {},
     "output_type": "execute_result"
    }
   ],
   "source": [
    "dataset.shape[0]"
   ]
  },
  {
   "cell_type": "markdown",
   "id": "04c0e497",
   "metadata": {},
   "source": [
    "### Remove books in languages other than 'en'"
   ]
  },
  {
   "cell_type": "markdown",
   "id": "9e6f5c50",
   "metadata": {},
   "source": [
    "As mentioned in the introduction, in order to simplify this exercise, only books in english will be recommended (to simplify stop word processing)."
   ]
  },
  {
   "cell_type": "code",
   "execution_count": 11,
   "id": "c6669935",
   "metadata": {},
   "outputs": [
    {
     "data": {
      "text/plain": [
       "en     986575\n",
       "es      25366\n",
       "de      16180\n",
       "fr       7495\n",
       "pl       2924\n",
       "        ...  \n",
       "ae          1\n",
       "aus         1\n",
       "lad         1\n",
       "dak         1\n",
       "rm          1\n",
       "Name: Language, Length: 162, dtype: int64"
      ]
     },
     "execution_count": 11,
     "metadata": {},
     "output_type": "execute_result"
    }
   ],
   "source": [
    "dataset.Language.value_counts()"
   ]
  },
  {
   "cell_type": "code",
   "execution_count": 12,
   "id": "b2966e1a",
   "metadata": {},
   "outputs": [],
   "source": [
    "dataset.drop(dataset.loc[dataset['Language']!='en'].index, inplace=True)"
   ]
  },
  {
   "cell_type": "code",
   "execution_count": 13,
   "id": "179600ed",
   "metadata": {},
   "outputs": [
    {
     "data": {
      "text/plain": [
       "986575"
      ]
     },
     "execution_count": 13,
     "metadata": {},
     "output_type": "execute_result"
    }
   ],
   "source": [
    "dataset.shape[0]"
   ]
  },
  {
   "cell_type": "markdown",
   "id": "2b6f935d",
   "metadata": {},
   "source": [
    "### Remove books without descriptions"
   ]
  },
  {
   "cell_type": "code",
   "execution_count": 14,
   "id": "0ababdd0",
   "metadata": {},
   "outputs": [
    {
     "data": {
      "text/plain": [
       "34331"
      ]
     },
     "execution_count": 14,
     "metadata": {},
     "output_type": "execute_result"
    }
   ],
   "source": [
    "dataset.Description.isna().sum()"
   ]
  },
  {
   "cell_type": "code",
   "execution_count": 15,
   "id": "04ddd763",
   "metadata": {},
   "outputs": [],
   "source": [
    "dataset.drop(dataset.loc[dataset.Description.isna()].index, inplace=True)"
   ]
  },
  {
   "cell_type": "code",
   "execution_count": 16,
   "id": "224dd8e6",
   "metadata": {},
   "outputs": [
    {
     "data": {
      "text/plain": [
       "952244"
      ]
     },
     "execution_count": 16,
     "metadata": {},
     "output_type": "execute_result"
    }
   ],
   "source": [
    "dataset.shape[0]"
   ]
  },
  {
   "cell_type": "markdown",
   "id": "cc580566",
   "metadata": {},
   "source": [
    "### Drop duplicated titles"
   ]
  },
  {
   "cell_type": "code",
   "execution_count": 17,
   "id": "2c2999c4",
   "metadata": {},
   "outputs": [
    {
     "data": {
      "text/plain": [
       "Journal Your Life's Journey : Journals To Write In For Women Cute Plain Blank Notebooks                     208\n",
       "Rental Property Record Book : Rental Property Landlord Income Maintenance Management Tracker Record Book    178\n",
       "Bullet Journal : Dot Journaling 110 pages - Size A4 - notebook 8.5\" x 11\" Dotted paper                      177\n",
       "Name: Title, dtype: int64"
      ]
     },
     "execution_count": 17,
     "metadata": {},
     "output_type": "execute_result"
    }
   ],
   "source": [
    "dataset.Title.value_counts().head(3)"
   ]
  },
  {
   "cell_type": "markdown",
   "id": "e9c3a66e",
   "metadata": {},
   "source": [
    "One book appears more than 200 times! Let's eliminate the oldest duplicates using the published date."
   ]
  },
  {
   "cell_type": "code",
   "execution_count": 18,
   "id": "67a1a240",
   "metadata": {},
   "outputs": [],
   "source": [
    "dataset.sort_values(by = \"Publication_date\", na_position =\"last\", inplace=True)"
   ]
  },
  {
   "cell_type": "code",
   "execution_count": 19,
   "id": "7e4032dd",
   "metadata": {},
   "outputs": [],
   "source": [
    "dataset.drop_duplicates(\"Title\", inplace=True)"
   ]
  },
  {
   "cell_type": "code",
   "execution_count": 20,
   "id": "57a0b95a",
   "metadata": {},
   "outputs": [
    {
     "data": {
      "text/plain": [
       "820220"
      ]
     },
     "execution_count": 20,
     "metadata": {},
     "output_type": "execute_result"
    }
   ],
   "source": [
    "dataset.shape[0]"
   ]
  },
  {
   "cell_type": "markdown",
   "id": "90eaa23c",
   "metadata": {},
   "source": [
    "### Drop duplicated ISBN10"
   ]
  },
  {
   "cell_type": "code",
   "execution_count": 21,
   "id": "fe3b9d48",
   "metadata": {},
   "outputs": [],
   "source": [
    "dataset.drop_duplicates(\"ISBN10\", inplace=True)"
   ]
  },
  {
   "cell_type": "code",
   "execution_count": 22,
   "id": "0292a633",
   "metadata": {},
   "outputs": [
    {
     "data": {
      "text/plain": [
       "820220"
      ]
     },
     "execution_count": 22,
     "metadata": {},
     "output_type": "execute_result"
    }
   ],
   "source": [
    "dataset.shape[0]"
   ]
  },
  {
   "cell_type": "markdown",
   "id": "86177fc1",
   "metadata": {},
   "source": [
    "### Drop books with missing values"
   ]
  },
  {
   "cell_type": "code",
   "execution_count": 23,
   "id": "88aa6615",
   "metadata": {},
   "outputs": [],
   "source": [
    "dataset.dropna(axis = 0, inplace = True)"
   ]
  },
  {
   "cell_type": "code",
   "execution_count": 24,
   "id": "0d3fd365",
   "metadata": {},
   "outputs": [
    {
     "data": {
      "text/plain": [
       "820188"
      ]
     },
     "execution_count": 24,
     "metadata": {},
     "output_type": "execute_result"
    }
   ],
   "source": [
    "dataset.shape[0]"
   ]
  },
  {
   "cell_type": "markdown",
   "id": "98d42042",
   "metadata": {},
   "source": [
    "### Drop books yet to be published"
   ]
  },
  {
   "cell_type": "code",
   "execution_count": 25,
   "id": "cb9b32da",
   "metadata": {},
   "outputs": [],
   "source": [
    "dataset.drop(dataset.loc[dataset.Publication_date > \"2021-11-01\"].index, inplace=True)"
   ]
  },
  {
   "cell_type": "code",
   "execution_count": 26,
   "id": "2589454c",
   "metadata": {},
   "outputs": [
    {
     "data": {
      "text/plain": [
       "819350"
      ]
     },
     "execution_count": 26,
     "metadata": {},
     "output_type": "execute_result"
    }
   ],
   "source": [
    "dataset.shape[0]"
   ]
  },
  {
   "cell_type": "markdown",
   "id": "ceed7d4d",
   "metadata": {},
   "source": [
    "### Use only books in a popular genre"
   ]
  },
  {
   "cell_type": "code",
   "execution_count": 27,
   "id": "e40822d9",
   "metadata": {},
   "outputs": [
    {
     "data": {
      "text/html": [
       "<div>\n",
       "<style scoped>\n",
       "    .dataframe tbody tr th:only-of-type {\n",
       "        vertical-align: middle;\n",
       "    }\n",
       "\n",
       "    .dataframe tbody tr th {\n",
       "        vertical-align: top;\n",
       "    }\n",
       "\n",
       "    .dataframe thead th {\n",
       "        text-align: right;\n",
       "    }\n",
       "</style>\n",
       "<table border=\"1\" class=\"dataframe\">\n",
       "  <thead>\n",
       "    <tr style=\"text-align: right;\">\n",
       "      <th></th>\n",
       "      <th>Category_ID</th>\n",
       "      <th>Category_Name</th>\n",
       "    </tr>\n",
       "  </thead>\n",
       "  <tbody>\n",
       "    <tr>\n",
       "      <th>0</th>\n",
       "      <td>1998</td>\n",
       "      <td>.Net Programming</td>\n",
       "    </tr>\n",
       "    <tr>\n",
       "      <th>1</th>\n",
       "      <td>176</td>\n",
       "      <td>20th Century &amp; Contemporary Classical Music</td>\n",
       "    </tr>\n",
       "    <tr>\n",
       "      <th>2</th>\n",
       "      <td>3291</td>\n",
       "      <td>20th Century &amp; Contemporary Classical Music</td>\n",
       "    </tr>\n",
       "    <tr>\n",
       "      <th>3</th>\n",
       "      <td>2659</td>\n",
       "      <td>20th Century History: C 1900  To C 2000</td>\n",
       "    </tr>\n",
       "    <tr>\n",
       "      <th>4</th>\n",
       "      <td>2661</td>\n",
       "      <td>21st Century History: From C 2000 -</td>\n",
       "    </tr>\n",
       "    <tr>\n",
       "      <th>...</th>\n",
       "      <td>...</td>\n",
       "      <td>...</td>\n",
       "    </tr>\n",
       "    <tr>\n",
       "      <th>2770</th>\n",
       "      <td>1634</td>\n",
       "      <td>Zoology: Invertebrates</td>\n",
       "    </tr>\n",
       "    <tr>\n",
       "      <th>2771</th>\n",
       "      <td>1644</td>\n",
       "      <td>Zoology: Mammals</td>\n",
       "    </tr>\n",
       "    <tr>\n",
       "      <th>2772</th>\n",
       "      <td>1639</td>\n",
       "      <td>Zoology: Vertebrates</td>\n",
       "    </tr>\n",
       "    <tr>\n",
       "      <th>2773</th>\n",
       "      <td>3007</td>\n",
       "      <td>Zoos &amp; Wildlife Parks</td>\n",
       "    </tr>\n",
       "    <tr>\n",
       "      <th>2774</th>\n",
       "      <td>3215</td>\n",
       "      <td>Zoroastrianism</td>\n",
       "    </tr>\n",
       "  </tbody>\n",
       "</table>\n",
       "<p>2775 rows × 2 columns</p>\n",
       "</div>"
      ],
      "text/plain": [
       "      Category_ID                                Category_Name\n",
       "0            1998                             .Net Programming\n",
       "1             176  20th Century & Contemporary Classical Music\n",
       "2            3291  20th Century & Contemporary Classical Music\n",
       "3            2659      20th Century History: C 1900  To C 2000\n",
       "4            2661          21st Century History: From C 2000 -\n",
       "...           ...                                          ...\n",
       "2770         1634                       Zoology: Invertebrates\n",
       "2771         1644                             Zoology: Mammals\n",
       "2772         1639                         Zoology: Vertebrates\n",
       "2773         3007                        Zoos & Wildlife Parks\n",
       "2774         3215                               Zoroastrianism\n",
       "\n",
       "[2775 rows x 2 columns]"
      ]
     },
     "execution_count": 27,
     "metadata": {},
     "output_type": "execute_result"
    }
   ],
   "source": [
    "categories"
   ]
  },
  {
   "cell_type": "code",
   "execution_count": 28,
   "id": "954540a2",
   "metadata": {},
   "outputs": [],
   "source": [
    "book_categories = dataset.Categories.copy()"
   ]
  },
  {
   "cell_type": "code",
   "execution_count": 29,
   "id": "c2d825c1",
   "metadata": {},
   "outputs": [
    {
     "data": {
      "text/plain": [
       "1071127    [242, 295, 2722, 2723, 2724, 2725, 2736, 2737,...\n",
       "217812                                                [1477]\n",
       "901711                                                 [287]\n",
       "361771                            [335, 341, 2622, 362, 370]\n",
       "748231                     [249, 271, 273, 2802, 2812, 2982]\n",
       "Name: Categories, dtype: object"
      ]
     },
     "execution_count": 29,
     "metadata": {},
     "output_type": "execute_result"
    }
   ],
   "source": [
    "book_categories.head()"
   ]
  },
  {
   "cell_type": "code",
   "execution_count": 30,
   "id": "f1e49638",
   "metadata": {},
   "outputs": [
    {
     "data": {
      "text/plain": [
       "'[242, 295, 2722, 2723, 2724, 2725, 2736, 2737, 2738, 2740, 2741, 3234, 783, 3328]'"
      ]
     },
     "execution_count": 30,
     "metadata": {},
     "output_type": "execute_result"
    }
   ],
   "source": [
    "book_categories.iloc[0]"
   ]
  },
  {
   "cell_type": "code",
   "execution_count": 31,
   "id": "33a7c0ab",
   "metadata": {},
   "outputs": [
    {
     "data": {
      "text/plain": [
       "str"
      ]
     },
     "execution_count": 31,
     "metadata": {},
     "output_type": "execute_result"
    }
   ],
   "source": [
    "type(book_categories.iloc[0])"
   ]
  },
  {
   "cell_type": "markdown",
   "id": "3a65db07",
   "metadata": {},
   "source": [
    "Remove brackets"
   ]
  },
  {
   "cell_type": "code",
   "execution_count": 32,
   "id": "27797954",
   "metadata": {},
   "outputs": [],
   "source": [
    "book_categories = book_categories.apply(lambda x: x[1:-1])"
   ]
  },
  {
   "cell_type": "code",
   "execution_count": 33,
   "id": "c4e06e27",
   "metadata": {},
   "outputs": [
    {
     "data": {
      "text/plain": [
       "'242, 295, 2722, 2723, 2724, 2725, 2736, 2737, 2738, 2740, 2741, 3234, 783, 3328'"
      ]
     },
     "execution_count": 33,
     "metadata": {},
     "output_type": "execute_result"
    }
   ],
   "source": [
    "book_categories.iloc[0]"
   ]
  },
  {
   "cell_type": "code",
   "execution_count": 34,
   "id": "ea40260b",
   "metadata": {},
   "outputs": [
    {
     "data": {
      "text/plain": [
       "pandas.core.series.Series"
      ]
     },
     "execution_count": 34,
     "metadata": {},
     "output_type": "execute_result"
    }
   ],
   "source": [
    "type(book_categories)"
   ]
  },
  {
   "cell_type": "code",
   "execution_count": 35,
   "id": "8c58f974",
   "metadata": {},
   "outputs": [],
   "source": [
    "book_categories = book_categories.to_frame()"
   ]
  },
  {
   "cell_type": "code",
   "execution_count": 36,
   "id": "67bbfc75",
   "metadata": {},
   "outputs": [
    {
     "data": {
      "text/html": [
       "<div>\n",
       "<style scoped>\n",
       "    .dataframe tbody tr th:only-of-type {\n",
       "        vertical-align: middle;\n",
       "    }\n",
       "\n",
       "    .dataframe tbody tr th {\n",
       "        vertical-align: top;\n",
       "    }\n",
       "\n",
       "    .dataframe thead th {\n",
       "        text-align: right;\n",
       "    }\n",
       "</style>\n",
       "<table border=\"1\" class=\"dataframe\">\n",
       "  <thead>\n",
       "    <tr style=\"text-align: right;\">\n",
       "      <th></th>\n",
       "      <th>Categories</th>\n",
       "    </tr>\n",
       "  </thead>\n",
       "  <tbody>\n",
       "    <tr>\n",
       "      <th>1071127</th>\n",
       "      <td>242, 295, 2722, 2723, 2724, 2725, 2736, 2737, ...</td>\n",
       "    </tr>\n",
       "    <tr>\n",
       "      <th>217812</th>\n",
       "      <td>1477</td>\n",
       "    </tr>\n",
       "    <tr>\n",
       "      <th>901711</th>\n",
       "      <td>287</td>\n",
       "    </tr>\n",
       "    <tr>\n",
       "      <th>361771</th>\n",
       "      <td>335, 341, 2622, 362, 370</td>\n",
       "    </tr>\n",
       "    <tr>\n",
       "      <th>748231</th>\n",
       "      <td>249, 271, 273, 2802, 2812, 2982</td>\n",
       "    </tr>\n",
       "    <tr>\n",
       "      <th>...</th>\n",
       "      <td>...</td>\n",
       "    </tr>\n",
       "    <tr>\n",
       "      <th>927073</th>\n",
       "      <td>1520, 1541, 1549, 1593, 1721, 1778, 1791, 1833...</td>\n",
       "    </tr>\n",
       "    <tr>\n",
       "      <th>909485</th>\n",
       "      <td>1721, 1727</td>\n",
       "    </tr>\n",
       "    <tr>\n",
       "      <th>967678</th>\n",
       "      <td>107, 108, 110, 1823</td>\n",
       "    </tr>\n",
       "    <tr>\n",
       "      <th>1108881</th>\n",
       "      <td>3092, 3098, 3100, 3106</td>\n",
       "    </tr>\n",
       "    <tr>\n",
       "      <th>99656</th>\n",
       "      <td>754, 823, 3368, 1377</td>\n",
       "    </tr>\n",
       "  </tbody>\n",
       "</table>\n",
       "<p>819350 rows × 1 columns</p>\n",
       "</div>"
      ],
      "text/plain": [
       "                                                Categories\n",
       "1071127  242, 295, 2722, 2723, 2724, 2725, 2736, 2737, ...\n",
       "217812                                                1477\n",
       "901711                                                 287\n",
       "361771                            335, 341, 2622, 362, 370\n",
       "748231                     249, 271, 273, 2802, 2812, 2982\n",
       "...                                                    ...\n",
       "927073   1520, 1541, 1549, 1593, 1721, 1778, 1791, 1833...\n",
       "909485                                          1721, 1727\n",
       "967678                                 107, 108, 110, 1823\n",
       "1108881                             3092, 3098, 3100, 3106\n",
       "99656                                 754, 823, 3368, 1377\n",
       "\n",
       "[819350 rows x 1 columns]"
      ]
     },
     "execution_count": 36,
     "metadata": {},
     "output_type": "execute_result"
    }
   ],
   "source": [
    "book_categories"
   ]
  },
  {
   "cell_type": "code",
   "execution_count": 37,
   "id": "fdc5d37d",
   "metadata": {},
   "outputs": [],
   "source": [
    "expanded_categories = book_categories[\"Categories\"].str.split(\" \", expand = True)"
   ]
  },
  {
   "cell_type": "code",
   "execution_count": 38,
   "id": "9f4a4343",
   "metadata": {},
   "outputs": [
    {
     "data": {
      "text/html": [
       "<div>\n",
       "<style scoped>\n",
       "    .dataframe tbody tr th:only-of-type {\n",
       "        vertical-align: middle;\n",
       "    }\n",
       "\n",
       "    .dataframe tbody tr th {\n",
       "        vertical-align: top;\n",
       "    }\n",
       "\n",
       "    .dataframe thead th {\n",
       "        text-align: right;\n",
       "    }\n",
       "</style>\n",
       "<table border=\"1\" class=\"dataframe\">\n",
       "  <thead>\n",
       "    <tr style=\"text-align: right;\">\n",
       "      <th></th>\n",
       "      <th>0</th>\n",
       "      <th>1</th>\n",
       "      <th>2</th>\n",
       "      <th>3</th>\n",
       "      <th>4</th>\n",
       "      <th>5</th>\n",
       "      <th>6</th>\n",
       "      <th>7</th>\n",
       "      <th>8</th>\n",
       "      <th>9</th>\n",
       "      <th>...</th>\n",
       "      <th>77</th>\n",
       "      <th>78</th>\n",
       "      <th>79</th>\n",
       "      <th>80</th>\n",
       "      <th>81</th>\n",
       "      <th>82</th>\n",
       "      <th>83</th>\n",
       "      <th>84</th>\n",
       "      <th>85</th>\n",
       "      <th>86</th>\n",
       "    </tr>\n",
       "  </thead>\n",
       "  <tbody>\n",
       "    <tr>\n",
       "      <th>1071127</th>\n",
       "      <td>242,</td>\n",
       "      <td>295,</td>\n",
       "      <td>2722,</td>\n",
       "      <td>2723,</td>\n",
       "      <td>2724,</td>\n",
       "      <td>2725,</td>\n",
       "      <td>2736,</td>\n",
       "      <td>2737,</td>\n",
       "      <td>2738,</td>\n",
       "      <td>2740,</td>\n",
       "      <td>...</td>\n",
       "      <td>None</td>\n",
       "      <td>None</td>\n",
       "      <td>None</td>\n",
       "      <td>None</td>\n",
       "      <td>None</td>\n",
       "      <td>None</td>\n",
       "      <td>None</td>\n",
       "      <td>None</td>\n",
       "      <td>None</td>\n",
       "      <td>None</td>\n",
       "    </tr>\n",
       "    <tr>\n",
       "      <th>217812</th>\n",
       "      <td>1477</td>\n",
       "      <td>None</td>\n",
       "      <td>None</td>\n",
       "      <td>None</td>\n",
       "      <td>None</td>\n",
       "      <td>None</td>\n",
       "      <td>None</td>\n",
       "      <td>None</td>\n",
       "      <td>None</td>\n",
       "      <td>None</td>\n",
       "      <td>...</td>\n",
       "      <td>None</td>\n",
       "      <td>None</td>\n",
       "      <td>None</td>\n",
       "      <td>None</td>\n",
       "      <td>None</td>\n",
       "      <td>None</td>\n",
       "      <td>None</td>\n",
       "      <td>None</td>\n",
       "      <td>None</td>\n",
       "      <td>None</td>\n",
       "    </tr>\n",
       "    <tr>\n",
       "      <th>901711</th>\n",
       "      <td>287</td>\n",
       "      <td>None</td>\n",
       "      <td>None</td>\n",
       "      <td>None</td>\n",
       "      <td>None</td>\n",
       "      <td>None</td>\n",
       "      <td>None</td>\n",
       "      <td>None</td>\n",
       "      <td>None</td>\n",
       "      <td>None</td>\n",
       "      <td>...</td>\n",
       "      <td>None</td>\n",
       "      <td>None</td>\n",
       "      <td>None</td>\n",
       "      <td>None</td>\n",
       "      <td>None</td>\n",
       "      <td>None</td>\n",
       "      <td>None</td>\n",
       "      <td>None</td>\n",
       "      <td>None</td>\n",
       "      <td>None</td>\n",
       "    </tr>\n",
       "    <tr>\n",
       "      <th>361771</th>\n",
       "      <td>335,</td>\n",
       "      <td>341,</td>\n",
       "      <td>2622,</td>\n",
       "      <td>362,</td>\n",
       "      <td>370</td>\n",
       "      <td>None</td>\n",
       "      <td>None</td>\n",
       "      <td>None</td>\n",
       "      <td>None</td>\n",
       "      <td>None</td>\n",
       "      <td>...</td>\n",
       "      <td>None</td>\n",
       "      <td>None</td>\n",
       "      <td>None</td>\n",
       "      <td>None</td>\n",
       "      <td>None</td>\n",
       "      <td>None</td>\n",
       "      <td>None</td>\n",
       "      <td>None</td>\n",
       "      <td>None</td>\n",
       "      <td>None</td>\n",
       "    </tr>\n",
       "    <tr>\n",
       "      <th>748231</th>\n",
       "      <td>249,</td>\n",
       "      <td>271,</td>\n",
       "      <td>273,</td>\n",
       "      <td>2802,</td>\n",
       "      <td>2812,</td>\n",
       "      <td>2982</td>\n",
       "      <td>None</td>\n",
       "      <td>None</td>\n",
       "      <td>None</td>\n",
       "      <td>None</td>\n",
       "      <td>...</td>\n",
       "      <td>None</td>\n",
       "      <td>None</td>\n",
       "      <td>None</td>\n",
       "      <td>None</td>\n",
       "      <td>None</td>\n",
       "      <td>None</td>\n",
       "      <td>None</td>\n",
       "      <td>None</td>\n",
       "      <td>None</td>\n",
       "      <td>None</td>\n",
       "    </tr>\n",
       "    <tr>\n",
       "      <th>...</th>\n",
       "      <td>...</td>\n",
       "      <td>...</td>\n",
       "      <td>...</td>\n",
       "      <td>...</td>\n",
       "      <td>...</td>\n",
       "      <td>...</td>\n",
       "      <td>...</td>\n",
       "      <td>...</td>\n",
       "      <td>...</td>\n",
       "      <td>...</td>\n",
       "      <td>...</td>\n",
       "      <td>...</td>\n",
       "      <td>...</td>\n",
       "      <td>...</td>\n",
       "      <td>...</td>\n",
       "      <td>...</td>\n",
       "      <td>...</td>\n",
       "      <td>...</td>\n",
       "      <td>...</td>\n",
       "      <td>...</td>\n",
       "      <td>...</td>\n",
       "    </tr>\n",
       "    <tr>\n",
       "      <th>927073</th>\n",
       "      <td>1520,</td>\n",
       "      <td>1541,</td>\n",
       "      <td>1549,</td>\n",
       "      <td>1593,</td>\n",
       "      <td>1721,</td>\n",
       "      <td>1778,</td>\n",
       "      <td>1791,</td>\n",
       "      <td>1833,</td>\n",
       "      <td>2577</td>\n",
       "      <td>None</td>\n",
       "      <td>...</td>\n",
       "      <td>None</td>\n",
       "      <td>None</td>\n",
       "      <td>None</td>\n",
       "      <td>None</td>\n",
       "      <td>None</td>\n",
       "      <td>None</td>\n",
       "      <td>None</td>\n",
       "      <td>None</td>\n",
       "      <td>None</td>\n",
       "      <td>None</td>\n",
       "    </tr>\n",
       "    <tr>\n",
       "      <th>909485</th>\n",
       "      <td>1721,</td>\n",
       "      <td>1727</td>\n",
       "      <td>None</td>\n",
       "      <td>None</td>\n",
       "      <td>None</td>\n",
       "      <td>None</td>\n",
       "      <td>None</td>\n",
       "      <td>None</td>\n",
       "      <td>None</td>\n",
       "      <td>None</td>\n",
       "      <td>...</td>\n",
       "      <td>None</td>\n",
       "      <td>None</td>\n",
       "      <td>None</td>\n",
       "      <td>None</td>\n",
       "      <td>None</td>\n",
       "      <td>None</td>\n",
       "      <td>None</td>\n",
       "      <td>None</td>\n",
       "      <td>None</td>\n",
       "      <td>None</td>\n",
       "    </tr>\n",
       "    <tr>\n",
       "      <th>967678</th>\n",
       "      <td>107,</td>\n",
       "      <td>108,</td>\n",
       "      <td>110,</td>\n",
       "      <td>1823</td>\n",
       "      <td>None</td>\n",
       "      <td>None</td>\n",
       "      <td>None</td>\n",
       "      <td>None</td>\n",
       "      <td>None</td>\n",
       "      <td>None</td>\n",
       "      <td>...</td>\n",
       "      <td>None</td>\n",
       "      <td>None</td>\n",
       "      <td>None</td>\n",
       "      <td>None</td>\n",
       "      <td>None</td>\n",
       "      <td>None</td>\n",
       "      <td>None</td>\n",
       "      <td>None</td>\n",
       "      <td>None</td>\n",
       "      <td>None</td>\n",
       "    </tr>\n",
       "    <tr>\n",
       "      <th>1108881</th>\n",
       "      <td>3092,</td>\n",
       "      <td>3098,</td>\n",
       "      <td>3100,</td>\n",
       "      <td>3106</td>\n",
       "      <td>None</td>\n",
       "      <td>None</td>\n",
       "      <td>None</td>\n",
       "      <td>None</td>\n",
       "      <td>None</td>\n",
       "      <td>None</td>\n",
       "      <td>...</td>\n",
       "      <td>None</td>\n",
       "      <td>None</td>\n",
       "      <td>None</td>\n",
       "      <td>None</td>\n",
       "      <td>None</td>\n",
       "      <td>None</td>\n",
       "      <td>None</td>\n",
       "      <td>None</td>\n",
       "      <td>None</td>\n",
       "      <td>None</td>\n",
       "    </tr>\n",
       "    <tr>\n",
       "      <th>99656</th>\n",
       "      <td>754,</td>\n",
       "      <td>823,</td>\n",
       "      <td>3368,</td>\n",
       "      <td>1377</td>\n",
       "      <td>None</td>\n",
       "      <td>None</td>\n",
       "      <td>None</td>\n",
       "      <td>None</td>\n",
       "      <td>None</td>\n",
       "      <td>None</td>\n",
       "      <td>...</td>\n",
       "      <td>None</td>\n",
       "      <td>None</td>\n",
       "      <td>None</td>\n",
       "      <td>None</td>\n",
       "      <td>None</td>\n",
       "      <td>None</td>\n",
       "      <td>None</td>\n",
       "      <td>None</td>\n",
       "      <td>None</td>\n",
       "      <td>None</td>\n",
       "    </tr>\n",
       "  </tbody>\n",
       "</table>\n",
       "<p>819350 rows × 87 columns</p>\n",
       "</div>"
      ],
      "text/plain": [
       "            0      1      2      3      4      5      6      7      8      9   \\\n",
       "1071127   242,   295,  2722,  2723,  2724,  2725,  2736,  2737,  2738,  2740,   \n",
       "217812    1477   None   None   None   None   None   None   None   None   None   \n",
       "901711     287   None   None   None   None   None   None   None   None   None   \n",
       "361771    335,   341,  2622,   362,    370   None   None   None   None   None   \n",
       "748231    249,   271,   273,  2802,  2812,   2982   None   None   None   None   \n",
       "...        ...    ...    ...    ...    ...    ...    ...    ...    ...    ...   \n",
       "927073   1520,  1541,  1549,  1593,  1721,  1778,  1791,  1833,   2577   None   \n",
       "909485   1721,   1727   None   None   None   None   None   None   None   None   \n",
       "967678    107,   108,   110,   1823   None   None   None   None   None   None   \n",
       "1108881  3092,  3098,  3100,   3106   None   None   None   None   None   None   \n",
       "99656     754,   823,  3368,   1377   None   None   None   None   None   None   \n",
       "\n",
       "         ...    77    78    79    80    81    82    83    84    85    86  \n",
       "1071127  ...  None  None  None  None  None  None  None  None  None  None  \n",
       "217812   ...  None  None  None  None  None  None  None  None  None  None  \n",
       "901711   ...  None  None  None  None  None  None  None  None  None  None  \n",
       "361771   ...  None  None  None  None  None  None  None  None  None  None  \n",
       "748231   ...  None  None  None  None  None  None  None  None  None  None  \n",
       "...      ...   ...   ...   ...   ...   ...   ...   ...   ...   ...   ...  \n",
       "927073   ...  None  None  None  None  None  None  None  None  None  None  \n",
       "909485   ...  None  None  None  None  None  None  None  None  None  None  \n",
       "967678   ...  None  None  None  None  None  None  None  None  None  None  \n",
       "1108881  ...  None  None  None  None  None  None  None  None  None  None  \n",
       "99656    ...  None  None  None  None  None  None  None  None  None  None  \n",
       "\n",
       "[819350 rows x 87 columns]"
      ]
     },
     "execution_count": 38,
     "metadata": {},
     "output_type": "execute_result"
    }
   ],
   "source": [
    "expanded_categories"
   ]
  },
  {
   "cell_type": "code",
   "execution_count": 39,
   "id": "63c67c59",
   "metadata": {},
   "outputs": [
    {
     "data": {
      "text/plain": [
       "334,     29015\n",
       "292,     17643\n",
       "214,     14153\n",
       "2488,     9514\n",
       "336,      8991\n",
       "         ...  \n",
       "1572,        1\n",
       "1017         1\n",
       "1239         1\n",
       "1185         1\n",
       "1679,        1\n",
       "Name: 0, Length: 3587, dtype: int64"
      ]
     },
     "execution_count": 39,
     "metadata": {},
     "output_type": "execute_result"
    }
   ],
   "source": [
    "expanded_categories.iloc[:,0].value_counts()"
   ]
  },
  {
   "cell_type": "markdown",
   "id": "56411bd0",
   "metadata": {},
   "source": [
    "There are almost 30 thousand books with first category equal to 334"
   ]
  },
  {
   "cell_type": "code",
   "execution_count": 40,
   "id": "d1212feb",
   "metadata": {},
   "outputs": [
    {
     "data": {
      "text/html": [
       "<div>\n",
       "<style scoped>\n",
       "    .dataframe tbody tr th:only-of-type {\n",
       "        vertical-align: middle;\n",
       "    }\n",
       "\n",
       "    .dataframe tbody tr th {\n",
       "        vertical-align: top;\n",
       "    }\n",
       "\n",
       "    .dataframe thead th {\n",
       "        text-align: right;\n",
       "    }\n",
       "</style>\n",
       "<table border=\"1\" class=\"dataframe\">\n",
       "  <thead>\n",
       "    <tr style=\"text-align: right;\">\n",
       "      <th></th>\n",
       "      <th>Category_ID</th>\n",
       "      <th>Category_Name</th>\n",
       "    </tr>\n",
       "  </thead>\n",
       "  <tbody>\n",
       "    <tr>\n",
       "      <th>568</th>\n",
       "      <td>334</td>\n",
       "      <td>Contemporary Fiction</td>\n",
       "    </tr>\n",
       "  </tbody>\n",
       "</table>\n",
       "</div>"
      ],
      "text/plain": [
       "     Category_ID         Category_Name\n",
       "568          334  Contemporary Fiction"
      ]
     },
     "execution_count": 40,
     "metadata": {},
     "output_type": "execute_result"
    }
   ],
   "source": [
    "categories.loc[categories.Category_ID == 334]"
   ]
  },
  {
   "cell_type": "markdown",
   "id": "f49c1bea",
   "metadata": {},
   "source": [
    "Let's keep only books of contemporary fiction in order to reduce our dataset"
   ]
  },
  {
   "cell_type": "code",
   "execution_count": 41,
   "id": "9b99a767",
   "metadata": {},
   "outputs": [],
   "source": [
    "dataset = dataset[dataset.Categories.str.contains(\"334\")]"
   ]
  },
  {
   "cell_type": "code",
   "execution_count": 42,
   "id": "5d3381fe",
   "metadata": {},
   "outputs": [
    {
     "data": {
      "text/plain": [
       "51524"
      ]
     },
     "execution_count": 42,
     "metadata": {},
     "output_type": "execute_result"
    }
   ],
   "source": [
    "dataset.shape[0]"
   ]
  },
  {
   "cell_type": "markdown",
   "id": "20330b07",
   "metadata": {},
   "source": [
    "OK. Let's go forward with these 51524 books of contemporary fiction"
   ]
  },
  {
   "cell_type": "code",
   "execution_count": 43,
   "id": "c25a6569",
   "metadata": {},
   "outputs": [
    {
     "data": {
      "text/plain": [
       "10687"
      ]
     },
     "execution_count": 43,
     "metadata": {},
     "output_type": "execute_result"
    }
   ],
   "source": [
    "dataset['Description'].str.len().max()"
   ]
  },
  {
   "cell_type": "markdown",
   "id": "ea55e32f",
   "metadata": {},
   "source": [
    "The biggest book description has 10687 sharacters. It's way too long.\n",
    "Let's truncate the description at 100 characters, plus howmany necessary in order to leave the last word complete."
   ]
  },
  {
   "cell_type": "code",
   "execution_count": 44,
   "id": "702bfee7",
   "metadata": {},
   "outputs": [],
   "source": [
    "def smart_truncate(content):\n",
    "    if len(content) <= 100:\n",
    "        return content\n",
    "    else:\n",
    "        return ' '.join(content[:100+1].split(' ')[0:-1])"
   ]
  },
  {
   "cell_type": "code",
   "execution_count": 45,
   "id": "0f0ad786",
   "metadata": {},
   "outputs": [],
   "source": [
    "dataset['Short_Description'] = dataset.Description.apply(smart_truncate)"
   ]
  },
  {
   "cell_type": "code",
   "execution_count": 158,
   "id": "dae1b42c",
   "metadata": {},
   "outputs": [
    {
     "data": {
      "text/plain": [
       "'The King in Yellow is a book of short stories by the American writer Robert W. Chambers, first'"
      ]
     },
     "execution_count": 158,
     "metadata": {},
     "output_type": "execute_result"
    }
   ],
   "source": [
    "dataset.Short_Description.iloc[0]"
   ]
  },
  {
   "cell_type": "markdown",
   "id": "79cf798f",
   "metadata": {},
   "source": [
    "We need to reset the index before we proceed."
   ]
  },
  {
   "cell_type": "code",
   "execution_count": 67,
   "id": "966263e6",
   "metadata": {},
   "outputs": [
    {
     "data": {
      "text/html": [
       "<div>\n",
       "<style scoped>\n",
       "    .dataframe tbody tr th:only-of-type {\n",
       "        vertical-align: middle;\n",
       "    }\n",
       "\n",
       "    .dataframe tbody tr th {\n",
       "        vertical-align: top;\n",
       "    }\n",
       "\n",
       "    .dataframe thead th {\n",
       "        text-align: right;\n",
       "    }\n",
       "</style>\n",
       "<table border=\"1\" class=\"dataframe\">\n",
       "  <thead>\n",
       "    <tr style=\"text-align: right;\">\n",
       "      <th></th>\n",
       "      <th>Authors</th>\n",
       "      <th>Categories</th>\n",
       "      <th>Description</th>\n",
       "      <th>ID</th>\n",
       "      <th>Image_URL</th>\n",
       "      <th>ISBN10</th>\n",
       "      <th>ISBN13</th>\n",
       "      <th>Language</th>\n",
       "      <th>Publication_date</th>\n",
       "      <th>Title</th>\n",
       "      <th>Short_Description</th>\n",
       "    </tr>\n",
       "  </thead>\n",
       "  <tbody>\n",
       "    <tr>\n",
       "      <th>379552</th>\n",
       "      <td>[25746]</td>\n",
       "      <td>[334, 350, 2624, 355, 2629, 358, 2630]</td>\n",
       "      <td>The King in Yellow is a book of short stories ...</td>\n",
       "      <td>-1553238272</td>\n",
       "      <td>https://d1w7fb2mkkr3kw.cloudfront.net/assets/i...</td>\n",
       "      <td>238226201X</td>\n",
       "      <td>9782382262016</td>\n",
       "      <td>en</td>\n",
       "      <td>1895-01-01</td>\n",
       "      <td>The King in Yellow</td>\n",
       "      <td>The King in Yellow is a book of short stories ...</td>\n",
       "    </tr>\n",
       "    <tr>\n",
       "      <th>397601</th>\n",
       "      <td>[75858]</td>\n",
       "      <td>[334, 350, 2624]</td>\n",
       "      <td>\"To the priests, the soldiers, the judges, to ...</td>\n",
       "      <td>1823040226</td>\n",
       "      <td>https://d1w7fb2mkkr3kw.cloudfront.net/assets/i...</td>\n",
       "      <td>1463573219</td>\n",
       "      <td>9781463573218</td>\n",
       "      <td>en</td>\n",
       "      <td>1899-06-01</td>\n",
       "      <td>Torture Garden</td>\n",
       "      <td>\"To the priests, the soldiers, the judges, to ...</td>\n",
       "    </tr>\n",
       "    <tr>\n",
       "      <th>782624</th>\n",
       "      <td>[83068]</td>\n",
       "      <td>[334, 335, 2978, 2983, 3098]</td>\n",
       "      <td>Three Men on the Bummel (also known as Three M...</td>\n",
       "      <td>2133882611</td>\n",
       "      <td>https://d1w7fb2mkkr3kw.cloudfront.net/assets/i...</td>\n",
       "      <td>1774415607</td>\n",
       "      <td>9781774415603</td>\n",
       "      <td>en</td>\n",
       "      <td>1900-01-01</td>\n",
       "      <td>Three Men on Wheels</td>\n",
       "      <td>Three Men on the Bummel (also known as Three M...</td>\n",
       "    </tr>\n",
       "    <tr>\n",
       "      <th>785201</th>\n",
       "      <td>[83068]</td>\n",
       "      <td>[334, 2978, 2983]</td>\n",
       "      <td>They and I is an English humor classic from Je...</td>\n",
       "      <td>2133883946</td>\n",
       "      <td>https://d1w7fb2mkkr3kw.cloudfront.net/assets/i...</td>\n",
       "      <td>177441693X</td>\n",
       "      <td>9781774416938</td>\n",
       "      <td>en</td>\n",
       "      <td>1903-04-01</td>\n",
       "      <td>They and I</td>\n",
       "      <td>They and I is an English humor classic from Je...</td>\n",
       "    </tr>\n",
       "    <tr>\n",
       "      <th>767556</th>\n",
       "      <td>[83068]</td>\n",
       "      <td>[290, 334, 2978, 2983]</td>\n",
       "      <td>This classic collection of humourous essays fr...</td>\n",
       "      <td>2133879778</td>\n",
       "      <td>https://d1w7fb2mkkr3kw.cloudfront.net/assets/i...</td>\n",
       "      <td>1774412772</td>\n",
       "      <td>9781774412770</td>\n",
       "      <td>en</td>\n",
       "      <td>1905-06-01</td>\n",
       "      <td>Idle Ideas in 1905</td>\n",
       "      <td>This classic collection of humourous essays fr...</td>\n",
       "    </tr>\n",
       "  </tbody>\n",
       "</table>\n",
       "</div>"
      ],
      "text/plain": [
       "        Authors                              Categories  \\\n",
       "379552  [25746]  [334, 350, 2624, 355, 2629, 358, 2630]   \n",
       "397601  [75858]                        [334, 350, 2624]   \n",
       "782624  [83068]            [334, 335, 2978, 2983, 3098]   \n",
       "785201  [83068]                       [334, 2978, 2983]   \n",
       "767556  [83068]                  [290, 334, 2978, 2983]   \n",
       "\n",
       "                                              Description          ID  \\\n",
       "379552  The King in Yellow is a book of short stories ... -1553238272   \n",
       "397601  \"To the priests, the soldiers, the judges, to ...  1823040226   \n",
       "782624  Three Men on the Bummel (also known as Three M...  2133882611   \n",
       "785201  They and I is an English humor classic from Je...  2133883946   \n",
       "767556  This classic collection of humourous essays fr...  2133879778   \n",
       "\n",
       "                                                Image_URL      ISBN10  \\\n",
       "379552  https://d1w7fb2mkkr3kw.cloudfront.net/assets/i...  238226201X   \n",
       "397601  https://d1w7fb2mkkr3kw.cloudfront.net/assets/i...  1463573219   \n",
       "782624  https://d1w7fb2mkkr3kw.cloudfront.net/assets/i...  1774415607   \n",
       "785201  https://d1w7fb2mkkr3kw.cloudfront.net/assets/i...  177441693X   \n",
       "767556  https://d1w7fb2mkkr3kw.cloudfront.net/assets/i...  1774412772   \n",
       "\n",
       "               ISBN13 Language Publication_date                Title  \\\n",
       "379552  9782382262016       en       1895-01-01   The King in Yellow   \n",
       "397601  9781463573218       en       1899-06-01       Torture Garden   \n",
       "782624  9781774415603       en       1900-01-01  Three Men on Wheels   \n",
       "785201  9781774416938       en       1903-04-01           They and I   \n",
       "767556  9781774412770       en       1905-06-01   Idle Ideas in 1905   \n",
       "\n",
       "                                        Short_Description  \n",
       "379552  The King in Yellow is a book of short stories ...  \n",
       "397601  \"To the priests, the soldiers, the judges, to ...  \n",
       "782624  Three Men on the Bummel (also known as Three M...  \n",
       "785201  They and I is an English humor classic from Je...  \n",
       "767556  This classic collection of humourous essays fr...  "
      ]
     },
     "execution_count": 67,
     "metadata": {},
     "output_type": "execute_result"
    }
   ],
   "source": [
    "dataset.head()"
   ]
  },
  {
   "cell_type": "code",
   "execution_count": 70,
   "id": "6015d623",
   "metadata": {},
   "outputs": [],
   "source": [
    "dataset.reset_index(drop = True, inplace = True)"
   ]
  },
  {
   "cell_type": "markdown",
   "id": "48d91b7d",
   "metadata": {},
   "source": [
    "# Content recommender system using 'Description'"
   ]
  },
  {
   "cell_type": "code",
   "execution_count": 47,
   "id": "ea9cc476",
   "metadata": {},
   "outputs": [],
   "source": [
    "from sklearn.feature_extraction.text import TfidfVectorizer"
   ]
  },
  {
   "cell_type": "code",
   "execution_count": 48,
   "id": "900dbe02",
   "metadata": {},
   "outputs": [],
   "source": [
    "tfidf = TfidfVectorizer(stop_words='english')"
   ]
  },
  {
   "cell_type": "markdown",
   "id": "c84a762a",
   "metadata": {},
   "source": [
    "### Construct the TF-IDF matrix"
   ]
  },
  {
   "cell_type": "code",
   "execution_count": 49,
   "id": "a27dad8a",
   "metadata": {},
   "outputs": [],
   "source": [
    "tfidf_matrix = tfidf.fit_transform(dataset['Short_Description'])"
   ]
  },
  {
   "cell_type": "code",
   "execution_count": 50,
   "id": "e2da49d3",
   "metadata": {},
   "outputs": [
    {
     "data": {
      "text/plain": [
       "(51524, 39471)"
      ]
     },
     "execution_count": 50,
     "metadata": {},
     "output_type": "execute_result"
    }
   ],
   "source": [
    "tfidf_matrix.shape"
   ]
  },
  {
   "cell_type": "markdown",
   "id": "8c4b9c16",
   "metadata": {},
   "source": [
    "Almost forty thousand volcabularies in 51 thousand books."
   ]
  },
  {
   "cell_type": "code",
   "execution_count": 51,
   "id": "058f6514",
   "metadata": {},
   "outputs": [],
   "source": [
    "from sklearn.metrics.pairwise import linear_kernel"
   ]
  },
  {
   "cell_type": "markdown",
   "id": "6c26f4f8",
   "metadata": {},
   "source": [
    "The next step takes a bit of time (and memory)."
   ]
  },
  {
   "cell_type": "code",
   "execution_count": 52,
   "id": "68a8921c",
   "metadata": {},
   "outputs": [],
   "source": [
    "cosine_sim = linear_kernel(tfidf_matrix, tfidf_matrix)"
   ]
  },
  {
   "cell_type": "code",
   "execution_count": 53,
   "id": "8a4fd293",
   "metadata": {},
   "outputs": [
    {
     "data": {
      "text/plain": [
       "(51524, 51524)"
      ]
     },
     "execution_count": 53,
     "metadata": {},
     "output_type": "execute_result"
    }
   ],
   "source": [
    "cosine_sim.shape"
   ]
  },
  {
   "cell_type": "code",
   "execution_count": 56,
   "id": "b8f52f07",
   "metadata": {},
   "outputs": [],
   "source": [
    "cosine_sim_df = pd.DataFrame(data=cosine_sim)"
   ]
  },
  {
   "cell_type": "code",
   "execution_count": 58,
   "id": "1c1fdb25",
   "metadata": {},
   "outputs": [
    {
     "data": {
      "text/plain": [
       "array([[1.        , 0.        , 0.        , ..., 0.        , 0.        ,\n",
       "        0.        ],\n",
       "       [0.        , 1.        , 0.10913896, ..., 0.        , 0.        ,\n",
       "        0.        ],\n",
       "       [0.        , 0.10913896, 1.        , ..., 0.        , 0.        ,\n",
       "        0.        ],\n",
       "       ...,\n",
       "       [0.        , 0.        , 0.        , ..., 1.        , 0.        ,\n",
       "        0.        ],\n",
       "       [0.        , 0.        , 0.        , ..., 0.        , 1.        ,\n",
       "        0.08979574],\n",
       "       [0.        , 0.        , 0.        , ..., 0.        , 0.08979574,\n",
       "        1.        ]])"
      ]
     },
     "execution_count": 58,
     "metadata": {},
     "output_type": "execute_result"
    }
   ],
   "source": [
    "cosine_sim"
   ]
  },
  {
   "cell_type": "markdown",
   "id": "9718b638",
   "metadata": {},
   "source": [
    "### Save cosine similarity sccore"
   ]
  },
  {
   "cell_type": "markdown",
   "id": "9efde1f7",
   "metadata": {},
   "source": [
    "(!) The next command generates an 8 GB file."
   ]
  },
  {
   "cell_type": "code",
   "execution_count": null,
   "id": "e6b5d726",
   "metadata": {},
   "outputs": [],
   "source": [
    "cosine_sim_df.to_pickle(\"./pickle_files/cosine_similarity_score.pkl\")"
   ]
  },
  {
   "cell_type": "markdown",
   "id": "5e31c92d",
   "metadata": {},
   "source": [
    "# Load cosine similarity score - only if you didn't run the code above"
   ]
  },
  {
   "cell_type": "markdown",
   "id": "458d2b64",
   "metadata": {},
   "source": [
    "(!) This requires about 23 GB of memory"
   ]
  },
  {
   "cell_type": "code",
   "execution_count": 46,
   "id": "93b3ec3e",
   "metadata": {},
   "outputs": [],
   "source": [
    "cosine_sim_df = pd.read_pickle(\"./pickle_files/cosine_similarity_score.pkl\")"
   ]
  },
  {
   "cell_type": "code",
   "execution_count": 47,
   "id": "4ebe2061",
   "metadata": {},
   "outputs": [],
   "source": [
    "cosine_sim = cosine_sim_df.to_numpy()"
   ]
  },
  {
   "cell_type": "markdown",
   "id": "8cd11bbc",
   "metadata": {},
   "source": [
    "### Construct a reverse map of indices and book ISBN10"
   ]
  },
  {
   "cell_type": "code",
   "execution_count": 74,
   "id": "f9d28260",
   "metadata": {},
   "outputs": [],
   "source": [
    "indices = pd.Series(dataset.index, index=dataset['ISBN10']).drop_duplicates()"
   ]
  },
  {
   "cell_type": "code",
   "execution_count": 100,
   "id": "902da260",
   "metadata": {},
   "outputs": [],
   "source": [
    "def get_recommendations(ISBN10, cosine_sim=cosine_sim):\n",
    "    # Get the index of the book that matches the ISBN\n",
    "    idx = indices[ISBN10]\n",
    "\n",
    "    # Get the pairwsie similarity scores of all movies with that movie\n",
    "    sim_scores = list(enumerate(cosine_sim[idx]))\n",
    "\n",
    "    # Sort the movies based on the similarity scores\n",
    "    sim_scores = sorted(sim_scores, key=lambda x: x[1], reverse=True)\n",
    "\n",
    "    # Get the scores of the 10 most similar movies\n",
    "    sim_scores = sim_scores[1:11]\n",
    "\n",
    "    # Get the movie indices\n",
    "    book_indices = [i[0] for i in sim_scores]\n",
    "\n",
    "    # Return the top 10 most similar movies\n",
    "    return dataset['ISBN10'].iloc[book_indices]"
   ]
  },
  {
   "cell_type": "markdown",
   "id": "7fa7310c",
   "metadata": {},
   "source": [
    "Let's find results similar to the first book on the dataset:"
   ]
  },
  {
   "cell_type": "code",
   "execution_count": 101,
   "id": "899f0149",
   "metadata": {},
   "outputs": [
    {
     "data": {
      "text/plain": [
       "'The King in Yellow'"
      ]
     },
     "execution_count": 101,
     "metadata": {},
     "output_type": "execute_result"
    }
   ],
   "source": [
    "dataset.Title[0]"
   ]
  },
  {
   "cell_type": "code",
   "execution_count": 102,
   "id": "69f68bb7",
   "metadata": {},
   "outputs": [],
   "source": [
    "pd.set_option('display.max_colwidth', None)"
   ]
  },
  {
   "cell_type": "code",
   "execution_count": 103,
   "id": "95b01f3c",
   "metadata": {},
   "outputs": [
    {
     "data": {
      "text/html": [
       "<div>\n",
       "<style scoped>\n",
       "    .dataframe tbody tr th:only-of-type {\n",
       "        vertical-align: middle;\n",
       "    }\n",
       "\n",
       "    .dataframe tbody tr th {\n",
       "        vertical-align: top;\n",
       "    }\n",
       "\n",
       "    .dataframe thead th {\n",
       "        text-align: right;\n",
       "    }\n",
       "</style>\n",
       "<table border=\"1\" class=\"dataframe\">\n",
       "  <thead>\n",
       "    <tr style=\"text-align: right;\">\n",
       "      <th></th>\n",
       "      <th>Title</th>\n",
       "      <th>Short_Description</th>\n",
       "    </tr>\n",
       "  </thead>\n",
       "  <tbody>\n",
       "    <tr>\n",
       "      <th>7438</th>\n",
       "      <td>The King in Yellow and Other Horror</td>\n",
       "      <td>Every story of The King in Yellow has something riveting about it ... so perfectly realized, they</td>\n",
       "    </tr>\n",
       "    <tr>\n",
       "      <th>2080</th>\n",
       "      <td>Men without Women</td>\n",
       "      <td>CLASSIC SHORT STORIES FROM THE MASTER OF AMERICAN FICTION</td>\n",
       "    </tr>\n",
       "    <tr>\n",
       "      <th>31289</th>\n",
       "      <td>The Yellow Wallpaper (Wisehouse Classics - First 1892 Edition, with the Original Illustrations by Joseph Henry Hatfield)</td>\n",
       "      <td>THE YELLOW WALLPAPER is a story by the American writer Charlotte Perkins Gilman, first published in</td>\n",
       "    </tr>\n",
       "    <tr>\n",
       "      <th>28946</th>\n",
       "      <td>The Best American Catholic Short Stories : A Sheed &amp; Ward Collection</td>\n",
       "      <td>The Best American Catholic Short Stories captures twenty of the best short stories from thirteen</td>\n",
       "    </tr>\n",
       "    <tr>\n",
       "      <th>18051</th>\n",
       "      <td>The Signet Classic Book of American Short Stories</td>\n",
       "      <td>The best of American short fiction</td>\n",
       "    </tr>\n",
       "    <tr>\n",
       "      <th>15547</th>\n",
       "      <td>The Wizdom of Oz</td>\n",
       "      <td>Read this book and find your very own yellow brick road to enlightenment! Have you ever felt short</td>\n",
       "    </tr>\n",
       "    <tr>\n",
       "      <th>20598</th>\n",
       "      <td>Assignment In Eternity</td>\n",
       "      <td>Classic novellas and short stories from the Dean of Science Fiction, Robert</td>\n",
       "    </tr>\n",
       "    <tr>\n",
       "      <th>17739</th>\n",
       "      <td>The Collected Stories : World's End; Sinning with Annie; Jungle Bells; the Consul's File; the London Embassy;</td>\n",
       "      <td>The Collected Stories is a collection of award-winning writer Paul Theroux's short stories, each of</td>\n",
       "    </tr>\n",
       "    <tr>\n",
       "      <th>4831</th>\n",
       "      <td>N.P.</td>\n",
       "      <td>N.P. is the title of a last collection of short stories by a celebrated Japanese writer.  Written in</td>\n",
       "    </tr>\n",
       "    <tr>\n",
       "      <th>30321</th>\n",
       "      <td>100 Years of the Best American Short Stories</td>\n",
       "      <td>The Best American Short Stories is the longest running and best-selling series of short fiction in</td>\n",
       "    </tr>\n",
       "  </tbody>\n",
       "</table>\n",
       "</div>"
      ],
      "text/plain": [
       "                                                                                                                          Title  \\\n",
       "7438                                                                                        The King in Yellow and Other Horror   \n",
       "2080                                                                                                          Men without Women   \n",
       "31289  The Yellow Wallpaper (Wisehouse Classics - First 1892 Edition, with the Original Illustrations by Joseph Henry Hatfield)   \n",
       "28946                                                      The Best American Catholic Short Stories : A Sheed & Ward Collection   \n",
       "18051                                                                         The Signet Classic Book of American Short Stories   \n",
       "15547                                                                                                          The Wizdom of Oz   \n",
       "20598                                                                                                    Assignment In Eternity   \n",
       "17739             The Collected Stories : World's End; Sinning with Annie; Jungle Bells; the Consul's File; the London Embassy;   \n",
       "4831                                                                                                                       N.P.   \n",
       "30321                                                                              100 Years of the Best American Short Stories   \n",
       "\n",
       "                                                                                          Short_Description  \n",
       "7438      Every story of The King in Yellow has something riveting about it ... so perfectly realized, they  \n",
       "2080                                              CLASSIC SHORT STORIES FROM THE MASTER OF AMERICAN FICTION  \n",
       "31289   THE YELLOW WALLPAPER is a story by the American writer Charlotte Perkins Gilman, first published in  \n",
       "28946      The Best American Catholic Short Stories captures twenty of the best short stories from thirteen  \n",
       "18051                                                                    The best of American short fiction  \n",
       "15547    Read this book and find your very own yellow brick road to enlightenment! Have you ever felt short  \n",
       "20598                           Classic novellas and short stories from the Dean of Science Fiction, Robert  \n",
       "17739   The Collected Stories is a collection of award-winning writer Paul Theroux's short stories, each of  \n",
       "4831   N.P. is the title of a last collection of short stories by a celebrated Japanese writer.  Written in  \n",
       "30321    The Best American Short Stories is the longest running and best-selling series of short fiction in  "
      ]
     },
     "execution_count": 103,
     "metadata": {},
     "output_type": "execute_result"
    }
   ],
   "source": [
    "dataset.loc[get_recommendations('238226201X', cosine_sim).index, [\"Title\", \"Short_Description\"]]"
   ]
  },
  {
   "cell_type": "markdown",
   "id": "e7f3a7c3",
   "metadata": {},
   "source": [
    "# Save recommender"
   ]
  },
  {
   "cell_type": "code",
   "execution_count": 104,
   "id": "58e3db40",
   "metadata": {},
   "outputs": [],
   "source": [
    "indices.to_pickle(\"./pickle_files/indices.pkl\")"
   ]
  },
  {
   "cell_type": "markdown",
   "id": "6a852a10",
   "metadata": {},
   "source": [
    "### End of preprocessing"
   ]
  }
 ],
 "metadata": {
  "kernelspec": {
   "display_name": "Python 3 (ipykernel)",
   "language": "python",
   "name": "python3"
  },
  "language_info": {
   "codemirror_mode": {
    "name": "ipython",
    "version": 3
   },
   "file_extension": ".py",
   "mimetype": "text/x-python",
   "name": "python",
   "nbconvert_exporter": "python",
   "pygments_lexer": "ipython3",
   "version": "3.9.5"
  }
 },
 "nbformat": 4,
 "nbformat_minor": 5
}
