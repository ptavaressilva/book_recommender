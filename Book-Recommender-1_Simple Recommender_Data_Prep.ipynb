{
 "cells": [
  {
   "cell_type": "markdown",
   "id": "caa73e68",
   "metadata": {},
   "source": [
    "# Hybrid book recommender system"
   ]
  },
  {
   "cell_type": "markdown",
   "id": "3edcf32d",
   "metadata": {},
   "source": [
    "The objetive of this project is to create a hybrid book recommendation system that combines three types of recommenders:\n",
    "- Simple recommender\n",
    "- Collaborative filtering engine\n",
    "- Content-based recommenders\n",
    "\n",
    "The dataset user is available at https://www.kaggle.com/arashnic/book-recommendation-dataset/version/1\n",
    "\n",
    "More information on the three types of recommenders available at https://www.datacamp.com/community/tutorials/recommender-systems-python (partial tutorial, using a different dataset)."
   ]
  },
  {
   "cell_type": "markdown",
   "id": "7d9d64b0",
   "metadata": {},
   "source": [
    "## Imports"
   ]
  },
  {
   "cell_type": "code",
   "execution_count": 2,
   "id": "3fa07166",
   "metadata": {},
   "outputs": [],
   "source": [
    "import pandas as pd\n",
    "import matplotlib.pyplot as plt\n",
    "import numpy as np"
   ]
  },
  {
   "cell_type": "markdown",
   "id": "529b3ac4",
   "metadata": {},
   "source": [
    "# Preprocess Books.csv"
   ]
  },
  {
   "cell_type": "markdown",
   "id": "6bc0ffc1",
   "metadata": {},
   "source": [
    "## Load data"
   ]
  },
  {
   "cell_type": "code",
   "execution_count": 3,
   "id": "4d8802db",
   "metadata": {},
   "outputs": [],
   "source": [
    "books_raw = pd.read_csv ('dataset1/Books.csv',\n",
    "                         dtype={\n",
    "                             'ISBN' : str, # some values are not integers\n",
    "                             'Book-Title' : str,\n",
    "                             'Book-Author' : str,\n",
    "                             'Year-Of-Publication' : str, # some values are not integers\n",
    "                             'Publisher' : str,\n",
    "                             'Image-URL-S' : str},\n",
    "     usecols=['ISBN','Book-Title','Book-Author','Year-Of-Publication','Publisher','Image-URL-S'])"
   ]
  },
  {
   "cell_type": "markdown",
   "id": "338123d7",
   "metadata": {},
   "source": [
    "## Explore 'books_raw'"
   ]
  },
  {
   "cell_type": "markdown",
   "id": "a086a56a",
   "metadata": {},
   "source": [
    "Books are identified by their respective ISBN. Invalid ISBNs have already been removed from the dataset. Moreover, some content-based information is given (Book-Title, Book-Author, Year-Of-Publication, Publisher), obtained from Amazon Web Services. Note that in case of several authors, only the first is provided. URLs linking to cover images are also given, appearing in three different flavours (Image-URL-S, Image-URL-M, Image-URL-L), i.e., small, medium, large. These URLs point to the Amazon web site."
   ]
  },
  {
   "cell_type": "code",
   "execution_count": 4,
   "id": "abdabe2e",
   "metadata": {},
   "outputs": [
    {
     "data": {
      "text/plain": [
       "(271360, 6)"
      ]
     },
     "execution_count": 4,
     "metadata": {},
     "output_type": "execute_result"
    }
   ],
   "source": [
    "books_raw.shape"
   ]
  },
  {
   "cell_type": "code",
   "execution_count": 5,
   "id": "9e6ffd7b",
   "metadata": {},
   "outputs": [
    {
     "data": {
      "text/plain": [
       "ISBN                   271360\n",
       "Book-Title             271360\n",
       "Book-Author            271359\n",
       "Year-Of-Publication    271360\n",
       "Publisher              271358\n",
       "Image-URL-S            271360\n",
       "dtype: int64"
      ]
     },
     "execution_count": 5,
     "metadata": {},
     "output_type": "execute_result"
    }
   ],
   "source": [
    "books_raw.count()"
   ]
  },
  {
   "cell_type": "markdown",
   "id": "4f030771",
   "metadata": {},
   "source": [
    "There are missing values at least in Book-Author and Publisher"
   ]
  },
  {
   "cell_type": "code",
   "execution_count": 6,
   "id": "e23a4824",
   "metadata": {},
   "outputs": [
    {
     "data": {
      "text/plain": [
       "ISBN                   0\n",
       "Book-Title             0\n",
       "Book-Author            1\n",
       "Year-Of-Publication    0\n",
       "Publisher              2\n",
       "Image-URL-S            0\n",
       "dtype: int64"
      ]
     },
     "execution_count": 6,
     "metadata": {},
     "output_type": "execute_result"
    }
   ],
   "source": [
    "books_raw.isna().sum()"
   ]
  },
  {
   "cell_type": "markdown",
   "id": "aee6aa59",
   "metadata": {},
   "source": [
    "## Analyse ISBN"
   ]
  },
  {
   "cell_type": "markdown",
   "id": "9654f4bb",
   "metadata": {},
   "source": [
    "### Are all ISBN numbers?"
   ]
  },
  {
   "cell_type": "code",
   "execution_count": 39,
   "id": "e34650ac",
   "metadata": {},
   "outputs": [
    {
     "data": {
      "text/plain": [
       "22333"
      ]
     },
     "execution_count": 39,
     "metadata": {},
     "output_type": "execute_result"
    }
   ],
   "source": [
    "pd.to_numeric(books_raw['ISBN'], errors='coerce').isna().sum()"
   ]
  },
  {
   "cell_type": "markdown",
   "id": "01e93a51",
   "metadata": {},
   "source": [
    "Some ISBM have the letter X at the end, so we'll leave them as strings"
   ]
  },
  {
   "cell_type": "markdown",
   "id": "61b2cfa9",
   "metadata": {},
   "source": [
    "### Any ISBN duplicates?"
   ]
  },
  {
   "cell_type": "code",
   "execution_count": 23,
   "id": "548f03aa",
   "metadata": {},
   "outputs": [
    {
     "data": {
      "text/plain": [
       "1"
      ]
     },
     "execution_count": 23,
     "metadata": {},
     "output_type": "execute_result"
    }
   ],
   "source": [
    "books_raw.ISBN.value_counts().max()"
   ]
  },
  {
   "cell_type": "markdown",
   "id": "52b414d2",
   "metadata": {},
   "source": [
    "No repeated ISBN"
   ]
  },
  {
   "cell_type": "markdown",
   "id": "de977e77",
   "metadata": {},
   "source": [
    "## Analyse Book-Title"
   ]
  },
  {
   "cell_type": "markdown",
   "id": "12fc2c4d",
   "metadata": {},
   "source": [
    "### Any missing values?"
   ]
  },
  {
   "cell_type": "code",
   "execution_count": 30,
   "id": "0f85754d",
   "metadata": {},
   "outputs": [
    {
     "data": {
      "text/plain": [
       "0"
      ]
     },
     "execution_count": 30,
     "metadata": {},
     "output_type": "execute_result"
    }
   ],
   "source": [
    "pd.isnull(books_raw[\"Book-Title\"]).sum()"
   ]
  },
  {
   "cell_type": "markdown",
   "id": "0dfc546c",
   "metadata": {},
   "source": [
    "Great! No missing Book-Title"
   ]
  },
  {
   "cell_type": "markdown",
   "id": "2ebf2835",
   "metadata": {},
   "source": [
    "### Any Book-Title duplicates?"
   ]
  },
  {
   "cell_type": "code",
   "execution_count": 31,
   "id": "763c29b3",
   "metadata": {},
   "outputs": [
    {
     "data": {
      "text/html": [
       "<div>\n",
       "<style scoped>\n",
       "    .dataframe tbody tr th:only-of-type {\n",
       "        vertical-align: middle;\n",
       "    }\n",
       "\n",
       "    .dataframe tbody tr th {\n",
       "        vertical-align: top;\n",
       "    }\n",
       "\n",
       "    .dataframe thead th {\n",
       "        text-align: right;\n",
       "    }\n",
       "</style>\n",
       "<table border=\"1\" class=\"dataframe\">\n",
       "  <thead>\n",
       "    <tr style=\"text-align: right;\">\n",
       "      <th></th>\n",
       "      <th>ISBN</th>\n",
       "      <th>Book-Title</th>\n",
       "      <th>Book-Author</th>\n",
       "      <th>Year-Of-Publication</th>\n",
       "      <th>Publisher</th>\n",
       "      <th>Image-URL-S</th>\n",
       "    </tr>\n",
       "  </thead>\n",
       "  <tbody>\n",
       "    <tr>\n",
       "      <th>239</th>\n",
       "      <td>0743486226</td>\n",
       "      <td>Angels &amp;amp; Demons</td>\n",
       "      <td>Dan Brown</td>\n",
       "      <td>2003</td>\n",
       "      <td>Atria</td>\n",
       "      <td>http://images.amazon.com/images/P/0743486226.0...</td>\n",
       "    </tr>\n",
       "    <tr>\n",
       "      <th>355</th>\n",
       "      <td>0140374248</td>\n",
       "      <td>James and the Giant Peach</td>\n",
       "      <td>Roald Dahl</td>\n",
       "      <td>2000</td>\n",
       "      <td>Penguin USA (Paper)</td>\n",
       "      <td>http://images.amazon.com/images/P/0140374248.0...</td>\n",
       "    </tr>\n",
       "    <tr>\n",
       "      <th>405</th>\n",
       "      <td>006101351X</td>\n",
       "      <td>The Perfect Storm : A True Story of Men Agains...</td>\n",
       "      <td>Sebastian Junger</td>\n",
       "      <td>1998</td>\n",
       "      <td>HarperTorch</td>\n",
       "      <td>http://images.amazon.com/images/P/006101351X.0...</td>\n",
       "    </tr>\n",
       "    <tr>\n",
       "      <th>456</th>\n",
       "      <td>044021145X</td>\n",
       "      <td>The Firm</td>\n",
       "      <td>John Grisham</td>\n",
       "      <td>1992</td>\n",
       "      <td>Bantam Dell Publishing Group</td>\n",
       "      <td>http://images.amazon.com/images/P/044021145X.0...</td>\n",
       "    </tr>\n",
       "    <tr>\n",
       "      <th>475</th>\n",
       "      <td>014023828X</td>\n",
       "      <td>The Tortilla Curtain</td>\n",
       "      <td>T. Coraghessan Boyle</td>\n",
       "      <td>1996</td>\n",
       "      <td>Penguin Books</td>\n",
       "      <td>http://images.amazon.com/images/P/014023828X.0...</td>\n",
       "    </tr>\n",
       "    <tr>\n",
       "      <th>...</th>\n",
       "      <td>...</td>\n",
       "      <td>...</td>\n",
       "      <td>...</td>\n",
       "      <td>...</td>\n",
       "      <td>...</td>\n",
       "      <td>...</td>\n",
       "    </tr>\n",
       "    <tr>\n",
       "      <th>271246</th>\n",
       "      <td>0195124995</td>\n",
       "      <td>For Cause and Comrades: Why Men Fought in the ...</td>\n",
       "      <td>James M. McPherson</td>\n",
       "      <td>1998</td>\n",
       "      <td>Oxford University Press</td>\n",
       "      <td>http://images.amazon.com/images/P/0195124995.0...</td>\n",
       "    </tr>\n",
       "    <tr>\n",
       "      <th>271315</th>\n",
       "      <td>1902852036</td>\n",
       "      <td>All the Queen's Men</td>\n",
       "      <td>Nick Elwood</td>\n",
       "      <td>1999</td>\n",
       "      <td>Gay Men's Press</td>\n",
       "      <td>http://images.amazon.com/images/P/1902852036.0...</td>\n",
       "    </tr>\n",
       "    <tr>\n",
       "      <th>271316</th>\n",
       "      <td>0441011799</td>\n",
       "      <td>Singularity Sky</td>\n",
       "      <td>Charles Stross</td>\n",
       "      <td>2004</td>\n",
       "      <td>Ace</td>\n",
       "      <td>http://images.amazon.com/images/P/0441011799.0...</td>\n",
       "    </tr>\n",
       "    <tr>\n",
       "      <th>271346</th>\n",
       "      <td>0395264707</td>\n",
       "      <td>Dreamsnake</td>\n",
       "      <td>Vonda N. McIntyre</td>\n",
       "      <td>1978</td>\n",
       "      <td>Houghton Mifflin</td>\n",
       "      <td>http://images.amazon.com/images/P/0395264707.0...</td>\n",
       "    </tr>\n",
       "    <tr>\n",
       "      <th>271355</th>\n",
       "      <td>0440400988</td>\n",
       "      <td>There's a Bat in Bunk Five</td>\n",
       "      <td>Paula Danziger</td>\n",
       "      <td>1988</td>\n",
       "      <td>Random House Childrens Pub (Mm)</td>\n",
       "      <td>http://images.amazon.com/images/P/0440400988.0...</td>\n",
       "    </tr>\n",
       "  </tbody>\n",
       "</table>\n",
       "<p>29225 rows × 6 columns</p>\n",
       "</div>"
      ],
      "text/plain": [
       "              ISBN                                         Book-Title  \\\n",
       "239     0743486226                                Angels &amp; Demons   \n",
       "355     0140374248                          James and the Giant Peach   \n",
       "405     006101351X  The Perfect Storm : A True Story of Men Agains...   \n",
       "456     044021145X                                           The Firm   \n",
       "475     014023828X                               The Tortilla Curtain   \n",
       "...            ...                                                ...   \n",
       "271246  0195124995  For Cause and Comrades: Why Men Fought in the ...   \n",
       "271315  1902852036                                All the Queen's Men   \n",
       "271316  0441011799                                    Singularity Sky   \n",
       "271346  0395264707                                         Dreamsnake   \n",
       "271355  0440400988                         There's a Bat in Bunk Five   \n",
       "\n",
       "                 Book-Author Year-Of-Publication  \\\n",
       "239                Dan Brown                2003   \n",
       "355               Roald Dahl                2000   \n",
       "405         Sebastian Junger                1998   \n",
       "456             John Grisham                1992   \n",
       "475     T. Coraghessan Boyle                1996   \n",
       "...                      ...                 ...   \n",
       "271246    James M. McPherson                1998   \n",
       "271315           Nick Elwood                1999   \n",
       "271316        Charles Stross                2004   \n",
       "271346     Vonda N. McIntyre                1978   \n",
       "271355        Paula Danziger                1988   \n",
       "\n",
       "                              Publisher  \\\n",
       "239                               Atria   \n",
       "355                 Penguin USA (Paper)   \n",
       "405                         HarperTorch   \n",
       "456        Bantam Dell Publishing Group   \n",
       "475                       Penguin Books   \n",
       "...                                 ...   \n",
       "271246          Oxford University Press   \n",
       "271315                  Gay Men's Press   \n",
       "271316                              Ace   \n",
       "271346                 Houghton Mifflin   \n",
       "271355  Random House Childrens Pub (Mm)   \n",
       "\n",
       "                                              Image-URL-S  \n",
       "239     http://images.amazon.com/images/P/0743486226.0...  \n",
       "355     http://images.amazon.com/images/P/0140374248.0...  \n",
       "405     http://images.amazon.com/images/P/006101351X.0...  \n",
       "456     http://images.amazon.com/images/P/044021145X.0...  \n",
       "475     http://images.amazon.com/images/P/014023828X.0...  \n",
       "...                                                   ...  \n",
       "271246  http://images.amazon.com/images/P/0195124995.0...  \n",
       "271315  http://images.amazon.com/images/P/1902852036.0...  \n",
       "271316  http://images.amazon.com/images/P/0441011799.0...  \n",
       "271346  http://images.amazon.com/images/P/0395264707.0...  \n",
       "271355  http://images.amazon.com/images/P/0440400988.0...  \n",
       "\n",
       "[29225 rows x 6 columns]"
      ]
     },
     "execution_count": 31,
     "metadata": {},
     "output_type": "execute_result"
    }
   ],
   "source": [
    "books_raw[books_raw.duplicated(['Book-Title'])]"
   ]
  },
  {
   "cell_type": "code",
   "execution_count": 32,
   "id": "e393b688",
   "metadata": {},
   "outputs": [
    {
     "data": {
      "text/html": [
       "<div>\n",
       "<style scoped>\n",
       "    .dataframe tbody tr th:only-of-type {\n",
       "        vertical-align: middle;\n",
       "    }\n",
       "\n",
       "    .dataframe tbody tr th {\n",
       "        vertical-align: top;\n",
       "    }\n",
       "\n",
       "    .dataframe thead th {\n",
       "        text-align: right;\n",
       "    }\n",
       "</style>\n",
       "<table border=\"1\" class=\"dataframe\">\n",
       "  <thead>\n",
       "    <tr style=\"text-align: right;\">\n",
       "      <th></th>\n",
       "      <th>ISBN</th>\n",
       "      <th>Book-Title</th>\n",
       "      <th>Book-Author</th>\n",
       "      <th>Year-Of-Publication</th>\n",
       "      <th>Publisher</th>\n",
       "      <th>Image-URL-S</th>\n",
       "    </tr>\n",
       "  </thead>\n",
       "  <tbody>\n",
       "    <tr>\n",
       "      <th>118</th>\n",
       "      <td>0671027360</td>\n",
       "      <td>Angels &amp;amp; Demons</td>\n",
       "      <td>Dan Brown</td>\n",
       "      <td>2001</td>\n",
       "      <td>Pocket Star</td>\n",
       "      <td>http://images.amazon.com/images/P/0671027360.0...</td>\n",
       "    </tr>\n",
       "    <tr>\n",
       "      <th>239</th>\n",
       "      <td>0743486226</td>\n",
       "      <td>Angels &amp;amp; Demons</td>\n",
       "      <td>Dan Brown</td>\n",
       "      <td>2003</td>\n",
       "      <td>Atria</td>\n",
       "      <td>http://images.amazon.com/images/P/0743486226.0...</td>\n",
       "    </tr>\n",
       "    <tr>\n",
       "      <th>28002</th>\n",
       "      <td>0671027352</td>\n",
       "      <td>Angels &amp;amp; Demons</td>\n",
       "      <td>Dan Brown</td>\n",
       "      <td>2000</td>\n",
       "      <td>Atria</td>\n",
       "      <td>http://images.amazon.com/images/P/0671027352.0...</td>\n",
       "    </tr>\n",
       "    <tr>\n",
       "      <th>36935</th>\n",
       "      <td>0743535774</td>\n",
       "      <td>Angels &amp;amp; Demons</td>\n",
       "      <td>Dan Brown</td>\n",
       "      <td>2003</td>\n",
       "      <td>Audioworks</td>\n",
       "      <td>http://images.amazon.com/images/P/0743535774.0...</td>\n",
       "    </tr>\n",
       "    <tr>\n",
       "      <th>163541</th>\n",
       "      <td>0743535766</td>\n",
       "      <td>Angels &amp;amp; Demons</td>\n",
       "      <td>Dan Brown</td>\n",
       "      <td>2003</td>\n",
       "      <td>Simon &amp;amp; Schuster Audio</td>\n",
       "      <td>http://images.amazon.com/images/P/0743535766.0...</td>\n",
       "    </tr>\n",
       "  </tbody>\n",
       "</table>\n",
       "</div>"
      ],
      "text/plain": [
       "              ISBN           Book-Title Book-Author Year-Of-Publication  \\\n",
       "118     0671027360  Angels &amp; Demons   Dan Brown                2001   \n",
       "239     0743486226  Angels &amp; Demons   Dan Brown                2003   \n",
       "28002   0671027352  Angels &amp; Demons   Dan Brown                2000   \n",
       "36935   0743535774  Angels &amp; Demons   Dan Brown                2003   \n",
       "163541  0743535766  Angels &amp; Demons   Dan Brown                2003   \n",
       "\n",
       "                         Publisher  \\\n",
       "118                    Pocket Star   \n",
       "239                          Atria   \n",
       "28002                        Atria   \n",
       "36935                   Audioworks   \n",
       "163541  Simon &amp; Schuster Audio   \n",
       "\n",
       "                                              Image-URL-S  \n",
       "118     http://images.amazon.com/images/P/0671027360.0...  \n",
       "239     http://images.amazon.com/images/P/0743486226.0...  \n",
       "28002   http://images.amazon.com/images/P/0671027352.0...  \n",
       "36935   http://images.amazon.com/images/P/0743535774.0...  \n",
       "163541  http://images.amazon.com/images/P/0743535766.0...  "
      ]
     },
     "execution_count": 32,
     "metadata": {},
     "output_type": "execute_result"
    }
   ],
   "source": [
    "# let's look at the duplicates of the first value\n",
    "books_raw.loc[books_raw['Book-Title'] == 'Angels &amp; Demons']"
   ]
  },
  {
   "cell_type": "markdown",
   "id": "77ad5bb9",
   "metadata": {},
   "source": [
    "These are different editions of the same title, so they are not duplicates."
   ]
  },
  {
   "cell_type": "markdown",
   "id": "af933b6b",
   "metadata": {},
   "source": [
    "### Any empty title names?"
   ]
  },
  {
   "cell_type": "code",
   "execution_count": 33,
   "id": "82647638",
   "metadata": {},
   "outputs": [
    {
     "data": {
      "text/plain": [
       "0"
      ]
     },
     "execution_count": 33,
     "metadata": {},
     "output_type": "execute_result"
    }
   ],
   "source": [
    "books_raw.loc[books_raw['Book-Title'].isnull(),'Book-Title'].count()"
   ]
  },
  {
   "cell_type": "markdown",
   "id": "1e843f6b",
   "metadata": {},
   "source": [
    "No. We're all good!"
   ]
  },
  {
   "cell_type": "markdown",
   "id": "c879e65c",
   "metadata": {},
   "source": [
    "### Any empty or zero years?"
   ]
  },
  {
   "cell_type": "code",
   "execution_count": 34,
   "id": "4c0fd357",
   "metadata": {},
   "outputs": [
    {
     "data": {
      "text/plain": [
       "0"
      ]
     },
     "execution_count": 34,
     "metadata": {},
     "output_type": "execute_result"
    }
   ],
   "source": [
    "books_raw.loc[books_raw['Year-Of-Publication'].isnull(),'Year-Of-Publication'].count()"
   ]
  },
  {
   "cell_type": "markdown",
   "id": "80f8ae13",
   "metadata": {},
   "source": [
    "No empty Year-Of-Publication"
   ]
  },
  {
   "cell_type": "code",
   "execution_count": 35,
   "id": "c722b839",
   "metadata": {},
   "outputs": [
    {
     "data": {
      "text/plain": [
       "4618"
      ]
     },
     "execution_count": 35,
     "metadata": {},
     "output_type": "execute_result"
    }
   ],
   "source": [
    "books_raw.loc[books_raw['Year-Of-Publication']=='0','Year-Of-Publication'].count()"
   ]
  },
  {
   "cell_type": "markdown",
   "id": "0413bd9c",
   "metadata": {},
   "source": [
    "There are at least 4618 books without a valid Year-Of-Publication."
   ]
  },
  {
   "cell_type": "markdown",
   "id": "5fb9fb71",
   "metadata": {},
   "source": [
    "# Preprocess Ratings.csv"
   ]
  },
  {
   "cell_type": "markdown",
   "id": "9f9b0a05",
   "metadata": {},
   "source": [
    "## Load data"
   ]
  },
  {
   "cell_type": "code",
   "execution_count": 36,
   "id": "c7482ca0",
   "metadata": {},
   "outputs": [],
   "source": [
    "ratings_raw = pd.read_csv ('dataset1/Ratings.csv', dtype={\n",
    "    'User-ID':str, # some values are not integers\n",
    "    'ISBN':str, # some values are not integers\n",
    "    'Book-Rating':int\n",
    "})"
   ]
  },
  {
   "cell_type": "markdown",
   "id": "32e0094f",
   "metadata": {},
   "source": [
    "## Explore Ratings_raw dataframe"
   ]
  },
  {
   "cell_type": "markdown",
   "id": "c5146358",
   "metadata": {},
   "source": [
    "Contains the book rating information. Ratings (Book-Rating) are either explicit, expressed on a scale from 1-10 (higher values denoting higher appreciation), or implicit, expressed by 0."
   ]
  },
  {
   "cell_type": "code",
   "execution_count": 37,
   "id": "a368dc1b",
   "metadata": {},
   "outputs": [
    {
     "data": {
      "text/plain": [
       "['User-ID', 'ISBN', 'Book-Rating']"
      ]
     },
     "execution_count": 37,
     "metadata": {},
     "output_type": "execute_result"
    }
   ],
   "source": [
    "list(ratings_raw.columns)"
   ]
  },
  {
   "cell_type": "code",
   "execution_count": 38,
   "id": "9f44d27e",
   "metadata": {},
   "outputs": [
    {
     "data": {
      "text/plain": [
       "(1149780, 3)"
      ]
     },
     "execution_count": 38,
     "metadata": {},
     "output_type": "execute_result"
    }
   ],
   "source": [
    "ratings_raw.shape"
   ]
  },
  {
   "cell_type": "code",
   "execution_count": 18,
   "id": "fc30bf12",
   "metadata": {},
   "outputs": [
    {
     "data": {
      "text/plain": [
       "User-ID        1149780\n",
       "ISBN           1149780\n",
       "Book-Rating    1149780\n",
       "dtype: int64"
      ]
     },
     "execution_count": 18,
     "metadata": {},
     "output_type": "execute_result"
    }
   ],
   "source": [
    "ratings_raw.count()"
   ]
  },
  {
   "cell_type": "code",
   "execution_count": 19,
   "id": "9b08a520",
   "metadata": {},
   "outputs": [
    {
     "data": {
      "text/plain": [
       "User-ID        object\n",
       "ISBN           object\n",
       "Book-Rating     int64\n",
       "dtype: object"
      ]
     },
     "execution_count": 19,
     "metadata": {},
     "output_type": "execute_result"
    }
   ],
   "source": [
    "ratings_raw.dtypes"
   ]
  },
  {
   "cell_type": "markdown",
   "id": "d81ee1cb",
   "metadata": {},
   "source": [
    "## Analyse User-ID"
   ]
  },
  {
   "cell_type": "markdown",
   "id": "0045ec2c",
   "metadata": {},
   "source": [
    "### Any missing values?"
   ]
  },
  {
   "cell_type": "code",
   "execution_count": 22,
   "id": "486347aa",
   "metadata": {},
   "outputs": [
    {
     "data": {
      "text/plain": [
       "0"
      ]
     },
     "execution_count": 22,
     "metadata": {},
     "output_type": "execute_result"
    }
   ],
   "source": [
    "ratings_raw.loc[ratings_raw['User-ID'].isnull(),'User-ID'].count()"
   ]
  },
  {
   "cell_type": "markdown",
   "id": "4cfabce9",
   "metadata": {},
   "source": [
    "### Are all User-ID numbers?"
   ]
  },
  {
   "cell_type": "code",
   "execution_count": 26,
   "id": "762298dd",
   "metadata": {},
   "outputs": [
    {
     "data": {
      "text/html": [
       "<div>\n",
       "<style scoped>\n",
       "    .dataframe tbody tr th:only-of-type {\n",
       "        vertical-align: middle;\n",
       "    }\n",
       "\n",
       "    .dataframe tbody tr th {\n",
       "        vertical-align: top;\n",
       "    }\n",
       "\n",
       "    .dataframe thead th {\n",
       "        text-align: right;\n",
       "    }\n",
       "</style>\n",
       "<table border=\"1\" class=\"dataframe\">\n",
       "  <thead>\n",
       "    <tr style=\"text-align: right;\">\n",
       "      <th></th>\n",
       "      <th>User-ID</th>\n",
       "      <th>ISBN</th>\n",
       "      <th>Book-Rating</th>\n",
       "    </tr>\n",
       "  </thead>\n",
       "  <tbody>\n",
       "  </tbody>\n",
       "</table>\n",
       "</div>"
      ],
      "text/plain": [
       "Empty DataFrame\n",
       "Columns: [User-ID, ISBN, Book-Rating]\n",
       "Index: []"
      ]
     },
     "execution_count": 26,
     "metadata": {},
     "output_type": "execute_result"
    }
   ],
   "source": [
    "ID_error = pd.to_numeric(ratings_raw['User-ID'], errors='coerce').isna()\n",
    "ratings_raw.loc[ID_error]"
   ]
  },
  {
   "cell_type": "markdown",
   "id": "f0d32885",
   "metadata": {},
   "source": [
    "All are numbers, so we will convert them to integers."
   ]
  },
  {
   "cell_type": "code",
   "execution_count": 28,
   "id": "f9525164",
   "metadata": {},
   "outputs": [],
   "source": [
    "ratings_raw[\"User-ID\"] = pd.to_numeric(ratings_raw[\"User-ID\"])"
   ]
  },
  {
   "cell_type": "code",
   "execution_count": 29,
   "id": "2b5c39ff",
   "metadata": {},
   "outputs": [
    {
     "data": {
      "text/plain": [
       "dtype('int64')"
      ]
     },
     "execution_count": 29,
     "metadata": {},
     "output_type": "execute_result"
    }
   ],
   "source": [
    "ratings_raw['User-ID'].dtypes"
   ]
  },
  {
   "cell_type": "markdown",
   "id": "760b96b3",
   "metadata": {},
   "source": [
    "### How many unique User-ID?"
   ]
  },
  {
   "cell_type": "code",
   "execution_count": 30,
   "id": "c467e921",
   "metadata": {},
   "outputs": [
    {
     "data": {
      "text/plain": [
       "105283"
      ]
     },
     "execution_count": 30,
     "metadata": {},
     "output_type": "execute_result"
    }
   ],
   "source": [
    "pd.unique(pd.Series(ratings_raw['User-ID'])).shape[0]"
   ]
  },
  {
   "cell_type": "markdown",
   "id": "fa03ebda",
   "metadata": {},
   "source": [
    "### Any Unique-ID with value zero?"
   ]
  },
  {
   "cell_type": "code",
   "execution_count": 31,
   "id": "0bb43476",
   "metadata": {},
   "outputs": [
    {
     "data": {
      "text/plain": [
       "0"
      ]
     },
     "execution_count": 31,
     "metadata": {},
     "output_type": "execute_result"
    }
   ],
   "source": [
    "# User-ID are stored as strings\n",
    "(ratings_raw['User-ID'] == \"0\").sum()"
   ]
  },
  {
   "cell_type": "markdown",
   "id": "a8d3009d",
   "metadata": {},
   "source": [
    "No ID zero present"
   ]
  },
  {
   "cell_type": "markdown",
   "id": "03cb32a2",
   "metadata": {},
   "source": [
    "## Analyse Book-Rating"
   ]
  },
  {
   "cell_type": "code",
   "execution_count": 32,
   "id": "0157c692",
   "metadata": {},
   "outputs": [
    {
     "data": {
      "text/plain": [
       "[0, 1, 2, 3, 4, 5, 6, 7, 8, 9, 10]"
      ]
     },
     "execution_count": 32,
     "metadata": {},
     "output_type": "execute_result"
    }
   ],
   "source": [
    "sorted(set(ratings_raw['Book-Rating'].tolist()))"
   ]
  },
  {
   "cell_type": "markdown",
   "id": "b12b8ad2",
   "metadata": {},
   "source": [
    "The zeros are inferred values. Let's see how many are there."
   ]
  },
  {
   "cell_type": "code",
   "execution_count": 33,
   "id": "a8cf171e",
   "metadata": {},
   "outputs": [
    {
     "data": {
      "text/plain": [
       "716109"
      ]
     },
     "execution_count": 33,
     "metadata": {},
     "output_type": "execute_result"
    }
   ],
   "source": [
    "ratings_raw['Book-Rating'].tolist().count(0)"
   ]
  },
  {
   "cell_type": "code",
   "execution_count": 34,
   "id": "5e0c560d",
   "metadata": {},
   "outputs": [
    {
     "data": {
      "image/png": "[encoded data removed]",
      "text/plain": [
       "<Figure size 432x288 with 1 Axes>"
      ]
     },
     "metadata": {
      "needs_background": "light"
     },
     "output_type": "display_data"
    }
   ],
   "source": [
    "hist = ratings_raw.hist(bins=11,column='Book-Rating')"
   ]
  },
  {
   "cell_type": "markdown",
   "id": "7ccc8cdc",
   "metadata": {},
   "source": [
    "# Preprocess Users.csv"
   ]
  },
  {
   "cell_type": "markdown",
   "id": "aeefcec8",
   "metadata": {},
   "source": [
    "## Load data"
   ]
  },
  {
   "cell_type": "code",
   "execution_count": 42,
   "id": "de6e9211",
   "metadata": {},
   "outputs": [],
   "source": [
    "users_raw = pd.read_csv ('dataset1/Users.csv', dtype={\n",
    "    'User-ID':int,\n",
    "    'Location':str,\n",
    "    'Age':str # some values are not integers\n",
    "})"
   ]
  },
  {
   "cell_type": "markdown",
   "id": "ca981242",
   "metadata": {},
   "source": [
    "## Explore dataframe"
   ]
  },
  {
   "cell_type": "markdown",
   "id": "3669cde9",
   "metadata": {},
   "source": [
    "Contains the users. Note that user IDs (User-ID) have been anonymized and map to integers. Demographic data is provided (Location, Age) if available. Otherwise, these fields contain NULL-values."
   ]
  },
  {
   "cell_type": "code",
   "execution_count": 43,
   "id": "f6ffaee0",
   "metadata": {},
   "outputs": [
    {
     "data": {
      "text/plain": [
       "['User-ID', 'Location', 'Age']"
      ]
     },
     "execution_count": 43,
     "metadata": {},
     "output_type": "execute_result"
    }
   ],
   "source": [
    "list(users_raw.columns)"
   ]
  },
  {
   "cell_type": "code",
   "execution_count": 44,
   "id": "5edc77ce",
   "metadata": {},
   "outputs": [
    {
     "data": {
      "text/plain": [
       "(278858, 3)"
      ]
     },
     "execution_count": 44,
     "metadata": {},
     "output_type": "execute_result"
    }
   ],
   "source": [
    "users_raw.shape"
   ]
  },
  {
   "cell_type": "code",
   "execution_count": 45,
   "id": "1ee18c14",
   "metadata": {},
   "outputs": [
    {
     "data": {
      "text/plain": [
       "User-ID     278858\n",
       "Location    278858\n",
       "Age         168096\n",
       "dtype: int64"
      ]
     },
     "execution_count": 45,
     "metadata": {},
     "output_type": "execute_result"
    }
   ],
   "source": [
    "users_raw.count()"
   ]
  },
  {
   "cell_type": "code",
   "execution_count": 46,
   "id": "0d167877",
   "metadata": {},
   "outputs": [
    {
     "data": {
      "text/plain": [
       "User-ID      int64\n",
       "Location    object\n",
       "Age         object\n",
       "dtype: object"
      ]
     },
     "execution_count": 46,
     "metadata": {},
     "output_type": "execute_result"
    }
   ],
   "source": [
    "users_raw.dtypes"
   ]
  },
  {
   "cell_type": "markdown",
   "id": "91fc0928",
   "metadata": {},
   "source": [
    "## Analyse User-ID"
   ]
  },
  {
   "cell_type": "markdown",
   "id": "0b5653fd",
   "metadata": {},
   "source": [
    "### Any missing values?"
   ]
  },
  {
   "cell_type": "code",
   "execution_count": 47,
   "id": "8f5ad72d",
   "metadata": {},
   "outputs": [
    {
     "data": {
      "text/plain": [
       "0"
      ]
     },
     "execution_count": 47,
     "metadata": {},
     "output_type": "execute_result"
    }
   ],
   "source": [
    "users_raw.loc[ratings_raw['User-ID'].isnull(),'User-ID'].count()"
   ]
  },
  {
   "cell_type": "markdown",
   "id": "79728c09",
   "metadata": {},
   "source": [
    "Great! No missing IDs."
   ]
  },
  {
   "cell_type": "markdown",
   "id": "3965b106",
   "metadata": {},
   "source": [
    "## Analyse Location"
   ]
  },
  {
   "cell_type": "code",
   "execution_count": 48,
   "id": "f203f3b8",
   "metadata": {},
   "outputs": [
    {
     "data": {
      "text/plain": [
       "0                         nyc, new york, usa\n",
       "1                  stockton, california, usa\n",
       "2            moscow, yukon territory, russia\n",
       "3                  porto, v.n.gaia, portugal\n",
       "4         farnborough, hants, united kingdom\n",
       "                         ...                \n",
       "278853                 portland, oregon, usa\n",
       "278854    tacoma, washington, united kingdom\n",
       "278855             brampton, ontario, canada\n",
       "278856             knoxville, tennessee, usa\n",
       "278857                  dublin, n/a, ireland\n",
       "Name: Location, Length: 278858, dtype: object"
      ]
     },
     "execution_count": 48,
     "metadata": {},
     "output_type": "execute_result"
    }
   ],
   "source": [
    "users_raw['Location']"
   ]
  },
  {
   "cell_type": "code",
   "execution_count": 49,
   "id": "c47e79e3",
   "metadata": {},
   "outputs": [
    {
     "data": {
      "text/plain": [
       "0"
      ]
     },
     "execution_count": 49,
     "metadata": {},
     "output_type": "execute_result"
    }
   ],
   "source": [
    "users_raw.loc[users_raw['Location'].isnull(),'Location'].count()"
   ]
  },
  {
   "cell_type": "markdown",
   "id": "735fd0bf",
   "metadata": {},
   "source": [
    "Great! No missing locations."
   ]
  },
  {
   "cell_type": "markdown",
   "id": "b7d048a3",
   "metadata": {},
   "source": [
    "## Age "
   ]
  },
  {
   "cell_type": "markdown",
   "id": "a5660450",
   "metadata": {},
   "source": [
    "### Missing values"
   ]
  },
  {
   "cell_type": "code",
   "execution_count": 51,
   "id": "b4a8dbd5",
   "metadata": {},
   "outputs": [
    {
     "data": {
      "text/plain": [
       "110762"
      ]
     },
     "execution_count": 51,
     "metadata": {},
     "output_type": "execute_result"
    }
   ],
   "source": [
    "users_raw['Age'].isnull().sum()"
   ]
  },
  {
   "cell_type": "markdown",
   "id": "0c0065f3",
   "metadata": {},
   "source": [
    "Thera re many users missing age information."
   ]
  },
  {
   "cell_type": "code",
   "execution_count": 52,
   "id": "a73cc25c",
   "metadata": {},
   "outputs": [],
   "source": [
    "users_raw['Age'] = pd.to_numeric(users_raw['Age'], errors='coerce')"
   ]
  },
  {
   "cell_type": "markdown",
   "id": "4aa1b9c4",
   "metadata": {},
   "source": [
    "Let's replace missing age with the average reader age"
   ]
  },
  {
   "cell_type": "code",
   "execution_count": 53,
   "id": "6c65f2fc",
   "metadata": {},
   "outputs": [
    {
     "data": {
      "text/plain": [
       "34.75143370454978"
      ]
     },
     "execution_count": 53,
     "metadata": {},
     "output_type": "execute_result"
    }
   ],
   "source": [
    "age_mean = users_raw['Age'].mean()\n",
    "age_mean"
   ]
  },
  {
   "cell_type": "code",
   "execution_count": 54,
   "id": "3ddd74be",
   "metadata": {},
   "outputs": [
    {
     "data": {
      "text/plain": [
       "0         34.751434\n",
       "1         18.000000\n",
       "2         34.751434\n",
       "3         17.000000\n",
       "4         34.751434\n",
       "            ...    \n",
       "278853    34.751434\n",
       "278854    50.000000\n",
       "278855    34.751434\n",
       "278856    34.751434\n",
       "278857    34.751434\n",
       "Name: Age, Length: 278858, dtype: float64"
      ]
     },
     "execution_count": 54,
     "metadata": {},
     "output_type": "execute_result"
    }
   ],
   "source": [
    "users_raw['Age'].fillna(age_mean)"
   ]
  },
  {
   "cell_type": "markdown",
   "id": "f0510ea2",
   "metadata": {},
   "source": [
    "## Remove hyphens from column names"
   ]
  },
  {
   "cell_type": "code",
   "execution_count": 55,
   "id": "fe1f87b4",
   "metadata": {},
   "outputs": [
    {
     "data": {
      "text/plain": [
       "Index(['ISBN', 'Book-Title', 'Book-Author', 'Year-Of-Publication', 'Publisher',\n",
       "       'Image-URL-S'],\n",
       "      dtype='object')"
      ]
     },
     "execution_count": 55,
     "metadata": {},
     "output_type": "execute_result"
    }
   ],
   "source": [
    "books_raw.columns"
   ]
  },
  {
   "cell_type": "code",
   "execution_count": 56,
   "id": "b2dbc592",
   "metadata": {},
   "outputs": [],
   "source": [
    "books_raw.rename(columns={'Book-Title':'Book_Title',\n",
    "                      'Book-Author':'Book_Author',\n",
    "                      'Year-Of-Publication':'Year_Of_Publication',\n",
    "                      'Image-URL-S':'Image_URL_S'}, inplace=True)"
   ]
  },
  {
   "cell_type": "code",
   "execution_count": 57,
   "id": "d69e2653",
   "metadata": {},
   "outputs": [
    {
     "data": {
      "text/plain": [
       "Index(['User-ID', 'ISBN', 'Book-Rating'], dtype='object')"
      ]
     },
     "execution_count": 57,
     "metadata": {},
     "output_type": "execute_result"
    }
   ],
   "source": [
    "ratings_raw.columns"
   ]
  },
  {
   "cell_type": "code",
   "execution_count": 58,
   "id": "120bdb3e",
   "metadata": {},
   "outputs": [],
   "source": [
    "ratings_raw.rename(columns={'User-ID':'User_ID',\n",
    "                        'Book-Rating':'Book_Rating'}, inplace=True)"
   ]
  },
  {
   "cell_type": "code",
   "execution_count": 59,
   "id": "7991bdb7",
   "metadata": {},
   "outputs": [
    {
     "data": {
      "text/plain": [
       "Index(['User-ID', 'Location', 'Age'], dtype='object')"
      ]
     },
     "execution_count": 59,
     "metadata": {},
     "output_type": "execute_result"
    }
   ],
   "source": [
    "users_raw.columns"
   ]
  },
  {
   "cell_type": "code",
   "execution_count": 60,
   "id": "d5d25c8c",
   "metadata": {},
   "outputs": [],
   "source": [
    "users_raw.rename(columns={'User-ID':'User_ID'}, inplace=True)"
   ]
  },
  {
   "cell_type": "markdown",
   "id": "e6ff4ffe",
   "metadata": {},
   "source": [
    "# Export preprocessed dataframes"
   ]
  },
  {
   "cell_type": "code",
   "execution_count": 61,
   "id": "1fc1f8bf",
   "metadata": {},
   "outputs": [],
   "source": [
    "books_raw.to_pickle(\"./pickle_files/d1_books.pkl\")\n",
    "ratings_raw.to_pickle(\"./pickle_files/d1_ratings.pkl\")\n",
    "users_raw.to_pickle(\"./pickle_files/d1_users.pkl\")"
   ]
  },
  {
   "cell_type": "markdown",
   "id": "18ea0d0d",
   "metadata": {},
   "source": [
    "### End of preprocessing"
   ]
  }
 ],
 "metadata": {
  "kernelspec": {
   "display_name": "Python 3 (ipykernel)",
   "language": "python",
   "name": "python3"
  },
  "language_info": {
   "codemirror_mode": {
    "name": "ipython",
    "version": 3
   },
   "file_extension": ".py",
   "mimetype": "text/x-python",
   "name": "python",
   "nbconvert_exporter": "python",
   "pygments_lexer": "ipython3",
   "version": "3.9.5"
  }
 },
 "nbformat": 4,
 "nbformat_minor": 5
}
