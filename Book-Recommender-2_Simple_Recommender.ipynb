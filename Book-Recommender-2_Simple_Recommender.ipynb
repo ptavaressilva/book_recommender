{
 "cells": [
  {
   "cell_type": "markdown",
   "id": "caa73e68",
   "metadata": {},
   "source": [
    "# Hybrid recommender system"
   ]
  },
  {
   "cell_type": "markdown",
   "id": "3edcf32d",
   "metadata": {},
   "source": [
    "The objetive of this project is to create a hybrid book recommendation system that combines three types of recommenders:\n",
    "- **Simple recommender**\n",
    "- Collaborative filtering engine\n",
    "- Content-based recommenders\n",
    "\n",
    "The dataset user is available at https://www.kaggle.com/arashnic/book-recommendation-dataset/version/1![image-2.png](attachment:image-2.png)\n",
    "\n",
    "More information on the three types of recommenders available at https://www.datacamp.com/community/tutorials/recommender-systems-python (partial tutorial, using a different dataset).\n",
    "\n",
    "This notebook implements the Simple recommender system."
   ]
  },
  {
   "cell_type": "markdown",
   "id": "7d9d64b0",
   "metadata": {},
   "source": [
    "## Imports"
   ]
  },
  {
   "cell_type": "code",
   "execution_count": 1,
   "id": "3fa07166",
   "metadata": {},
   "outputs": [],
   "source": [
    "import pandas as pd\n",
    "import matplotlib.pyplot as plt\n",
    "import numpy as np"
   ]
  },
  {
   "cell_type": "markdown",
   "id": "529b3ac4",
   "metadata": {},
   "source": [
    "# Load preprocessed data"
   ]
  },
  {
   "cell_type": "code",
   "execution_count": 2,
   "id": "a87e5934",
   "metadata": {},
   "outputs": [],
   "source": [
    "books = pd.read_pickle(\"./pickle_files/d1_books.pkl\")\n",
    "ratings = pd.read_pickle(\"./pickle_files/d1_ratings.pkl\")\n",
    "users = pd.read_pickle(\"./pickle_files/d1_users.pkl\")"
   ]
  },
  {
   "cell_type": "markdown",
   "id": "7d624b3a",
   "metadata": {},
   "source": [
    "# Determine book average rating"
   ]
  },
  {
   "cell_type": "markdown",
   "id": "48b7a808",
   "metadata": {},
   "source": [
    "### Calculate average rating of each book"
   ]
  },
  {
   "cell_type": "code",
   "execution_count": 3,
   "id": "4331bacd",
   "metadata": {},
   "outputs": [
    {
     "data": {
      "text/html": [
       "<div>\n",
       "<style scoped>\n",
       "    .dataframe tbody tr th:only-of-type {\n",
       "        vertical-align: middle;\n",
       "    }\n",
       "\n",
       "    .dataframe tbody tr th {\n",
       "        vertical-align: top;\n",
       "    }\n",
       "\n",
       "    .dataframe thead th {\n",
       "        text-align: right;\n",
       "    }\n",
       "</style>\n",
       "<table border=\"1\" class=\"dataframe\">\n",
       "  <thead>\n",
       "    <tr style=\"text-align: right;\">\n",
       "      <th></th>\n",
       "      <th>Book_Rating</th>\n",
       "    </tr>\n",
       "    <tr>\n",
       "      <th>ISBN</th>\n",
       "      <th></th>\n",
       "    </tr>\n",
       "  </thead>\n",
       "  <tbody>\n",
       "    <tr>\n",
       "      <th>0330299891</th>\n",
       "      <td>3.0</td>\n",
       "    </tr>\n",
       "    <tr>\n",
       "      <th>0375404120</th>\n",
       "      <td>1.5</td>\n",
       "    </tr>\n",
       "    <tr>\n",
       "      <th>0586045007</th>\n",
       "      <td>0.0</td>\n",
       "    </tr>\n",
       "    <tr>\n",
       "      <th>9022906116</th>\n",
       "      <td>3.5</td>\n",
       "    </tr>\n",
       "    <tr>\n",
       "      <th>9032803328</th>\n",
       "      <td>0.0</td>\n",
       "    </tr>\n",
       "  </tbody>\n",
       "</table>\n",
       "</div>"
      ],
      "text/plain": [
       "             Book_Rating\n",
       "ISBN                    \n",
       " 0330299891          3.0\n",
       " 0375404120          1.5\n",
       " 0586045007          0.0\n",
       " 9022906116          3.5\n",
       " 9032803328          0.0"
      ]
     },
     "execution_count": 3,
     "metadata": {},
     "output_type": "execute_result"
    }
   ],
   "source": [
    "book_mean_rating = ratings[['ISBN','Book_Rating']].groupby('ISBN').mean()\n",
    "book_mean_rating.head()"
   ]
  },
  {
   "cell_type": "markdown",
   "id": "af840292",
   "metadata": {},
   "source": [
    "### Add average rating to books DF"
   ]
  },
  {
   "cell_type": "markdown",
   "id": "6bf38083",
   "metadata": {},
   "source": [
    "All processing will be done on 'books', presenving the original data in 'books_raw'"
   ]
  },
  {
   "cell_type": "code",
   "execution_count": 4,
   "id": "35ae932b",
   "metadata": {},
   "outputs": [],
   "source": [
    "rated_books = books.merge(book_mean_rating, how='inner', on='ISBN')"
   ]
  },
  {
   "cell_type": "markdown",
   "id": "3252be48",
   "metadata": {},
   "source": [
    "All processing will be done on 'ratings', presenving the original data in 'ratings_raw'"
   ]
  },
  {
   "cell_type": "code",
   "execution_count": 5,
   "id": "50ccab99",
   "metadata": {},
   "outputs": [
    {
     "data": {
      "text/html": [
       "<div>\n",
       "<style scoped>\n",
       "    .dataframe tbody tr th:only-of-type {\n",
       "        vertical-align: middle;\n",
       "    }\n",
       "\n",
       "    .dataframe tbody tr th {\n",
       "        vertical-align: top;\n",
       "    }\n",
       "\n",
       "    .dataframe thead th {\n",
       "        text-align: right;\n",
       "    }\n",
       "</style>\n",
       "<table border=\"1\" class=\"dataframe\">\n",
       "  <thead>\n",
       "    <tr style=\"text-align: right;\">\n",
       "      <th></th>\n",
       "      <th>ISBN</th>\n",
       "      <th>Book_Title</th>\n",
       "      <th>Book_Author</th>\n",
       "      <th>Year_Of_Publication</th>\n",
       "      <th>Publisher</th>\n",
       "      <th>Image_URL_S</th>\n",
       "      <th>Book_Rating</th>\n",
       "    </tr>\n",
       "  </thead>\n",
       "  <tbody>\n",
       "    <tr>\n",
       "      <th>0</th>\n",
       "      <td>0195153448</td>\n",
       "      <td>Classical Mythology</td>\n",
       "      <td>Mark P. O. Morford</td>\n",
       "      <td>2002</td>\n",
       "      <td>Oxford University Press</td>\n",
       "      <td>http://images.amazon.com/images/P/0195153448.0...</td>\n",
       "      <td>0.000000</td>\n",
       "    </tr>\n",
       "    <tr>\n",
       "      <th>1</th>\n",
       "      <td>0002005018</td>\n",
       "      <td>Clara Callan</td>\n",
       "      <td>Richard Bruce Wright</td>\n",
       "      <td>2001</td>\n",
       "      <td>HarperFlamingo Canada</td>\n",
       "      <td>http://images.amazon.com/images/P/0002005018.0...</td>\n",
       "      <td>4.928571</td>\n",
       "    </tr>\n",
       "    <tr>\n",
       "      <th>2</th>\n",
       "      <td>0060973129</td>\n",
       "      <td>Decision in Normandy</td>\n",
       "      <td>Carlo D'Este</td>\n",
       "      <td>1991</td>\n",
       "      <td>HarperPerennial</td>\n",
       "      <td>http://images.amazon.com/images/P/0060973129.0...</td>\n",
       "      <td>5.000000</td>\n",
       "    </tr>\n",
       "    <tr>\n",
       "      <th>3</th>\n",
       "      <td>0374157065</td>\n",
       "      <td>Flu: The Story of the Great Influenza Pandemic...</td>\n",
       "      <td>Gina Bari Kolata</td>\n",
       "      <td>1999</td>\n",
       "      <td>Farrar Straus Giroux</td>\n",
       "      <td>http://images.amazon.com/images/P/0374157065.0...</td>\n",
       "      <td>4.272727</td>\n",
       "    </tr>\n",
       "    <tr>\n",
       "      <th>4</th>\n",
       "      <td>0393045218</td>\n",
       "      <td>The Mummies of Urumchi</td>\n",
       "      <td>E. J. W. Barber</td>\n",
       "      <td>1999</td>\n",
       "      <td>W. W. Norton &amp;amp; Company</td>\n",
       "      <td>http://images.amazon.com/images/P/0393045218.0...</td>\n",
       "      <td>0.000000</td>\n",
       "    </tr>\n",
       "  </tbody>\n",
       "</table>\n",
       "</div>"
      ],
      "text/plain": [
       "         ISBN                                         Book_Title  \\\n",
       "0  0195153448                                Classical Mythology   \n",
       "1  0002005018                                       Clara Callan   \n",
       "2  0060973129                               Decision in Normandy   \n",
       "3  0374157065  Flu: The Story of the Great Influenza Pandemic...   \n",
       "4  0393045218                             The Mummies of Urumchi   \n",
       "\n",
       "            Book_Author Year_Of_Publication                   Publisher  \\\n",
       "0    Mark P. O. Morford                2002     Oxford University Press   \n",
       "1  Richard Bruce Wright                2001       HarperFlamingo Canada   \n",
       "2          Carlo D'Este                1991             HarperPerennial   \n",
       "3      Gina Bari Kolata                1999        Farrar Straus Giroux   \n",
       "4       E. J. W. Barber                1999  W. W. Norton &amp; Company   \n",
       "\n",
       "                                         Image_URL_S  Book_Rating  \n",
       "0  http://images.amazon.com/images/P/0195153448.0...     0.000000  \n",
       "1  http://images.amazon.com/images/P/0002005018.0...     4.928571  \n",
       "2  http://images.amazon.com/images/P/0060973129.0...     5.000000  \n",
       "3  http://images.amazon.com/images/P/0374157065.0...     4.272727  \n",
       "4  http://images.amazon.com/images/P/0393045218.0...     0.000000  "
      ]
     },
     "execution_count": 5,
     "metadata": {},
     "output_type": "execute_result"
    }
   ],
   "source": [
    "rated_books.head()"
   ]
  },
  {
   "cell_type": "markdown",
   "id": "f8099964",
   "metadata": {},
   "source": [
    "### Histogram of book ratings"
   ]
  },
  {
   "cell_type": "code",
   "execution_count": 6,
   "id": "ad96de99",
   "metadata": {
    "scrolled": true
   },
   "outputs": [
    {
     "data": {
      "image/png": "[encoded data removed]",
      "text/plain": [
       "<Figure size 432x288 with 1 Axes>"
      ]
     },
     "metadata": {
      "needs_background": "light"
     },
     "output_type": "display_data"
    }
   ],
   "source": [
    "hist = rated_books.hist(bins=11,column='Book_Rating')"
   ]
  },
  {
   "cell_type": "markdown",
   "id": "68e369db",
   "metadata": {},
   "source": [
    "Most books have zero rating (inferred)"
   ]
  },
  {
   "cell_type": "markdown",
   "id": "d5b65922",
   "metadata": {},
   "source": [
    "### Calculate number of votes per book"
   ]
  },
  {
   "cell_type": "code",
   "execution_count": 7,
   "id": "4ee17112",
   "metadata": {},
   "outputs": [
    {
     "data": {
      "text/plain": [
       "Index(['User_ID', 'ISBN', 'Book_Rating'], dtype='object')"
      ]
     },
     "execution_count": 7,
     "metadata": {},
     "output_type": "execute_result"
    }
   ],
   "source": [
    "ratings.columns"
   ]
  },
  {
   "cell_type": "code",
   "execution_count": 15,
   "id": "3a4ed0cb",
   "metadata": {},
   "outputs": [
    {
     "data": {
      "text/html": [
       "<div>\n",
       "<style scoped>\n",
       "    .dataframe tbody tr th:only-of-type {\n",
       "        vertical-align: middle;\n",
       "    }\n",
       "\n",
       "    .dataframe tbody tr th {\n",
       "        vertical-align: top;\n",
       "    }\n",
       "\n",
       "    .dataframe thead th {\n",
       "        text-align: right;\n",
       "    }\n",
       "</style>\n",
       "<table border=\"1\" class=\"dataframe\">\n",
       "  <thead>\n",
       "    <tr style=\"text-align: right;\">\n",
       "      <th></th>\n",
       "      <th>Votes</th>\n",
       "    </tr>\n",
       "    <tr>\n",
       "      <th>ISBN</th>\n",
       "      <th></th>\n",
       "    </tr>\n",
       "  </thead>\n",
       "  <tbody>\n",
       "    <tr>\n",
       "      <th>0330299891</th>\n",
       "      <td>2</td>\n",
       "    </tr>\n",
       "    <tr>\n",
       "      <th>0375404120</th>\n",
       "      <td>2</td>\n",
       "    </tr>\n",
       "    <tr>\n",
       "      <th>0586045007</th>\n",
       "      <td>1</td>\n",
       "    </tr>\n",
       "    <tr>\n",
       "      <th>9022906116</th>\n",
       "      <td>2</td>\n",
       "    </tr>\n",
       "    <tr>\n",
       "      <th>9032803328</th>\n",
       "      <td>1</td>\n",
       "    </tr>\n",
       "  </tbody>\n",
       "</table>\n",
       "</div>"
      ],
      "text/plain": [
       "             Votes\n",
       "ISBN              \n",
       " 0330299891      2\n",
       " 0375404120      2\n",
       " 0586045007      1\n",
       " 9022906116      2\n",
       " 9032803328      1"
      ]
     },
     "execution_count": 15,
     "metadata": {},
     "output_type": "execute_result"
    }
   ],
   "source": [
    "book_votes = ratings[['ISBN','User_ID']].groupby('ISBN').count()\n",
    "book_votes.rename(columns={'User_ID':'Votes'}, inplace=True)\n",
    "book_votes.head()"
   ]
  },
  {
   "cell_type": "code",
   "execution_count": 16,
   "id": "ff3555c5",
   "metadata": {},
   "outputs": [
    {
     "data": {
      "text/plain": [
       "Votes    3.376185\n",
       "dtype: float64"
      ]
     },
     "execution_count": 16,
     "metadata": {},
     "output_type": "execute_result"
    }
   ],
   "source": [
    "book_votes.sum(0) / book_votes.count(0)"
   ]
  },
  {
   "cell_type": "markdown",
   "id": "174961d7",
   "metadata": {},
   "source": [
    "Average book rating is 3.376185"
   ]
  },
  {
   "cell_type": "code",
   "execution_count": 17,
   "id": "d772e640",
   "metadata": {},
   "outputs": [
    {
     "data": {
      "text/plain": [
       "Votes    2502\n",
       "dtype: int64"
      ]
     },
     "execution_count": 17,
     "metadata": {},
     "output_type": "execute_result"
    }
   ],
   "source": [
    "book_votes.max(0)"
   ]
  },
  {
   "cell_type": "markdown",
   "id": "eb0926fa",
   "metadata": {},
   "source": [
    "### 10 most voted books"
   ]
  },
  {
   "cell_type": "code",
   "execution_count": 18,
   "id": "11bfb8f4",
   "metadata": {},
   "outputs": [
    {
     "data": {
      "text/html": [
       "<div>\n",
       "<style scoped>\n",
       "    .dataframe tbody tr th:only-of-type {\n",
       "        vertical-align: middle;\n",
       "    }\n",
       "\n",
       "    .dataframe tbody tr th {\n",
       "        vertical-align: top;\n",
       "    }\n",
       "\n",
       "    .dataframe thead th {\n",
       "        text-align: right;\n",
       "    }\n",
       "</style>\n",
       "<table border=\"1\" class=\"dataframe\">\n",
       "  <thead>\n",
       "    <tr style=\"text-align: right;\">\n",
       "      <th></th>\n",
       "      <th>Votes</th>\n",
       "    </tr>\n",
       "    <tr>\n",
       "      <th>ISBN</th>\n",
       "      <th></th>\n",
       "    </tr>\n",
       "  </thead>\n",
       "  <tbody>\n",
       "    <tr>\n",
       "      <th>0971880107</th>\n",
       "      <td>2502</td>\n",
       "    </tr>\n",
       "    <tr>\n",
       "      <th>0316666343</th>\n",
       "      <td>1295</td>\n",
       "    </tr>\n",
       "    <tr>\n",
       "      <th>0385504209</th>\n",
       "      <td>883</td>\n",
       "    </tr>\n",
       "    <tr>\n",
       "      <th>0060928336</th>\n",
       "      <td>732</td>\n",
       "    </tr>\n",
       "    <tr>\n",
       "      <th>0312195516</th>\n",
       "      <td>723</td>\n",
       "    </tr>\n",
       "    <tr>\n",
       "      <th>044023722X</th>\n",
       "      <td>647</td>\n",
       "    </tr>\n",
       "    <tr>\n",
       "      <th>0679781587</th>\n",
       "      <td>639</td>\n",
       "    </tr>\n",
       "    <tr>\n",
       "      <th>0142001740</th>\n",
       "      <td>615</td>\n",
       "    </tr>\n",
       "    <tr>\n",
       "      <th>067976402X</th>\n",
       "      <td>614</td>\n",
       "    </tr>\n",
       "    <tr>\n",
       "      <th>0671027360</th>\n",
       "      <td>586</td>\n",
       "    </tr>\n",
       "  </tbody>\n",
       "</table>\n",
       "</div>"
      ],
      "text/plain": [
       "            Votes\n",
       "ISBN             \n",
       "0971880107   2502\n",
       "0316666343   1295\n",
       "0385504209    883\n",
       "0060928336    732\n",
       "0312195516    723\n",
       "044023722X    647\n",
       "0679781587    639\n",
       "0142001740    615\n",
       "067976402X    614\n",
       "0671027360    586"
      ]
     },
     "execution_count": 18,
     "metadata": {},
     "output_type": "execute_result"
    }
   ],
   "source": [
    "book_votes.nlargest(10, 'Votes')"
   ]
  },
  {
   "cell_type": "markdown",
   "id": "9d0d2f55",
   "metadata": {},
   "source": [
    "### Let's get rid of books with too few votes"
   ]
  },
  {
   "cell_type": "markdown",
   "id": "d094ecc0",
   "metadata": {},
   "source": [
    "We'll keep only the books with 100 or more votes"
   ]
  },
  {
   "cell_type": "code",
   "execution_count": 22,
   "id": "724c7bc3",
   "metadata": {},
   "outputs": [],
   "source": [
    "book_votes.drop(book_votes.loc[book_votes.Votes <100].index, inplace=True)"
   ]
  },
  {
   "cell_type": "code",
   "execution_count": 23,
   "id": "85e1b56a",
   "metadata": {},
   "outputs": [],
   "source": [
    "book_votes = book_votes.sort_values('Votes')"
   ]
  },
  {
   "cell_type": "code",
   "execution_count": 25,
   "id": "c0f3f4f3",
   "metadata": {},
   "outputs": [
    {
     "data": {
      "text/html": [
       "<div>\n",
       "<style scoped>\n",
       "    .dataframe tbody tr th:only-of-type {\n",
       "        vertical-align: middle;\n",
       "    }\n",
       "\n",
       "    .dataframe tbody tr th {\n",
       "        vertical-align: top;\n",
       "    }\n",
       "\n",
       "    .dataframe thead th {\n",
       "        text-align: right;\n",
       "    }\n",
       "</style>\n",
       "<table border=\"1\" class=\"dataframe\">\n",
       "  <thead>\n",
       "    <tr style=\"text-align: right;\">\n",
       "      <th></th>\n",
       "      <th>Votes</th>\n",
       "    </tr>\n",
       "    <tr>\n",
       "      <th>ISBN</th>\n",
       "      <th></th>\n",
       "    </tr>\n",
       "  </thead>\n",
       "  <tbody>\n",
       "    <tr>\n",
       "      <th>0140092323</th>\n",
       "      <td>100</td>\n",
       "    </tr>\n",
       "    <tr>\n",
       "      <th>0786866586</th>\n",
       "      <td>100</td>\n",
       "    </tr>\n",
       "    <tr>\n",
       "      <th>0385424736</th>\n",
       "      <td>100</td>\n",
       "    </tr>\n",
       "    <tr>\n",
       "      <th>0425151867</th>\n",
       "      <td>100</td>\n",
       "    </tr>\n",
       "    <tr>\n",
       "      <th>067100042X</th>\n",
       "      <td>100</td>\n",
       "    </tr>\n",
       "    <tr>\n",
       "      <th>0449203794</th>\n",
       "      <td>100</td>\n",
       "    </tr>\n",
       "    <tr>\n",
       "      <th>0425189864</th>\n",
       "      <td>100</td>\n",
       "    </tr>\n",
       "    <tr>\n",
       "      <th>0060916508</th>\n",
       "      <td>100</td>\n",
       "    </tr>\n",
       "    <tr>\n",
       "      <th>0312966806</th>\n",
       "      <td>100</td>\n",
       "    </tr>\n",
       "    <tr>\n",
       "      <th>0425136981</th>\n",
       "      <td>100</td>\n",
       "    </tr>\n",
       "    <tr>\n",
       "      <th>0385508417</th>\n",
       "      <td>101</td>\n",
       "    </tr>\n",
       "    <tr>\n",
       "      <th>0515120618</th>\n",
       "      <td>101</td>\n",
       "    </tr>\n",
       "    <tr>\n",
       "      <th>0553208845</th>\n",
       "      <td>101</td>\n",
       "    </tr>\n",
       "    <tr>\n",
       "      <th>0446530522</th>\n",
       "      <td>101</td>\n",
       "    </tr>\n",
       "    <tr>\n",
       "      <th>080411918X</th>\n",
       "      <td>101</td>\n",
       "    </tr>\n",
       "    <tr>\n",
       "      <th>051511992X</th>\n",
       "      <td>101</td>\n",
       "    </tr>\n",
       "    <tr>\n",
       "      <th>0446604844</th>\n",
       "      <td>101</td>\n",
       "    </tr>\n",
       "    <tr>\n",
       "      <th>0385335830</th>\n",
       "      <td>101</td>\n",
       "    </tr>\n",
       "    <tr>\n",
       "      <th>076790592X</th>\n",
       "      <td>101</td>\n",
       "    </tr>\n",
       "    <tr>\n",
       "      <th>0140042598</th>\n",
       "      <td>101</td>\n",
       "    </tr>\n",
       "  </tbody>\n",
       "</table>\n",
       "</div>"
      ],
      "text/plain": [
       "            Votes\n",
       "ISBN             \n",
       "0140092323    100\n",
       "0786866586    100\n",
       "0385424736    100\n",
       "0425151867    100\n",
       "067100042X    100\n",
       "0449203794    100\n",
       "0425189864    100\n",
       "0060916508    100\n",
       "0312966806    100\n",
       "0425136981    100\n",
       "0385508417    101\n",
       "0515120618    101\n",
       "0553208845    101\n",
       "0446530522    101\n",
       "080411918X    101\n",
       "051511992X    101\n",
       "0446604844    101\n",
       "0385335830    101\n",
       "076790592X    101\n",
       "0140042598    101"
      ]
     },
     "execution_count": 25,
     "metadata": {},
     "output_type": "execute_result"
    }
   ],
   "source": [
    "book_votes.head(20)"
   ]
  },
  {
   "cell_type": "code",
   "execution_count": 26,
   "id": "cb32b7c7",
   "metadata": {},
   "outputs": [
    {
     "data": {
      "image/png": "[encoded data removed]",
      "text/plain": [
       "<Figure size 432x288 with 1 Axes>"
      ]
     },
     "metadata": {
      "needs_background": "light"
     },
     "output_type": "display_data"
    }
   ],
   "source": [
    "plt.hist(book_votes, bins = [100,150,200,250,300,350,400,450,500,550,600,700,800,900,1000]) \n",
    "plt.xlabel('Votes',fontsize=15)\n",
    "plt.ylabel('Books',fontsize=15)\n",
    "x = [100, 1000]\n",
    "y = [10, 10]\n",
    "plt.plot(x, y, color=\"red\", linewidth=1)\n",
    "plt.show()"
   ]
  },
  {
   "cell_type": "markdown",
   "id": "72f0bbf1",
   "metadata": {},
   "source": [
    "The vast majority of books has fewer than 400 votes"
   ]
  },
  {
   "cell_type": "markdown",
   "id": "0b72789a",
   "metadata": {},
   "source": [
    "### Add number of votes to 'books'"
   ]
  },
  {
   "cell_type": "code",
   "execution_count": 27,
   "id": "4d087415",
   "metadata": {},
   "outputs": [
    {
     "data": {
      "text/html": [
       "<div>\n",
       "<style scoped>\n",
       "    .dataframe tbody tr th:only-of-type {\n",
       "        vertical-align: middle;\n",
       "    }\n",
       "\n",
       "    .dataframe tbody tr th {\n",
       "        vertical-align: top;\n",
       "    }\n",
       "\n",
       "    .dataframe thead th {\n",
       "        text-align: right;\n",
       "    }\n",
       "</style>\n",
       "<table border=\"1\" class=\"dataframe\">\n",
       "  <thead>\n",
       "    <tr style=\"text-align: right;\">\n",
       "      <th></th>\n",
       "      <th>ISBN</th>\n",
       "      <th>Book_Title</th>\n",
       "      <th>Book_Author</th>\n",
       "      <th>Year_Of_Publication</th>\n",
       "      <th>Publisher</th>\n",
       "      <th>Image_URL_S</th>\n",
       "      <th>Book_Rating</th>\n",
       "      <th>Votes</th>\n",
       "    </tr>\n",
       "  </thead>\n",
       "  <tbody>\n",
       "    <tr>\n",
       "      <th>0</th>\n",
       "      <td>0440234743</td>\n",
       "      <td>The Testament</td>\n",
       "      <td>John Grisham</td>\n",
       "      <td>1999</td>\n",
       "      <td>Dell</td>\n",
       "      <td>http://images.amazon.com/images/P/0440234743.0...</td>\n",
       "      <td>3.085308</td>\n",
       "      <td>422</td>\n",
       "    </tr>\n",
       "    <tr>\n",
       "      <th>1</th>\n",
       "      <td>0452264464</td>\n",
       "      <td>Beloved (Plume Contemporary Fiction)</td>\n",
       "      <td>Toni Morrison</td>\n",
       "      <td>1994</td>\n",
       "      <td>Plume</td>\n",
       "      <td>http://images.amazon.com/images/P/0452264464.0...</td>\n",
       "      <td>3.411111</td>\n",
       "      <td>180</td>\n",
       "    </tr>\n",
       "    <tr>\n",
       "      <th>2</th>\n",
       "      <td>0971880107</td>\n",
       "      <td>Wild Animus</td>\n",
       "      <td>Rich Shapero</td>\n",
       "      <td>2004</td>\n",
       "      <td>Too Far</td>\n",
       "      <td>http://images.amazon.com/images/P/0971880107.0...</td>\n",
       "      <td>1.019584</td>\n",
       "      <td>2502</td>\n",
       "    </tr>\n",
       "    <tr>\n",
       "      <th>3</th>\n",
       "      <td>0345402871</td>\n",
       "      <td>Airframe</td>\n",
       "      <td>Michael Crichton</td>\n",
       "      <td>1997</td>\n",
       "      <td>Ballantine Books</td>\n",
       "      <td>http://images.amazon.com/images/P/0345402871.0...</td>\n",
       "      <td>2.845411</td>\n",
       "      <td>207</td>\n",
       "    </tr>\n",
       "    <tr>\n",
       "      <th>4</th>\n",
       "      <td>0345417623</td>\n",
       "      <td>Timeline</td>\n",
       "      <td>MICHAEL CRICHTON</td>\n",
       "      <td>2000</td>\n",
       "      <td>Ballantine Books</td>\n",
       "      <td>http://images.amazon.com/images/P/0345417623.0...</td>\n",
       "      <td>3.761671</td>\n",
       "      <td>407</td>\n",
       "    </tr>\n",
       "  </tbody>\n",
       "</table>\n",
       "</div>"
      ],
      "text/plain": [
       "         ISBN                            Book_Title       Book_Author  \\\n",
       "0  0440234743                         The Testament      John Grisham   \n",
       "1  0452264464  Beloved (Plume Contemporary Fiction)     Toni Morrison   \n",
       "2  0971880107                           Wild Animus      Rich Shapero   \n",
       "3  0345402871                              Airframe  Michael Crichton   \n",
       "4  0345417623                              Timeline  MICHAEL CRICHTON   \n",
       "\n",
       "  Year_Of_Publication         Publisher  \\\n",
       "0                1999              Dell   \n",
       "1                1994             Plume   \n",
       "2                2004           Too Far   \n",
       "3                1997  Ballantine Books   \n",
       "4                2000  Ballantine Books   \n",
       "\n",
       "                                         Image_URL_S  Book_Rating  Votes  \n",
       "0  http://images.amazon.com/images/P/0440234743.0...     3.085308    422  \n",
       "1  http://images.amazon.com/images/P/0452264464.0...     3.411111    180  \n",
       "2  http://images.amazon.com/images/P/0971880107.0...     1.019584   2502  \n",
       "3  http://images.amazon.com/images/P/0345402871.0...     2.845411    207  \n",
       "4  http://images.amazon.com/images/P/0345417623.0...     3.761671    407  "
      ]
     },
     "execution_count": 27,
     "metadata": {},
     "output_type": "execute_result"
    }
   ],
   "source": [
    "rated_books = rated_books.merge(book_votes, how='inner', on='ISBN')\n",
    "rated_books.head()"
   ]
  },
  {
   "cell_type": "markdown",
   "id": "05d7751c",
   "metadata": {},
   "source": [
    "### Calculate the score of the book"
   ]
  },
  {
   "cell_type": "code",
   "execution_count": 28,
   "id": "e7349aea",
   "metadata": {},
   "outputs": [
    {
     "data": {
      "text/plain": [
       "3.187460629101757"
      ]
     },
     "execution_count": 28,
     "metadata": {},
     "output_type": "execute_result"
    }
   ],
   "source": [
    "C = rated_books['Book_Rating'].mean()\n",
    "C"
   ]
  },
  {
   "cell_type": "code",
   "execution_count": 29,
   "id": "3ff033d0",
   "metadata": {},
   "outputs": [
    {
     "data": {
      "text/plain": [
       "320.4"
      ]
     },
     "execution_count": 29,
     "metadata": {},
     "output_type": "execute_result"
    }
   ],
   "source": [
    "m = rated_books['Votes'].quantile(0.90)\n",
    "m"
   ]
  },
  {
   "cell_type": "code",
   "execution_count": 30,
   "id": "fbad5114",
   "metadata": {},
   "outputs": [],
   "source": [
    "# Function that computes the weighted rating of each book\n",
    "def weighted_rating(x, m=m, C=C):\n",
    "    v = x['Votes']\n",
    "    R = x['Book_Rating']\n",
    "    return (v/(v+m) * R) + (m/(m+v) * C)"
   ]
  },
  {
   "cell_type": "code",
   "execution_count": 31,
   "id": "09603cba",
   "metadata": {},
   "outputs": [],
   "source": [
    "# Define a new feature 'score' and calculate its value with `weighted_rating()`\n",
    "rated_books['Score'] = rated_books.apply(weighted_rating, axis=1)"
   ]
  },
  {
   "cell_type": "code",
   "execution_count": 32,
   "id": "5874a9a5",
   "metadata": {},
   "outputs": [
    {
     "data": {
      "text/html": [
       "<div>\n",
       "<style scoped>\n",
       "    .dataframe tbody tr th:only-of-type {\n",
       "        vertical-align: middle;\n",
       "    }\n",
       "\n",
       "    .dataframe tbody tr th {\n",
       "        vertical-align: top;\n",
       "    }\n",
       "\n",
       "    .dataframe thead th {\n",
       "        text-align: right;\n",
       "    }\n",
       "</style>\n",
       "<table border=\"1\" class=\"dataframe\">\n",
       "  <thead>\n",
       "    <tr style=\"text-align: right;\">\n",
       "      <th></th>\n",
       "      <th>ISBN</th>\n",
       "      <th>Book_Title</th>\n",
       "      <th>Book_Author</th>\n",
       "      <th>Year_Of_Publication</th>\n",
       "      <th>Publisher</th>\n",
       "      <th>Image_URL_S</th>\n",
       "      <th>Book_Rating</th>\n",
       "      <th>Votes</th>\n",
       "      <th>Score</th>\n",
       "    </tr>\n",
       "  </thead>\n",
       "  <tbody>\n",
       "    <tr>\n",
       "      <th>0</th>\n",
       "      <td>0440234743</td>\n",
       "      <td>The Testament</td>\n",
       "      <td>John Grisham</td>\n",
       "      <td>1999</td>\n",
       "      <td>Dell</td>\n",
       "      <td>http://images.amazon.com/images/P/0440234743.0...</td>\n",
       "      <td>3.085308</td>\n",
       "      <td>422</td>\n",
       "      <td>3.129394</td>\n",
       "    </tr>\n",
       "    <tr>\n",
       "      <th>1</th>\n",
       "      <td>0452264464</td>\n",
       "      <td>Beloved (Plume Contemporary Fiction)</td>\n",
       "      <td>Toni Morrison</td>\n",
       "      <td>1994</td>\n",
       "      <td>Plume</td>\n",
       "      <td>http://images.amazon.com/images/P/0452264464.0...</td>\n",
       "      <td>3.411111</td>\n",
       "      <td>180</td>\n",
       "      <td>3.267910</td>\n",
       "    </tr>\n",
       "    <tr>\n",
       "      <th>2</th>\n",
       "      <td>0971880107</td>\n",
       "      <td>Wild Animus</td>\n",
       "      <td>Rich Shapero</td>\n",
       "      <td>2004</td>\n",
       "      <td>Too Far</td>\n",
       "      <td>http://images.amazon.com/images/P/0971880107.0...</td>\n",
       "      <td>1.019584</td>\n",
       "      <td>2502</td>\n",
       "      <td>1.265683</td>\n",
       "    </tr>\n",
       "    <tr>\n",
       "      <th>3</th>\n",
       "      <td>0345402871</td>\n",
       "      <td>Airframe</td>\n",
       "      <td>Michael Crichton</td>\n",
       "      <td>1997</td>\n",
       "      <td>Ballantine Books</td>\n",
       "      <td>http://images.amazon.com/images/P/0345402871.0...</td>\n",
       "      <td>2.845411</td>\n",
       "      <td>207</td>\n",
       "      <td>3.053209</td>\n",
       "    </tr>\n",
       "    <tr>\n",
       "      <th>4</th>\n",
       "      <td>0345417623</td>\n",
       "      <td>Timeline</td>\n",
       "      <td>MICHAEL CRICHTON</td>\n",
       "      <td>2000</td>\n",
       "      <td>Ballantine Books</td>\n",
       "      <td>http://images.amazon.com/images/P/0345417623.0...</td>\n",
       "      <td>3.761671</td>\n",
       "      <td>407</td>\n",
       "      <td>3.508747</td>\n",
       "    </tr>\n",
       "  </tbody>\n",
       "</table>\n",
       "</div>"
      ],
      "text/plain": [
       "         ISBN                            Book_Title       Book_Author  \\\n",
       "0  0440234743                         The Testament      John Grisham   \n",
       "1  0452264464  Beloved (Plume Contemporary Fiction)     Toni Morrison   \n",
       "2  0971880107                           Wild Animus      Rich Shapero   \n",
       "3  0345402871                              Airframe  Michael Crichton   \n",
       "4  0345417623                              Timeline  MICHAEL CRICHTON   \n",
       "\n",
       "  Year_Of_Publication         Publisher  \\\n",
       "0                1999              Dell   \n",
       "1                1994             Plume   \n",
       "2                2004           Too Far   \n",
       "3                1997  Ballantine Books   \n",
       "4                2000  Ballantine Books   \n",
       "\n",
       "                                         Image_URL_S  Book_Rating  Votes  \\\n",
       "0  http://images.amazon.com/images/P/0440234743.0...     3.085308    422   \n",
       "1  http://images.amazon.com/images/P/0452264464.0...     3.411111    180   \n",
       "2  http://images.amazon.com/images/P/0971880107.0...     1.019584   2502   \n",
       "3  http://images.amazon.com/images/P/0345402871.0...     2.845411    207   \n",
       "4  http://images.amazon.com/images/P/0345417623.0...     3.761671    407   \n",
       "\n",
       "      Score  \n",
       "0  3.129394  \n",
       "1  3.267910  \n",
       "2  1.265683  \n",
       "3  3.053209  \n",
       "4  3.508747  "
      ]
     },
     "execution_count": 32,
     "metadata": {},
     "output_type": "execute_result"
    }
   ],
   "source": [
    "rated_books.head()"
   ]
  },
  {
   "cell_type": "markdown",
   "id": "41c43dc2",
   "metadata": {},
   "source": [
    "## And best books are... (drumroll)"
   ]
  },
  {
   "cell_type": "code",
   "execution_count": 34,
   "id": "6fb50b23",
   "metadata": {},
   "outputs": [
    {
     "data": {
      "text/html": [
       "<div>\n",
       "<style scoped>\n",
       "    .dataframe tbody tr th:only-of-type {\n",
       "        vertical-align: middle;\n",
       "    }\n",
       "\n",
       "    .dataframe tbody tr th {\n",
       "        vertical-align: top;\n",
       "    }\n",
       "\n",
       "    .dataframe thead th {\n",
       "        text-align: right;\n",
       "    }\n",
       "</style>\n",
       "<table border=\"1\" class=\"dataframe\">\n",
       "  <thead>\n",
       "    <tr style=\"text-align: right;\">\n",
       "      <th></th>\n",
       "      <th>ISBN</th>\n",
       "      <th>Book_Title</th>\n",
       "      <th>Book_Author</th>\n",
       "      <th>Year_Of_Publication</th>\n",
       "      <th>Publisher</th>\n",
       "      <th>Image_URL_S</th>\n",
       "      <th>Book_Rating</th>\n",
       "      <th>Votes</th>\n",
       "      <th>Score</th>\n",
       "    </tr>\n",
       "  </thead>\n",
       "  <tbody>\n",
       "    <tr>\n",
       "      <th>468</th>\n",
       "      <td>0439139597</td>\n",
       "      <td>Harry Potter and the Goblet of Fire (Book 4)</td>\n",
       "      <td>J. K. Rowling</td>\n",
       "      <td>2000</td>\n",
       "      <td>Scholastic</td>\n",
       "      <td>http://images.amazon.com/images/P/0439139597.0...</td>\n",
       "      <td>6.541237</td>\n",
       "      <td>194</td>\n",
       "      <td>4.452299</td>\n",
       "    </tr>\n",
       "    <tr>\n",
       "      <th>386</th>\n",
       "      <td>0439136350</td>\n",
       "      <td>Harry Potter and the Prisoner of Azkaban (Book 3)</td>\n",
       "      <td>J. K. Rowling</td>\n",
       "      <td>1999</td>\n",
       "      <td>Scholastic</td>\n",
       "      <td>http://images.amazon.com/images/P/0439136350.0...</td>\n",
       "      <td>6.467005</td>\n",
       "      <td>197</td>\n",
       "      <td>4.436147</td>\n",
       "    </tr>\n",
       "    <tr>\n",
       "      <th>474</th>\n",
       "      <td>043935806X</td>\n",
       "      <td>Harry Potter and the Order of the Phoenix (Boo...</td>\n",
       "      <td>J. K. Rowling</td>\n",
       "      <td>2003</td>\n",
       "      <td>Scholastic</td>\n",
       "      <td>http://images.amazon.com/images/P/043935806X.0...</td>\n",
       "      <td>5.571856</td>\n",
       "      <td>334</td>\n",
       "      <td>4.404435</td>\n",
       "    </tr>\n",
       "    <tr>\n",
       "      <th>469</th>\n",
       "      <td>0439064864</td>\n",
       "      <td>Harry Potter and the Chamber of Secrets (Book 2)</td>\n",
       "      <td>J. K. Rowling</td>\n",
       "      <td>1999</td>\n",
       "      <td>Scholastic</td>\n",
       "      <td>http://images.amazon.com/images/P/0439064864.0...</td>\n",
       "      <td>6.611765</td>\n",
       "      <td>170</td>\n",
       "      <td>4.374515</td>\n",
       "    </tr>\n",
       "    <tr>\n",
       "      <th>261</th>\n",
       "      <td>059035342X</td>\n",
       "      <td>Harry Potter and the Sorcerer's Stone (Harry P...</td>\n",
       "      <td>J. K. Rowling</td>\n",
       "      <td>1999</td>\n",
       "      <td>Arthur A. Levine Books</td>\n",
       "      <td>http://images.amazon.com/images/P/059035342X.0...</td>\n",
       "      <td>4.900175</td>\n",
       "      <td>571</td>\n",
       "      <td>4.284566</td>\n",
       "    </tr>\n",
       "    <tr>\n",
       "      <th>316</th>\n",
       "      <td>0590353403</td>\n",
       "      <td>Harry Potter and the Sorcerer's Stone (Book 1)</td>\n",
       "      <td>J. K. Rowling</td>\n",
       "      <td>1998</td>\n",
       "      <td>Scholastic</td>\n",
       "      <td>http://images.amazon.com/images/P/0590353403.0...</td>\n",
       "      <td>6.363095</td>\n",
       "      <td>168</td>\n",
       "      <td>4.279817</td>\n",
       "    </tr>\n",
       "    <tr>\n",
       "      <th>109</th>\n",
       "      <td>0385504209</td>\n",
       "      <td>The Da Vinci Code</td>\n",
       "      <td>Dan Brown</td>\n",
       "      <td>2003</td>\n",
       "      <td>Doubleday</td>\n",
       "      <td>http://images.amazon.com/images/P/0385504209.0...</td>\n",
       "      <td>4.652322</td>\n",
       "      <td>883</td>\n",
       "      <td>4.262309</td>\n",
       "    </tr>\n",
       "    <tr>\n",
       "      <th>67</th>\n",
       "      <td>0316666343</td>\n",
       "      <td>The Lovely Bones: A Novel</td>\n",
       "      <td>Alice Sebold</td>\n",
       "      <td>2002</td>\n",
       "      <td>Little, Brown</td>\n",
       "      <td>http://images.amazon.com/images/P/0316666343.0...</td>\n",
       "      <td>4.468726</td>\n",
       "      <td>1295</td>\n",
       "      <td>4.214598</td>\n",
       "    </tr>\n",
       "    <tr>\n",
       "      <th>5</th>\n",
       "      <td>0446310786</td>\n",
       "      <td>To Kill a Mockingbird</td>\n",
       "      <td>Harper Lee</td>\n",
       "      <td>1988</td>\n",
       "      <td>Little Brown &amp;amp; Company</td>\n",
       "      <td>http://images.amazon.com/images/P/0446310786.0...</td>\n",
       "      <td>4.920308</td>\n",
       "      <td>389</td>\n",
       "      <td>4.137669</td>\n",
       "    </tr>\n",
       "    <tr>\n",
       "      <th>511</th>\n",
       "      <td>0439136369</td>\n",
       "      <td>Harry Potter and the Prisoner of Azkaban (Book 3)</td>\n",
       "      <td>J. K. Rowling</td>\n",
       "      <td>2001</td>\n",
       "      <td>Scholastic</td>\n",
       "      <td>http://images.amazon.com/images/P/0439136369.0...</td>\n",
       "      <td>5.345133</td>\n",
       "      <td>226</td>\n",
       "      <td>4.079909</td>\n",
       "    </tr>\n",
       "    <tr>\n",
       "      <th>362</th>\n",
       "      <td>0345339681</td>\n",
       "      <td>The Hobbit : The Enchanting Prelude to The Lor...</td>\n",
       "      <td>J.R.R. TOLKIEN</td>\n",
       "      <td>1986</td>\n",
       "      <td>Del Rey</td>\n",
       "      <td>http://images.amazon.com/images/P/0345339681.0...</td>\n",
       "      <td>5.007117</td>\n",
       "      <td>281</td>\n",
       "      <td>4.037683</td>\n",
       "    </tr>\n",
       "    <tr>\n",
       "      <th>17</th>\n",
       "      <td>0316769487</td>\n",
       "      <td>The Catcher in the Rye</td>\n",
       "      <td>J.D. Salinger</td>\n",
       "      <td>1991</td>\n",
       "      <td>Little, Brown</td>\n",
       "      <td>http://images.amazon.com/images/P/0316769487.0...</td>\n",
       "      <td>4.635236</td>\n",
       "      <td>403</td>\n",
       "      <td>3.994004</td>\n",
       "    </tr>\n",
       "    <tr>\n",
       "      <th>366</th>\n",
       "      <td>0439064872</td>\n",
       "      <td>Harry Potter and the Chamber of Secrets (Book 2)</td>\n",
       "      <td>J. K. Rowling</td>\n",
       "      <td>2000</td>\n",
       "      <td>Scholastic</td>\n",
       "      <td>http://images.amazon.com/images/P/0439064872.0...</td>\n",
       "      <td>4.729345</td>\n",
       "      <td>351</td>\n",
       "      <td>3.993539</td>\n",
       "    </tr>\n",
       "    <tr>\n",
       "      <th>266</th>\n",
       "      <td>0812550706</td>\n",
       "      <td>Ender's Game (Ender Wiggins Saga (Paperback))</td>\n",
       "      <td>Orson Scott Card</td>\n",
       "      <td>1994</td>\n",
       "      <td>Tor Books</td>\n",
       "      <td>http://images.amazon.com/images/P/0812550706.0...</td>\n",
       "      <td>5.302564</td>\n",
       "      <td>195</td>\n",
       "      <td>3.987704</td>\n",
       "    </tr>\n",
       "    <tr>\n",
       "      <th>79</th>\n",
       "      <td>0312195516</td>\n",
       "      <td>The Red Tent (Bestselling Backlist)</td>\n",
       "      <td>Anita Diamant</td>\n",
       "      <td>1998</td>\n",
       "      <td>Picador USA</td>\n",
       "      <td>http://images.amazon.com/images/P/0312195516.0...</td>\n",
       "      <td>4.334716</td>\n",
       "      <td>723</td>\n",
       "      <td>3.982425</td>\n",
       "    </tr>\n",
       "    <tr>\n",
       "      <th>22</th>\n",
       "      <td>0786868716</td>\n",
       "      <td>The Five People You Meet in Heaven</td>\n",
       "      <td>Mitch Albom</td>\n",
       "      <td>2003</td>\n",
       "      <td>Hyperion</td>\n",
       "      <td>http://images.amazon.com/images/P/0786868716.0...</td>\n",
       "      <td>4.543326</td>\n",
       "      <td>427</td>\n",
       "      <td>3.962085</td>\n",
       "    </tr>\n",
       "    <tr>\n",
       "      <th>535</th>\n",
       "      <td>0439139600</td>\n",
       "      <td>Harry Potter and the Goblet of Fire (Book 4)</td>\n",
       "      <td>J. K. Rowling</td>\n",
       "      <td>2002</td>\n",
       "      <td>Scholastic Paperbacks</td>\n",
       "      <td>http://images.amazon.com/images/P/0439139600.0...</td>\n",
       "      <td>5.103627</td>\n",
       "      <td>193</td>\n",
       "      <td>3.907796</td>\n",
       "    </tr>\n",
       "    <tr>\n",
       "      <th>59</th>\n",
       "      <td>0142001740</td>\n",
       "      <td>The Secret Life of Bees</td>\n",
       "      <td>Sue Monk Kidd</td>\n",
       "      <td>2003</td>\n",
       "      <td>Penguin Books</td>\n",
       "      <td>http://images.amazon.com/images/P/0142001740.0...</td>\n",
       "      <td>4.219512</td>\n",
       "      <td>615</td>\n",
       "      <td>3.866006</td>\n",
       "    </tr>\n",
       "    <tr>\n",
       "      <th>273</th>\n",
       "      <td>0385484518</td>\n",
       "      <td>Tuesdays with Morrie: An Old Man, a Young Man,...</td>\n",
       "      <td>MITCH ALBOM</td>\n",
       "      <td>1997</td>\n",
       "      <td>Doubleday</td>\n",
       "      <td>http://images.amazon.com/images/P/0385484518.0...</td>\n",
       "      <td>4.406650</td>\n",
       "      <td>391</td>\n",
       "      <td>3.857552</td>\n",
       "    </tr>\n",
       "    <tr>\n",
       "      <th>45</th>\n",
       "      <td>0452282152</td>\n",
       "      <td>Girl with a Pearl Earring</td>\n",
       "      <td>Tracy Chevalier</td>\n",
       "      <td>2001</td>\n",
       "      <td>Plume Books</td>\n",
       "      <td>http://images.amazon.com/images/P/0452282152.0...</td>\n",
       "      <td>4.218631</td>\n",
       "      <td>526</td>\n",
       "      <td>3.828287</td>\n",
       "    </tr>\n",
       "  </tbody>\n",
       "</table>\n",
       "</div>"
      ],
      "text/plain": [
       "           ISBN                                         Book_Title  \\\n",
       "468  0439139597       Harry Potter and the Goblet of Fire (Book 4)   \n",
       "386  0439136350  Harry Potter and the Prisoner of Azkaban (Book 3)   \n",
       "474  043935806X  Harry Potter and the Order of the Phoenix (Boo...   \n",
       "469  0439064864   Harry Potter and the Chamber of Secrets (Book 2)   \n",
       "261  059035342X  Harry Potter and the Sorcerer's Stone (Harry P...   \n",
       "316  0590353403     Harry Potter and the Sorcerer's Stone (Book 1)   \n",
       "109  0385504209                                  The Da Vinci Code   \n",
       "67   0316666343                          The Lovely Bones: A Novel   \n",
       "5    0446310786                              To Kill a Mockingbird   \n",
       "511  0439136369  Harry Potter and the Prisoner of Azkaban (Book 3)   \n",
       "362  0345339681  The Hobbit : The Enchanting Prelude to The Lor...   \n",
       "17   0316769487                             The Catcher in the Rye   \n",
       "366  0439064872   Harry Potter and the Chamber of Secrets (Book 2)   \n",
       "266  0812550706      Ender's Game (Ender Wiggins Saga (Paperback))   \n",
       "79   0312195516                The Red Tent (Bestselling Backlist)   \n",
       "22   0786868716                 The Five People You Meet in Heaven   \n",
       "535  0439139600       Harry Potter and the Goblet of Fire (Book 4)   \n",
       "59   0142001740                            The Secret Life of Bees   \n",
       "273  0385484518  Tuesdays with Morrie: An Old Man, a Young Man,...   \n",
       "45   0452282152                          Girl with a Pearl Earring   \n",
       "\n",
       "          Book_Author Year_Of_Publication                   Publisher  \\\n",
       "468     J. K. Rowling                2000                  Scholastic   \n",
       "386     J. K. Rowling                1999                  Scholastic   \n",
       "474     J. K. Rowling                2003                  Scholastic   \n",
       "469     J. K. Rowling                1999                  Scholastic   \n",
       "261     J. K. Rowling                1999      Arthur A. Levine Books   \n",
       "316     J. K. Rowling                1998                  Scholastic   \n",
       "109         Dan Brown                2003                   Doubleday   \n",
       "67       Alice Sebold                2002               Little, Brown   \n",
       "5          Harper Lee                1988  Little Brown &amp; Company   \n",
       "511     J. K. Rowling                2001                  Scholastic   \n",
       "362    J.R.R. TOLKIEN                1986                     Del Rey   \n",
       "17      J.D. Salinger                1991               Little, Brown   \n",
       "366     J. K. Rowling                2000                  Scholastic   \n",
       "266  Orson Scott Card                1994                   Tor Books   \n",
       "79      Anita Diamant                1998                 Picador USA   \n",
       "22        Mitch Albom                2003                    Hyperion   \n",
       "535     J. K. Rowling                2002       Scholastic Paperbacks   \n",
       "59      Sue Monk Kidd                2003               Penguin Books   \n",
       "273       MITCH ALBOM                1997                   Doubleday   \n",
       "45    Tracy Chevalier                2001                 Plume Books   \n",
       "\n",
       "                                           Image_URL_S  Book_Rating  Votes  \\\n",
       "468  http://images.amazon.com/images/P/0439139597.0...     6.541237    194   \n",
       "386  http://images.amazon.com/images/P/0439136350.0...     6.467005    197   \n",
       "474  http://images.amazon.com/images/P/043935806X.0...     5.571856    334   \n",
       "469  http://images.amazon.com/images/P/0439064864.0...     6.611765    170   \n",
       "261  http://images.amazon.com/images/P/059035342X.0...     4.900175    571   \n",
       "316  http://images.amazon.com/images/P/0590353403.0...     6.363095    168   \n",
       "109  http://images.amazon.com/images/P/0385504209.0...     4.652322    883   \n",
       "67   http://images.amazon.com/images/P/0316666343.0...     4.468726   1295   \n",
       "5    http://images.amazon.com/images/P/0446310786.0...     4.920308    389   \n",
       "511  http://images.amazon.com/images/P/0439136369.0...     5.345133    226   \n",
       "362  http://images.amazon.com/images/P/0345339681.0...     5.007117    281   \n",
       "17   http://images.amazon.com/images/P/0316769487.0...     4.635236    403   \n",
       "366  http://images.amazon.com/images/P/0439064872.0...     4.729345    351   \n",
       "266  http://images.amazon.com/images/P/0812550706.0...     5.302564    195   \n",
       "79   http://images.amazon.com/images/P/0312195516.0...     4.334716    723   \n",
       "22   http://images.amazon.com/images/P/0786868716.0...     4.543326    427   \n",
       "535  http://images.amazon.com/images/P/0439139600.0...     5.103627    193   \n",
       "59   http://images.amazon.com/images/P/0142001740.0...     4.219512    615   \n",
       "273  http://images.amazon.com/images/P/0385484518.0...     4.406650    391   \n",
       "45   http://images.amazon.com/images/P/0452282152.0...     4.218631    526   \n",
       "\n",
       "        Score  \n",
       "468  4.452299  \n",
       "386  4.436147  \n",
       "474  4.404435  \n",
       "469  4.374515  \n",
       "261  4.284566  \n",
       "316  4.279817  \n",
       "109  4.262309  \n",
       "67   4.214598  \n",
       "5    4.137669  \n",
       "511  4.079909  \n",
       "362  4.037683  \n",
       "17   3.994004  \n",
       "366  3.993539  \n",
       "266  3.987704  \n",
       "79   3.982425  \n",
       "22   3.962085  \n",
       "535  3.907796  \n",
       "59   3.866006  \n",
       "273  3.857552  \n",
       "45   3.828287  "
      ]
     },
     "execution_count": 34,
     "metadata": {},
     "output_type": "execute_result"
    }
   ],
   "source": [
    "simple_recommender = rated_books.nlargest(20, 'Score')\n",
    "simple_recommender"
   ]
  },
  {
   "cell_type": "markdown",
   "id": "e9f548e1",
   "metadata": {},
   "source": [
    "### Save to file"
   ]
  },
  {
   "cell_type": "code",
   "execution_count": 37,
   "id": "762428fa",
   "metadata": {},
   "outputs": [],
   "source": [
    "simple_recommender.to_pickle(\"./pickle_files/simple_recommender.pkl\")"
   ]
  },
  {
   "cell_type": "markdown",
   "id": "6a852a10",
   "metadata": {},
   "source": [
    "### End of preprocessing"
   ]
  }
 ],
 "metadata": {
  "kernelspec": {
   "display_name": "Python 3 (ipykernel)",
   "language": "python",
   "name": "python3"
  },
  "language_info": {
   "codemirror_mode": {
    "name": "ipython",
    "version": 3
   },
   "file_extension": ".py",
   "mimetype": "text/x-python",
   "name": "python",
   "nbconvert_exporter": "python",
   "pygments_lexer": "ipython3",
   "version": "3.9.5"
  }
 },
 "nbformat": 4,
 "nbformat_minor": 5
}
