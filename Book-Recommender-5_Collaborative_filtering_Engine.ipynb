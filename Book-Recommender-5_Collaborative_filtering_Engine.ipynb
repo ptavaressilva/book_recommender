{
 "cells": [
  {
   "cell_type": "markdown",
   "id": "caa73e68",
   "metadata": {},
   "source": [
    "# Hybrid book recommender system - collaborative filtering engine"
   ]
  },
  {
   "cell_type": "markdown",
   "id": "3edcf32d",
   "metadata": {},
   "source": [
    "The objetive of this project is to create a hybrid book recommendation system that combines three types of recommenders:\n",
    "- Simple recommender\n",
    "- **Collaborative filtering engine**\n",
    "- ontent-based recommenders\n",
    "\n",
    "The dataset user is available at https://www.kaggle.com/arashnic/book-recommendation-dataset/version/1\n",
    "\n",
    "More information on the three types of recommenders available at https://www.datacamp.com/community/tutorials/recommender-systems-python (partial tutorial, using a different dataset).\n",
    "\n",
    "More information on collaborative filters on https://towardsdatascience.com/build-a-user-based-collaborative-filtering-recommendation-engine-for-anime-92d35921f304\n",
    "\n",
    "The filtering engine will be **user-based** (it will recommend products to a user that similar users have liked)."
   ]
  },
  {
   "cell_type": "markdown",
   "id": "7d9d64b0",
   "metadata": {},
   "source": [
    "### Imports"
   ]
  },
  {
   "cell_type": "code",
   "execution_count": 16,
   "id": "3fa07166",
   "metadata": {},
   "outputs": [],
   "source": [
    "import pandas as pd\n",
    "import numpy as np"
   ]
  },
  {
   "cell_type": "markdown",
   "id": "6bc0ffc1",
   "metadata": {},
   "source": [
    "### Load data"
   ]
  },
  {
   "cell_type": "code",
   "execution_count": 17,
   "id": "4c7a608b",
   "metadata": {},
   "outputs": [],
   "source": [
    "books = pd.read_pickle(\"./pickle_files/d1_books.pkl\")\n",
    "ratings = pd.read_pickle(\"./pickle_files/d1_ratings.pkl\")\n",
    "users = pd.read_pickle(\"./pickle_files/d1_users.pkl\")"
   ]
  },
  {
   "cell_type": "markdown",
   "id": "ab274599",
   "metadata": {},
   "source": [
    "## Approach"
   ]
  },
  {
   "cell_type": "markdown",
   "id": "6bdf5ba7",
   "metadata": {},
   "source": [
    "1. Determine which users are similar to the provided user.\n",
    "2. Determine which books those similar users liked.\n",
    "3. Recommend the books that the provided user hasn't rated yet."
   ]
  },
  {
   "cell_type": "markdown",
   "id": "8c2ee7b7",
   "metadata": {},
   "source": [
    "## Identify similar users"
   ]
  },
  {
   "cell_type": "markdown",
   "id": "e7b0840f",
   "metadata": {},
   "source": [
    "A user is considered similar if he/she likes similar books to the provided user."
   ]
  },
  {
   "cell_type": "code",
   "execution_count": 18,
   "id": "239507ea",
   "metadata": {},
   "outputs": [],
   "source": [
    "usefull_ratings = ratings.copy()"
   ]
  },
  {
   "cell_type": "code",
   "execution_count": 21,
   "id": "b3dbfe4a",
   "metadata": {},
   "outputs": [
    {
     "data": {
      "text/html": [
       "<div>\n",
       "<style scoped>\n",
       "    .dataframe tbody tr th:only-of-type {\n",
       "        vertical-align: middle;\n",
       "    }\n",
       "\n",
       "    .dataframe tbody tr th {\n",
       "        vertical-align: top;\n",
       "    }\n",
       "\n",
       "    .dataframe thead th {\n",
       "        text-align: right;\n",
       "    }\n",
       "</style>\n",
       "<table border=\"1\" class=\"dataframe\">\n",
       "  <thead>\n",
       "    <tr style=\"text-align: right;\">\n",
       "      <th></th>\n",
       "      <th>User_ID</th>\n",
       "      <th>ISBN</th>\n",
       "      <th>Book_Rating</th>\n",
       "    </tr>\n",
       "  </thead>\n",
       "  <tbody>\n",
       "    <tr>\n",
       "      <th>0</th>\n",
       "      <td>276725</td>\n",
       "      <td>034545104X</td>\n",
       "      <td>0</td>\n",
       "    </tr>\n",
       "    <tr>\n",
       "      <th>1</th>\n",
       "      <td>276726</td>\n",
       "      <td>0155061224</td>\n",
       "      <td>5</td>\n",
       "    </tr>\n",
       "    <tr>\n",
       "      <th>2</th>\n",
       "      <td>276727</td>\n",
       "      <td>0446520802</td>\n",
       "      <td>0</td>\n",
       "    </tr>\n",
       "    <tr>\n",
       "      <th>3</th>\n",
       "      <td>276729</td>\n",
       "      <td>052165615X</td>\n",
       "      <td>3</td>\n",
       "    </tr>\n",
       "    <tr>\n",
       "      <th>4</th>\n",
       "      <td>276729</td>\n",
       "      <td>0521795028</td>\n",
       "      <td>6</td>\n",
       "    </tr>\n",
       "  </tbody>\n",
       "</table>\n",
       "</div>"
      ],
      "text/plain": [
       "  User_ID        ISBN  Book_Rating\n",
       "0  276725  034545104X            0\n",
       "1  276726  0155061224            5\n",
       "2  276727  0446520802            0\n",
       "3  276729  052165615X            3\n",
       "4  276729  0521795028            6"
      ]
     },
     "execution_count": 21,
     "metadata": {},
     "output_type": "execute_result"
    }
   ],
   "source": [
    "usefull_ratings.head()"
   ]
  },
  {
   "cell_type": "code",
   "execution_count": 22,
   "id": "2226884f",
   "metadata": {},
   "outputs": [
    {
     "data": {
      "text/html": [
       "<div>\n",
       "<style scoped>\n",
       "    .dataframe tbody tr th:only-of-type {\n",
       "        vertical-align: middle;\n",
       "    }\n",
       "\n",
       "    .dataframe tbody tr th {\n",
       "        vertical-align: top;\n",
       "    }\n",
       "\n",
       "    .dataframe thead th {\n",
       "        text-align: right;\n",
       "    }\n",
       "</style>\n",
       "<table border=\"1\" class=\"dataframe\">\n",
       "  <thead>\n",
       "    <tr style=\"text-align: right;\">\n",
       "      <th></th>\n",
       "      <th>ISBN</th>\n",
       "      <th>Book_Rating</th>\n",
       "    </tr>\n",
       "    <tr>\n",
       "      <th>User_ID</th>\n",
       "      <th></th>\n",
       "      <th></th>\n",
       "    </tr>\n",
       "  </thead>\n",
       "  <tbody>\n",
       "    <tr>\n",
       "      <th>276725</th>\n",
       "      <td>034545104X</td>\n",
       "      <td>0</td>\n",
       "    </tr>\n",
       "    <tr>\n",
       "      <th>276726</th>\n",
       "      <td>0155061224</td>\n",
       "      <td>5</td>\n",
       "    </tr>\n",
       "    <tr>\n",
       "      <th>276727</th>\n",
       "      <td>0446520802</td>\n",
       "      <td>0</td>\n",
       "    </tr>\n",
       "    <tr>\n",
       "      <th>276729</th>\n",
       "      <td>052165615X</td>\n",
       "      <td>3</td>\n",
       "    </tr>\n",
       "    <tr>\n",
       "      <th>276729</th>\n",
       "      <td>0521795028</td>\n",
       "      <td>6</td>\n",
       "    </tr>\n",
       "    <tr>\n",
       "      <th>...</th>\n",
       "      <td>...</td>\n",
       "      <td>...</td>\n",
       "    </tr>\n",
       "    <tr>\n",
       "      <th>276704</th>\n",
       "      <td>1563526298</td>\n",
       "      <td>9</td>\n",
       "    </tr>\n",
       "    <tr>\n",
       "      <th>276706</th>\n",
       "      <td>0679447156</td>\n",
       "      <td>0</td>\n",
       "    </tr>\n",
       "    <tr>\n",
       "      <th>276709</th>\n",
       "      <td>0515107662</td>\n",
       "      <td>10</td>\n",
       "    </tr>\n",
       "    <tr>\n",
       "      <th>276721</th>\n",
       "      <td>0590442449</td>\n",
       "      <td>10</td>\n",
       "    </tr>\n",
       "    <tr>\n",
       "      <th>276723</th>\n",
       "      <td>05162443314</td>\n",
       "      <td>8</td>\n",
       "    </tr>\n",
       "  </tbody>\n",
       "</table>\n",
       "<p>1149780 rows × 2 columns</p>\n",
       "</div>"
      ],
      "text/plain": [
       "                ISBN  Book_Rating\n",
       "User_ID                          \n",
       "276725    034545104X            0\n",
       "276726    0155061224            5\n",
       "276727    0446520802            0\n",
       "276729    052165615X            3\n",
       "276729    0521795028            6\n",
       "...              ...          ...\n",
       "276704    1563526298            9\n",
       "276706    0679447156            0\n",
       "276709    0515107662           10\n",
       "276721    0590442449           10\n",
       "276723   05162443314            8\n",
       "\n",
       "[1149780 rows x 2 columns]"
      ]
     },
     "execution_count": 22,
     "metadata": {},
     "output_type": "execute_result"
    }
   ],
   "source": [
    "usefull_ratings.set_index('User_ID')"
   ]
  },
  {
   "cell_type": "code",
   "execution_count": 23,
   "id": "4e32b69e",
   "metadata": {},
   "outputs": [
    {
     "data": {
      "text/plain": [
       "Book_Rating\n",
       "0     716109\n",
       "8     103736\n",
       "10     78610\n",
       "7      76457\n",
       "9      67541\n",
       "5      50974\n",
       "6      36924\n",
       "4       8904\n",
       "3       5996\n",
       "2       2759\n",
       "1       1770\n",
       "dtype: int64"
      ]
     },
     "execution_count": 23,
     "metadata": {},
     "output_type": "execute_result"
    }
   ],
   "source": [
    "usefull_ratings.value_counts('Book_Rating')"
   ]
  },
  {
   "cell_type": "markdown",
   "id": "a9024833",
   "metadata": {},
   "source": [
    "### Remove inferred ratings"
   ]
  },
  {
   "cell_type": "markdown",
   "id": "707a74ca",
   "metadata": {},
   "source": [
    "Zero rating values are inferred, and not usefull for our purspose, so we'll drop them."
   ]
  },
  {
   "cell_type": "code",
   "execution_count": 38,
   "id": "c6ca58d4",
   "metadata": {},
   "outputs": [],
   "source": [
    "usefull_ratings = usefull_ratings.loc[usefull_ratings.Book_Rating != 0]"
   ]
  },
  {
   "cell_type": "code",
   "execution_count": 39,
   "id": "07df28f4",
   "metadata": {},
   "outputs": [
    {
     "data": {
      "text/plain": [
       "Book_Rating\n",
       "8     103736\n",
       "10     78610\n",
       "7      76457\n",
       "9      67541\n",
       "5      50974\n",
       "6      36924\n",
       "4       8904\n",
       "3       5996\n",
       "2       2759\n",
       "1       1770\n",
       "dtype: int64"
      ]
     },
     "execution_count": 39,
     "metadata": {},
     "output_type": "execute_result"
    }
   ],
   "source": [
    "usefull_ratings.value_counts('Book_Rating')"
   ]
  },
  {
   "cell_type": "code",
   "execution_count": 50,
   "id": "970e3c6d",
   "metadata": {},
   "outputs": [
    {
     "data": {
      "text/plain": [
       "<AxesSubplot:ylabel='Frequency'>"
      ]
     },
     "execution_count": 50,
     "metadata": {},
     "output_type": "execute_result"
    },
    {
     "data": {
      "image/png": "[encoded data removed]",
      "text/plain": [
       "<Figure size 432x288 with 1 Axes>"
      ]
     },
     "metadata": {
      "needs_background": "light"
     },
     "output_type": "display_data"
    }
   ],
   "source": [
    "usefull_ratings.Book_Rating\t.plot(kind = 'hist', \n",
    "                                  density = True, \n",
    "                                  figsize = [6,4], \n",
    "                                  xticks=[1,2,3,4,5,6,7,8,9,10], \n",
    "                                  yticks = [0.1, 0.2, 0.3],\n",
    "                                  grid = True)"
   ]
  },
  {
   "cell_type": "code",
   "execution_count": null,
   "id": "16c92ea6",
   "metadata": {},
   "outputs": [],
   "source": []
  },
  {
   "cell_type": "code",
   "execution_count": null,
   "id": "32f5e1cc",
   "metadata": {},
   "outputs": [],
   "source": []
  },
  {
   "cell_type": "code",
   "execution_count": null,
   "id": "c115df3b",
   "metadata": {},
   "outputs": [],
   "source": []
  },
  {
   "cell_type": "code",
   "execution_count": null,
   "id": "9a169790",
   "metadata": {},
   "outputs": [],
   "source": []
  },
  {
   "cell_type": "code",
   "execution_count": null,
   "id": "6d8e32b3",
   "metadata": {},
   "outputs": [],
   "source": []
  },
  {
   "cell_type": "code",
   "execution_count": null,
   "id": "175f01da",
   "metadata": {},
   "outputs": [],
   "source": []
  },
  {
   "cell_type": "markdown",
   "id": "18ea0d0d",
   "metadata": {},
   "source": [
    "### End of preprocessing"
   ]
  }
 ],
 "metadata": {
  "kernelspec": {
   "display_name": "Python 3 (ipykernel)",
   "language": "python",
   "name": "python3"
  },
  "language_info": {
   "codemirror_mode": {
    "name": "ipython",
    "version": 3
   },
   "file_extension": ".py",
   "mimetype": "text/x-python",
   "name": "python",
   "nbconvert_exporter": "python",
   "pygments_lexer": "ipython3",
   "version": "3.9.5"
  }
 },
 "nbformat": 4,
 "nbformat_minor": 5
}
