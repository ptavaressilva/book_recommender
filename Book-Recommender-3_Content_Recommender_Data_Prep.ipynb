{
 "cells": [
  {
   "cell_type": "markdown",
   "id": "caa73e68",
   "metadata": {},
   "source": [
    "# Hybrid book recommender system"
   ]
  },
  {
   "cell_type": "markdown",
   "id": "3edcf32d",
   "metadata": {},
   "source": [
    "The objetive of this project is to create a hybrid book recommendation system that combines three types of recommenders:\n",
    "- Simple recommender\n",
    "- Collaborative filtering engine\n",
    "- **Content-based recommenders**\n",
    "\n",
    "For this recommender we will use the dataset available at https://www.kaggle.com/sp1thas/book-depository-dataset?select=dataset.csv\n",
    "\n",
    "More information on the three types of recommenders available at https://www.datacamp.com/community/tutorials/recommender-systems-python (partial tutorial, using a different dataset)."
   ]
  },
  {
   "cell_type": "markdown",
   "id": "7d9d64b0",
   "metadata": {},
   "source": [
    "## Imports"
   ]
  },
  {
   "cell_type": "code",
   "execution_count": 1,
   "id": "3fa07166",
   "metadata": {},
   "outputs": [],
   "source": [
    "import pandas as pd\n",
    "import numpy as np"
   ]
  },
  {
   "cell_type": "markdown",
   "id": "529b3ac4",
   "metadata": {},
   "source": [
    "# Preprocess dataset.csv"
   ]
  },
  {
   "cell_type": "markdown",
   "id": "6bc0ffc1",
   "metadata": {},
   "source": [
    "## Load data"
   ]
  },
  {
   "cell_type": "code",
   "execution_count": 2,
   "id": "4c7a608b",
   "metadata": {},
   "outputs": [],
   "source": [
    "dataset_raw = pd.read_csv ('dataset2/dataset.csv',\n",
    "                         dtype={'authors':str,\n",
    "                                'categories':str,\n",
    "                                'description':str,\n",
    "                                'id':np.int32,\n",
    "                                'image-url':str,\n",
    "                                'isbn10':str,\n",
    "                                'isbn13':str,\n",
    "                                'lang':str,\n",
    "                                'title':str},\n",
    "                         parse_dates=['publication-date'],\n",
    "                         usecols=['authors',\n",
    "                                  'categories',\n",
    "                                  'description',\n",
    "                                  'id',\n",
    "                                  'image-url',\n",
    "                                  'isbn10',\n",
    "                                  'isbn13',\n",
    "                                  'lang',\n",
    "                                  'publication-date',\n",
    "                                  'title'])"
   ]
  },
  {
   "cell_type": "code",
   "execution_count": 3,
   "id": "69045d6e",
   "metadata": {},
   "outputs": [],
   "source": [
    "dataset_raw.rename(columns={'authors':'Authors',\n",
    "                          'categories':'Categories',\n",
    "                          'description':'Description',\n",
    "                          'id':'ID',\n",
    "                          'image-url':'Image_URL',\n",
    "                          'isbn10':'ISBN10',\n",
    "                          'isbn13':'ISBN13',\n",
    "                          'lang':'Language',\n",
    "                          'publication-date':'Publication_date',\n",
    "                          'title':'Title'},inplace=True)"
   ]
  },
  {
   "cell_type": "markdown",
   "id": "338123d7",
   "metadata": {},
   "source": [
    "## Explore 'dataset_raw'"
   ]
  },
  {
   "cell_type": "code",
   "execution_count": 4,
   "id": "ace7746c",
   "metadata": {},
   "outputs": [
    {
     "data": {
      "text/html": [
       "<div>\n",
       "<style scoped>\n",
       "    .dataframe tbody tr th:only-of-type {\n",
       "        vertical-align: middle;\n",
       "    }\n",
       "\n",
       "    .dataframe tbody tr th {\n",
       "        vertical-align: top;\n",
       "    }\n",
       "\n",
       "    .dataframe thead th {\n",
       "        text-align: right;\n",
       "    }\n",
       "</style>\n",
       "<table border=\"1\" class=\"dataframe\">\n",
       "  <thead>\n",
       "    <tr style=\"text-align: right;\">\n",
       "      <th></th>\n",
       "      <th>Authors</th>\n",
       "      <th>Categories</th>\n",
       "      <th>Description</th>\n",
       "      <th>ID</th>\n",
       "      <th>Image_URL</th>\n",
       "      <th>ISBN10</th>\n",
       "      <th>ISBN13</th>\n",
       "      <th>Language</th>\n",
       "      <th>Publication_date</th>\n",
       "      <th>Title</th>\n",
       "    </tr>\n",
       "  </thead>\n",
       "  <tbody>\n",
       "    <tr>\n",
       "      <th>0</th>\n",
       "      <td>[1]</td>\n",
       "      <td>[214, 220, 237, 2646, 2647, 2659, 2660, 2679]</td>\n",
       "      <td>SOLDIER FIVE is an elite soldier's explosive m...</td>\n",
       "      <td>-2095311218</td>\n",
       "      <td>https://d1w7fb2mkkr3kw.cloudfront.net/assets/i...</td>\n",
       "      <td>184018907X</td>\n",
       "      <td>9781840189070</td>\n",
       "      <td>en</td>\n",
       "      <td>2004-10-14</td>\n",
       "      <td>Soldier Five : The Real Truth About The Bravo ...</td>\n",
       "    </tr>\n",
       "    <tr>\n",
       "      <th>1</th>\n",
       "      <td>[2, 3]</td>\n",
       "      <td>[235, 3386]</td>\n",
       "      <td>John Moran and Carl Williams were the two bigg...</td>\n",
       "      <td>-2090952917</td>\n",
       "      <td>https://d1w7fb2mkkr3kw.cloudfront.net/assets/i...</td>\n",
       "      <td>184454737X</td>\n",
       "      <td>9781844547371</td>\n",
       "      <td>en</td>\n",
       "      <td>2009-03-13</td>\n",
       "      <td>Underbelly : The Gangland War</td>\n",
       "    </tr>\n",
       "    <tr>\n",
       "      <th>2</th>\n",
       "      <td>[4]</td>\n",
       "      <td>[358, 2630, 360, 2632]</td>\n",
       "      <td>Sir Phillip knew that Eloise Bridgerton was a ...</td>\n",
       "      <td>185860283</td>\n",
       "      <td>https://d1w7fb2mkkr3kw.cloudfront.net/assets/i...</td>\n",
       "      <td>8416327866</td>\n",
       "      <td>9788416327867</td>\n",
       "      <td>es</td>\n",
       "      <td>2020-04-30</td>\n",
       "      <td>A Sir Phillip, Con Amor</td>\n",
       "    </tr>\n",
       "  </tbody>\n",
       "</table>\n",
       "</div>"
      ],
      "text/plain": [
       "  Authors                                     Categories  \\\n",
       "0     [1]  [214, 220, 237, 2646, 2647, 2659, 2660, 2679]   \n",
       "1  [2, 3]                                    [235, 3386]   \n",
       "2     [4]                         [358, 2630, 360, 2632]   \n",
       "\n",
       "                                         Description          ID  \\\n",
       "0  SOLDIER FIVE is an elite soldier's explosive m... -2095311218   \n",
       "1  John Moran and Carl Williams were the two bigg... -2090952917   \n",
       "2  Sir Phillip knew that Eloise Bridgerton was a ...   185860283   \n",
       "\n",
       "                                           Image_URL      ISBN10  \\\n",
       "0  https://d1w7fb2mkkr3kw.cloudfront.net/assets/i...  184018907X   \n",
       "1  https://d1w7fb2mkkr3kw.cloudfront.net/assets/i...  184454737X   \n",
       "2  https://d1w7fb2mkkr3kw.cloudfront.net/assets/i...  8416327866   \n",
       "\n",
       "          ISBN13 Language Publication_date  \\\n",
       "0  9781840189070       en       2004-10-14   \n",
       "1  9781844547371       en       2009-03-13   \n",
       "2  9788416327867       es       2020-04-30   \n",
       "\n",
       "                                               Title  \n",
       "0  Soldier Five : The Real Truth About The Bravo ...  \n",
       "1                      Underbelly : The Gangland War  \n",
       "2                            A Sir Phillip, Con Amor  "
      ]
     },
     "execution_count": 4,
     "metadata": {},
     "output_type": "execute_result"
    }
   ],
   "source": [
    "dataset_raw.head(3)"
   ]
  },
  {
   "cell_type": "code",
   "execution_count": 5,
   "id": "9e6ffd7b",
   "metadata": {},
   "outputs": [
    {
     "data": {
      "text/plain": [
       "Authors             1109383\n",
       "Categories          1109383\n",
       "Description         1029296\n",
       "ID                  1109383\n",
       "Image_URL           1109356\n",
       "ISBN10              1109383\n",
       "ISBN13              1109383\n",
       "Language            1048976\n",
       "Publication_date    1106780\n",
       "Title               1109383\n",
       "dtype: int64"
      ]
     },
     "execution_count": 5,
     "metadata": {},
     "output_type": "execute_result"
    }
   ],
   "source": [
    "dataset_raw.count()"
   ]
  },
  {
   "cell_type": "code",
   "execution_count": 6,
   "id": "e23a4824",
   "metadata": {},
   "outputs": [
    {
     "data": {
      "text/plain": [
       "Authors                 0\n",
       "Categories              0\n",
       "Description         80087\n",
       "ID                      0\n",
       "Image_URL              27\n",
       "ISBN10                  0\n",
       "ISBN13                  0\n",
       "Language            60407\n",
       "Publication_date     2603\n",
       "Title                   0\n",
       "dtype: int64"
      ]
     },
     "execution_count": 6,
     "metadata": {},
     "output_type": "execute_result"
    }
   ],
   "source": [
    "dataset_raw.isna().sum()"
   ]
  },
  {
   "cell_type": "markdown",
   "id": "4f030771",
   "metadata": {},
   "source": [
    "7% of books don't have a description.\n",
    "5% don't have language defined.\n",
    "0,2% don't have publication dates."
   ]
  },
  {
   "cell_type": "markdown",
   "id": "0ddb9120",
   "metadata": {},
   "source": [
    "# Preprocess authors.csv"
   ]
  },
  {
   "cell_type": "markdown",
   "id": "324d82e7",
   "metadata": {},
   "source": [
    "## Load data"
   ]
  },
  {
   "cell_type": "code",
   "execution_count": 7,
   "id": "fa7fc110",
   "metadata": {},
   "outputs": [],
   "source": [
    "authors_raw = pd.read_csv('dataset2/authors.csv',\n",
    "                         dtype={'author_name':str,\n",
    "                                'author_id':np.int32})"
   ]
  },
  {
   "cell_type": "markdown",
   "id": "e968f266",
   "metadata": {},
   "source": [
    "### Explore 'authors_raw'"
   ]
  },
  {
   "cell_type": "code",
   "execution_count": 8,
   "id": "c13a4d97",
   "metadata": {},
   "outputs": [
    {
     "data": {
      "text/plain": [
       "<bound method NDFrame.describe of         author_id        author_name\n",
       "0            9561                NaN\n",
       "1          451324      # House Press\n",
       "2          454250      # Petal Press\n",
       "3          249724    #GARCIA MIGUELE\n",
       "4          287710  #Worldlcass Media\n",
       "...           ...                ...\n",
       "654016     237785                丘宏義\n",
       "654017      77701           國立彰化師範大學\n",
       "654018     410709                張成秋\n",
       "654019     618322                 灰雁\n",
       "654020     373580                 菊子\n",
       "\n",
       "[654021 rows x 2 columns]>"
      ]
     },
     "execution_count": 8,
     "metadata": {},
     "output_type": "execute_result"
    }
   ],
   "source": [
    "authors_raw.describe"
   ]
  },
  {
   "cell_type": "code",
   "execution_count": 10,
   "id": "258b4e9a",
   "metadata": {},
   "outputs": [],
   "source": [
    "authors_raw.rename(columns={'author_id':'Author_ID',\n",
    "                            'author_name':'Author_Name'},inplace=True)"
   ]
  },
  {
   "cell_type": "code",
   "execution_count": 18,
   "id": "75faf42c",
   "metadata": {},
   "outputs": [
    {
     "data": {
      "text/html": [
       "<div>\n",
       "<style scoped>\n",
       "    .dataframe tbody tr th:only-of-type {\n",
       "        vertical-align: middle;\n",
       "    }\n",
       "\n",
       "    .dataframe tbody tr th {\n",
       "        vertical-align: top;\n",
       "    }\n",
       "\n",
       "    .dataframe thead th {\n",
       "        text-align: right;\n",
       "    }\n",
       "</style>\n",
       "<table border=\"1\" class=\"dataframe\">\n",
       "  <thead>\n",
       "    <tr style=\"text-align: right;\">\n",
       "      <th></th>\n",
       "      <th>Author_ID</th>\n",
       "      <th>Author_Name</th>\n",
       "    </tr>\n",
       "  </thead>\n",
       "  <tbody>\n",
       "    <tr>\n",
       "      <th>0</th>\n",
       "      <td>9561</td>\n",
       "      <td>NaN</td>\n",
       "    </tr>\n",
       "    <tr>\n",
       "      <th>449420</th>\n",
       "      <td>5766</td>\n",
       "      <td>NaN</td>\n",
       "    </tr>\n",
       "  </tbody>\n",
       "</table>\n",
       "</div>"
      ],
      "text/plain": [
       "        Author_ID Author_Name\n",
       "0            9561         NaN\n",
       "449420       5766         NaN"
      ]
     },
     "execution_count": 18,
     "metadata": {},
     "output_type": "execute_result"
    }
   ],
   "source": [
    "authors_raw.loc[authors_raw['Author_Name'].isna()]"
   ]
  },
  {
   "cell_type": "markdown",
   "id": "24910fd6",
   "metadata": {},
   "source": [
    "Two authors have missing names, but we'll leave them, as books with (only) these authors will have NaN in the author list."
   ]
  },
  {
   "cell_type": "markdown",
   "id": "80dce102",
   "metadata": {},
   "source": [
    "# Preprocess categories.csv"
   ]
  },
  {
   "cell_type": "markdown",
   "id": "69d2de64",
   "metadata": {},
   "source": [
    "### Load data"
   ]
  },
  {
   "cell_type": "code",
   "execution_count": 25,
   "id": "91cc4c2d",
   "metadata": {},
   "outputs": [],
   "source": [
    "categories_raw = pd.read_csv ('dataset2/categories.csv')"
   ]
  },
  {
   "cell_type": "code",
   "execution_count": 26,
   "id": "246a52ca",
   "metadata": {},
   "outputs": [
    {
     "data": {
      "text/plain": [
       "Index(['category_id', 'category_name'], dtype='object')"
      ]
     },
     "execution_count": 26,
     "metadata": {},
     "output_type": "execute_result"
    }
   ],
   "source": [
    "categories_raw.columns"
   ]
  },
  {
   "cell_type": "code",
   "execution_count": 27,
   "id": "8131718c",
   "metadata": {},
   "outputs": [
    {
     "data": {
      "text/plain": [
       "category_id       int64\n",
       "category_name    object\n",
       "dtype: object"
      ]
     },
     "execution_count": 27,
     "metadata": {},
     "output_type": "execute_result"
    }
   ],
   "source": [
    "categories_raw.dtypes"
   ]
  },
  {
   "cell_type": "code",
   "execution_count": 28,
   "id": "2c281343",
   "metadata": {},
   "outputs": [],
   "source": [
    "categories_raw.rename(columns={'category_id':'Category_ID',\n",
    "                            'category_name':'Category_Name'},inplace=True)"
   ]
  },
  {
   "cell_type": "code",
   "execution_count": 29,
   "id": "3289ea1a",
   "metadata": {},
   "outputs": [
    {
     "data": {
      "text/html": [
       "<div>\n",
       "<style scoped>\n",
       "    .dataframe tbody tr th:only-of-type {\n",
       "        vertical-align: middle;\n",
       "    }\n",
       "\n",
       "    .dataframe tbody tr th {\n",
       "        vertical-align: top;\n",
       "    }\n",
       "\n",
       "    .dataframe thead th {\n",
       "        text-align: right;\n",
       "    }\n",
       "</style>\n",
       "<table border=\"1\" class=\"dataframe\">\n",
       "  <thead>\n",
       "    <tr style=\"text-align: right;\">\n",
       "      <th></th>\n",
       "      <th>Category_ID</th>\n",
       "      <th>Category_Name</th>\n",
       "    </tr>\n",
       "  </thead>\n",
       "  <tbody>\n",
       "    <tr>\n",
       "      <th>0</th>\n",
       "      <td>1998</td>\n",
       "      <td>.Net Programming</td>\n",
       "    </tr>\n",
       "    <tr>\n",
       "      <th>1</th>\n",
       "      <td>176</td>\n",
       "      <td>20th Century &amp; Contemporary Classical Music</td>\n",
       "    </tr>\n",
       "    <tr>\n",
       "      <th>2</th>\n",
       "      <td>3291</td>\n",
       "      <td>20th Century &amp; Contemporary Classical Music</td>\n",
       "    </tr>\n",
       "    <tr>\n",
       "      <th>3</th>\n",
       "      <td>2659</td>\n",
       "      <td>20th Century History: C 1900  To C 2000</td>\n",
       "    </tr>\n",
       "    <tr>\n",
       "      <th>4</th>\n",
       "      <td>2661</td>\n",
       "      <td>21st Century History: From C 2000 -</td>\n",
       "    </tr>\n",
       "  </tbody>\n",
       "</table>\n",
       "</div>"
      ],
      "text/plain": [
       "   Category_ID                                Category_Name\n",
       "0         1998                             .Net Programming\n",
       "1          176  20th Century & Contemporary Classical Music\n",
       "2         3291  20th Century & Contemporary Classical Music\n",
       "3         2659      20th Century History: C 1900  To C 2000\n",
       "4         2661          21st Century History: From C 2000 -"
      ]
     },
     "execution_count": 29,
     "metadata": {},
     "output_type": "execute_result"
    }
   ],
   "source": [
    "categories_raw.head()"
   ]
  },
  {
   "cell_type": "code",
   "execution_count": 30,
   "id": "a94ee35a",
   "metadata": {},
   "outputs": [
    {
     "data": {
      "text/plain": [
       "Category_ID      0\n",
       "Category_Name    0\n",
       "dtype: int64"
      ]
     },
     "execution_count": 30,
     "metadata": {},
     "output_type": "execute_result"
    }
   ],
   "source": [
    "categories_raw.isna().sum()"
   ]
  },
  {
   "cell_type": "markdown",
   "id": "490be603",
   "metadata": {},
   "source": [
    "No empty category names"
   ]
  },
  {
   "cell_type": "markdown",
   "id": "a7802609",
   "metadata": {},
   "source": [
    "# Preprocess formats.csv"
   ]
  },
  {
   "cell_type": "markdown",
   "id": "e246f4e3",
   "metadata": {},
   "source": [
    "### Load data"
   ]
  },
  {
   "cell_type": "code",
   "execution_count": 31,
   "id": "f6c7f6e0",
   "metadata": {},
   "outputs": [],
   "source": [
    "formats_raw = pd.read_csv ('dataset2/formats.csv')"
   ]
  },
  {
   "cell_type": "code",
   "execution_count": 33,
   "id": "46776254",
   "metadata": {},
   "outputs": [
    {
     "data": {
      "text/plain": [
       "format_id       int64\n",
       "format_name    object\n",
       "dtype: object"
      ]
     },
     "execution_count": 33,
     "metadata": {},
     "output_type": "execute_result"
    }
   ],
   "source": [
    "formats_raw.dtypes"
   ]
  },
  {
   "cell_type": "code",
   "execution_count": 34,
   "id": "4ff52b44",
   "metadata": {},
   "outputs": [],
   "source": [
    "formats_raw.rename(columns={'format_id':'Format_ID',\n",
    "                            'format_name':'Format_Name'},inplace=True)"
   ]
  },
  {
   "cell_type": "code",
   "execution_count": 35,
   "id": "d5f505d8",
   "metadata": {},
   "outputs": [
    {
     "data": {
      "text/html": [
       "<div>\n",
       "<style scoped>\n",
       "    .dataframe tbody tr th:only-of-type {\n",
       "        vertical-align: middle;\n",
       "    }\n",
       "\n",
       "    .dataframe tbody tr th {\n",
       "        vertical-align: top;\n",
       "    }\n",
       "\n",
       "    .dataframe thead th {\n",
       "        text-align: right;\n",
       "    }\n",
       "</style>\n",
       "<table border=\"1\" class=\"dataframe\">\n",
       "  <thead>\n",
       "    <tr style=\"text-align: right;\">\n",
       "      <th></th>\n",
       "      <th>Format_ID</th>\n",
       "      <th>Format_Name</th>\n",
       "    </tr>\n",
       "  </thead>\n",
       "  <tbody>\n",
       "    <tr>\n",
       "      <th>0</th>\n",
       "      <td>21</td>\n",
       "      <td>Address</td>\n",
       "    </tr>\n",
       "    <tr>\n",
       "      <th>1</th>\n",
       "      <td>5</td>\n",
       "      <td>Audio</td>\n",
       "    </tr>\n",
       "    <tr>\n",
       "      <th>2</th>\n",
       "      <td>27</td>\n",
       "      <td>Bath</td>\n",
       "    </tr>\n",
       "    <tr>\n",
       "      <th>3</th>\n",
       "      <td>44</td>\n",
       "      <td>Big</td>\n",
       "    </tr>\n",
       "    <tr>\n",
       "      <th>4</th>\n",
       "      <td>14</td>\n",
       "      <td>Board</td>\n",
       "    </tr>\n",
       "  </tbody>\n",
       "</table>\n",
       "</div>"
      ],
      "text/plain": [
       "   Format_ID Format_Name\n",
       "0         21     Address\n",
       "1          5       Audio\n",
       "2         27        Bath\n",
       "3         44         Big\n",
       "4         14       Board"
      ]
     },
     "execution_count": 35,
     "metadata": {},
     "output_type": "execute_result"
    }
   ],
   "source": [
    "formats_raw.head()"
   ]
  },
  {
   "cell_type": "code",
   "execution_count": 37,
   "id": "6cc80940",
   "metadata": {},
   "outputs": [
    {
     "data": {
      "text/plain": [
       "Format_ID      0\n",
       "Format_Name    0\n",
       "dtype: int64"
      ]
     },
     "execution_count": 37,
     "metadata": {},
     "output_type": "execute_result"
    }
   ],
   "source": [
    "formats_raw.isna().sum()"
   ]
  },
  {
   "cell_type": "markdown",
   "id": "3da70e60",
   "metadata": {},
   "source": [
    "No empty format names"
   ]
  },
  {
   "cell_type": "markdown",
   "id": "e6ff4ffe",
   "metadata": {},
   "source": [
    "# Export preprocessed dataframes"
   ]
  },
  {
   "cell_type": "code",
   "execution_count": 38,
   "id": "1fc1f8bf",
   "metadata": {},
   "outputs": [],
   "source": [
    "dataset_raw.to_pickle(\"./pickle_files/d2_dataset.pkl\")\n",
    "authors_raw.to_pickle(\"./pickle_files/d2_authors.pkl\")\n",
    "categories_raw.to_pickle(\"./pickle_files/d2_categories.pkl\")\n",
    "formats_raw.to_pickle(\"./pickle_files/d2_formats.pkl\")"
   ]
  },
  {
   "cell_type": "markdown",
   "id": "18ea0d0d",
   "metadata": {},
   "source": [
    "### End of preprocessing"
   ]
  }
 ],
 "metadata": {
  "kernelspec": {
   "display_name": "Python 3 (ipykernel)",
   "language": "python",
   "name": "python3"
  },
  "language_info": {
   "codemirror_mode": {
    "name": "ipython",
    "version": 3
   },
   "file_extension": ".py",
   "mimetype": "text/x-python",
   "name": "python",
   "nbconvert_exporter": "python",
   "pygments_lexer": "ipython3",
   "version": "3.9.5"
  }
 },
 "nbformat": 4,
 "nbformat_minor": 5
}
